{
  "cells": [
    {
      "attachments": {},
      "cell_type": "markdown",
      "metadata": {
        "colab_type": "text",
        "id": "KXw_htt7jJub"
      },
      "source": [
        "**1. Setup the environment variables**"
      ]
    },
    {
      "cell_type": "code",
      "execution_count": 1,
      "metadata": {
        "colab": {},
        "colab_type": "code",
        "id": "01XuUHc7zqYi"
      },
      "outputs": [
        {
          "name": "stdout",
          "output_type": "stream",
          "text": [
            "CPU times: user 22 µs, sys: 0 ns, total: 22 µs\n",
            "Wall time: 26.2 µs\n"
          ]
        }
      ],
      "source": [
        "%%time\n",
        "import os\n",
        "os.environ[\"JAVA_HOME\"] = \"/usr/lib/jvm/java-11-openjdk-amd64\"\n",
        "os.environ[\"SPARK_HOME\"] = \"/opt/spark\""
      ]
    },
    {
      "cell_type": "code",
      "execution_count": 3,
      "metadata": {
        "colab": {},
        "colab_type": "code",
        "id": "nefgCOpI0dB6"
      },
      "outputs": [
        {
          "name": "stderr",
          "output_type": "stream",
          "text": [
            "Setting default log level to \"WARN\".\n",
            "To adjust logging level use sc.setLogLevel(newLevel). For SparkR, use setLogLevel(newLevel).\n"
          ]
        },
        {
          "name": "stdout",
          "output_type": "stream",
          "text": [
            "CPU times: user 696 ms, sys: 277 ms, total: 973 ms\n",
            "Wall time: 6 s\n"
          ]
        }
      ],
      "source": [
        "%%time\n",
        "import findspark\n",
        "findspark.init()\n",
        "from pyspark.sql import SparkSession\n",
        "from pyspark.sql import functions \n",
        "from pyspark.sql.functions import col, avg\n",
        "import seaborn as sns\n",
        "spark = SparkSession.builder.appName(\"Lab6\").master(\"local[*]\").getOrCreate()"
      ]
    },
    {
      "cell_type": "code",
      "execution_count": 4,
      "metadata": {},
      "outputs": [],
      "source": [
        "# Code to calculate total time\n",
        "import time\n",
        "start_time = time.time()"
      ]
    },
    {
      "attachments": {},
      "cell_type": "markdown",
      "metadata": {},
      "source": [
        "**2. Data Preparation**"
      ]
    },
    {
      "cell_type": "code",
      "execution_count": 5,
      "metadata": {
        "colab": {},
        "colab_type": "code",
        "id": "ekK1Dyei2FFD"
      },
      "outputs": [
        {
          "name": "stderr",
          "output_type": "stream",
          "text": [
            "                                                                                \r"
          ]
        },
        {
          "name": "stdout",
          "output_type": "stream",
          "text": [
            "CPU times: user 6.49 ms, sys: 717 µs, total: 7.21 ms\n",
            "Wall time: 5.6 s\n"
          ]
        }
      ],
      "source": [
        "%%time\n",
        "file_loc = \"lab6/listings.csv\"\n",
        "airbnb_schema = spark.read.csv(file_loc, inferSchema=True, header=True, multiLine=True, quote='\"', escape='\"')"
      ]
    },
    {
      "cell_type": "code",
      "execution_count": 6,
      "metadata": {
        "colab": {
          "base_uri": "https://localhost:8080/",
          "height": 490
        },
        "colab_type": "code",
        "id": "kRh8AtHl2aK4",
        "outputId": "2f5b38f9-4266-4f68-f124-745df9062bbd"
      },
      "outputs": [
        {
          "name": "stderr",
          "output_type": "stream",
          "text": [
            "24/04/04 09:14:49 WARN SparkStringUtils: Truncated the string representation of a plan since it was too large. This behavior can be adjusted by setting 'spark.sql.debug.maxToStringFields'.\n"
          ]
        },
        {
          "name": "stdout",
          "output_type": "stream",
          "text": [
            "+------+--------------------+--------------+------------+---------------+--------------------+-----------+---------------------+--------------------+-------+--------------------+--------------+----------+----------------+--------------------+------------------+------------------+--------------------+-----------------+--------------------+--------------------+--------------------+-------------------+-------------------------+--------------------+--------------------+----------------------+--------------------+----------------------+----------------------------+-----------------+------------------+--------------------+---------------+------------+---------+--------------+--------+----+---------+-------+--------------+--------------+----------------------+----------------------+----------------------+----------------------+----------------------+----------------------+----------------+----------------+---------------+---------------+---------------+----------------+---------------------+-----------------+---------------------+----------------------+------------+-----------+--------------------+----------------------+-------------------------+---------------------+---------------------------+----------------------+-------------------+-----------+----------------+------------------------------+-------------------------------------------+--------------------------------------------+-------------------------------------------+-----------------+\n",
            "|    id|         listing_url|     scrape_id|last_scraped|         source|                name|description|neighborhood_overview|         picture_url|host_id|            host_url|     host_name|host_since|   host_location|          host_about|host_response_time|host_response_rate|host_acceptance_rate|host_is_superhost|  host_thumbnail_url|    host_picture_url|  host_neighbourhood|host_listings_count|host_total_listings_count|  host_verifications|host_has_profile_pic|host_identity_verified|       neighbourhood|neighbourhood_cleansed|neighbourhood_group_cleansed|         latitude|         longitude|       property_type|      room_type|accommodates|bathrooms|bathrooms_text|bedrooms|beds|amenities|  price|minimum_nights|maximum_nights|minimum_minimum_nights|maximum_minimum_nights|minimum_maximum_nights|maximum_maximum_nights|minimum_nights_avg_ntm|maximum_nights_avg_ntm|calendar_updated|has_availability|availability_30|availability_60|availability_90|availability_365|calendar_last_scraped|number_of_reviews|number_of_reviews_ltm|number_of_reviews_l30d|first_review|last_review|review_scores_rating|review_scores_accuracy|review_scores_cleanliness|review_scores_checkin|review_scores_communication|review_scores_location|review_scores_value|    license|instant_bookable|calculated_host_listings_count|calculated_host_listings_count_entire_homes|calculated_host_listings_count_private_rooms|calculated_host_listings_count_shared_rooms|reviews_per_month|\n",
            "+------+--------------------+--------------+------------+---------------+--------------------+-----------+---------------------+--------------------+-------+--------------------+--------------+----------+----------------+--------------------+------------------+------------------+--------------------+-----------------+--------------------+--------------------+--------------------+-------------------+-------------------------+--------------------+--------------------+----------------------+--------------------+----------------------+----------------------------+-----------------+------------------+--------------------+---------------+------------+---------+--------------+--------+----+---------+-------+--------------+--------------+----------------------+----------------------+----------------------+----------------------+----------------------+----------------------+----------------+----------------+---------------+---------------+---------------+----------------+---------------------+-----------------+---------------------+----------------------+------------+-----------+--------------------+----------------------+-------------------------+---------------------+---------------------------+----------------------+-------------------+-----------+----------------+------------------------------+-------------------------------------------+--------------------------------------------+-------------------------------------------+-----------------+\n",
            "| 17475|https://www.airbn...|20231213195414|  2023-12-14|    city scrape|Rental unit in 08...|       NULL|                 NULL|https://a0.muscac...|  65623|https://www.airbn...|          Luca|2009-12-25|     Rome, Italy|           Italian. |    within an hour|              100%|                 96%|                t|https://a0.muscac...|https://a0.muscac...| Dreta de l'Eixample|                  1|                        5|  ['email', 'phone']|                   t|                     t|                NULL|  la Dreta de l'Eix...|                    Eixample|         41.39939|           2.17044|  Entire rental unit|Entire home/apt|           3|     NULL|        1 bath|    NULL|   1|       []|$140.00|             5|            90|                     4|                     5|                    90|                    90|                   4.4|                  90.0|            NULL|               t|             24|             24|             24|              32|           2023-12-14|               26|                    9|                     1|  2010-07-10| 2023-12-04|                 4.4|                  4.74|                     4.21|                 4.79|                       4.68|                  4.84|               4.47|       NULL|               f|                             1|                                          1|                                           0|                                          0|             0.16|\n",
            "| 18674|https://www.airbn...|20231213195414|  2023-12-14|    city scrape|Rental unit in Ba...|       NULL| Apartment in Barc...|https://a0.muscac...|  71615|https://www.airbn...| Mireia  Maria|2010-01-19|Barcelona, Spain|We are Mireia (47...|    within an hour|               97%|                 87%|                f|https://a0.muscac...|https://a0.muscac...|  la Sagrada Família|                 47|                       48|  ['email', 'phone']|                   t|                     t|Barcelona, CT, Spain|    la Sagrada Família|                    Eixample|         41.40556|           2.17262|  Entire rental unit|Entire home/apt|           8|     NULL|       2 baths|    NULL|   6|       []|$121.00|             1|          1125|                     1|                     5|                  1125|                  1125|                   3.5|                1125.0|            NULL|               t|             12|             35|             39|              39|           2023-12-14|               40|                    7|                     0|  2013-05-27| 2023-11-07|                4.33|                  4.44|                     4.62|                 4.74|                       4.67|                  4.77|               4.28|HUTB-002062|               t|                            30|                                         30|                                           0|                                          0|             0.31|\n",
            "|198958|https://www.airbn...|20231213195414|  2023-12-14|    city scrape|Rental unit in Ba...|       NULL| The Illa del Llac...|https://a0.muscac...| 971768|https://www.airbn...|         Laura|2011-08-15|Barcelona, Spain|Owner and manager...|    within an hour|              100%|                 98%|                f|https://a0.muscac...|https://a0.muscac...|Diagonal Mar - La...|                 14|                       37|['phone', 'work_e...|                   t|                     t|    Barcelona, Spain|  Diagonal Mar i el...|                  Sant Martí|         41.40805|           2.21487|  Entire rental unit|Entire home/apt|           7|     NULL|       2 baths|    NULL|   6|       []|$304.00|             2|           365|                     2|                     4|                   365|                   365|                   2.3|                 365.0|            NULL|               t|             16|             31|             44|             137|           2023-12-14|              105|                   26|                     0|  2012-04-26| 2023-10-16|                4.69|                  4.85|                     4.54|                 4.77|                       4.87|                   4.8|               4.67|HUTB-000926|               f|                             9|                                          9|                                           0|                                          0|             0.74|\n",
            "|199794|https://www.airbn...|20231213195414|  2023-12-14|    city scrape|Rental unit in Ba...|       NULL| The apartment is ...|https://a0.muscac...| 440825|https://www.airbn...|        Teresa|2011-03-14|Barcelona, Spain|I live in Barcelo...|within a few hours|               90%|                 66%|                t|https://a0.muscac...|https://a0.muscac...|La Nova Esquerra ...|                  1|                        6|  ['email', 'phone']|                   t|                     t|Barcelona, Catalo...|  l'Antiga Esquerra...|                    Eixample|         41.38359|           2.15812|Private room in r...|   Private room|           1|     NULL|2 shared baths|    NULL|   1|       []| $48.00|             4|            35|                     3|                     4|                    35|                    35|                   4.0|                  35.0|            NULL|               t|              2|              5|              5|              18|           2023-12-14|              168|                   29|                     1|  2013-08-19| 2023-11-18|                 4.8|                  4.82|                     4.79|                 4.94|                       4.92|                  4.89|                4.8|     Exempt|               f|                             1|                                          0|                                           1|                                          0|             1.34|\n",
            "| 23197|https://www.airbn...|20231213195414|  2023-12-14|    city scrape|Rental unit in Sa...|       NULL| Strategically loc...|https://a0.muscac...|  90417|https://www.airbn...|Etain (Marnie)|2010-03-09|Catalonia, Spain|Hi there, I'm mar...|    within an hour|              100%|                 95%|                t|https://a0.muscac...|https://a0.muscac...|El Besòs i el Mar...|                  6|                       10|  ['email', 'phone']|                   t|                     t|Sant Adria de Bes...|  el Besòs i el Mar...|                  Sant Martí|41.41243172529066| 2.219750335269476|  Entire rental unit|Entire home/apt|           5|     NULL|       2 baths|    NULL|   4|       []|$200.00|             3|           300|                     3|                     7|                  1125|                  1125|                   4.2|                1125.0|            NULL|               t|             20|             45|             70|             300|           2023-12-14|               75|                   11|                     1|  2011-03-15| 2023-11-25|                4.77|                  4.92|                     4.88|                 4.93|                       4.97|                  4.59|               4.64| HUTB005057|               f|                             2|                                          2|                                           0|                                          0|             0.48|\n",
            "|206122|https://www.airbn...|20231213195414|  2023-12-14|    city scrape|Rental unit in Ba...|       NULL| The apartment is ...|https://a0.muscac...|1013855|https://www.airbn...|     Alejandro|2011-08-24|Barcelona, Spain|Hi I'm Alejandro,...|    within an hour|              100%|                100%|                t|https://a0.muscac...|https://a0.muscac...|      Vila de Gràcia|                  3|                       15|['email', 'phone'...|                   t|                     t|    Barcelona, Spain|     la Vila de Gràcia|                      Gràcia|         41.39877|           2.15887|  Entire rental unit|Entire home/apt|           4|     NULL|        1 bath|    NULL|   2|       []|$120.00|             4|           180|                     2|                     7|                    30|                  1125|                   4.4|                 831.8|            NULL|               t|              0|             19|             24|             129|           2023-12-14|              244|                   44|                     2|  2011-12-05| 2023-12-11|                4.71|                  4.81|                      4.8|                 4.77|                       4.81|                  4.88|               4.71|HUTB-004315|               t|                             1|                                          1|                                           0|                                          0|             1.67|\n",
            "| 32711|https://www.airbn...|20231213195414|  2023-12-14|    city scrape|Rental unit in Ba...|       NULL| What's nearby  <b...|https://a0.muscac...| 135703|https://www.airbn...|          Nick|2010-05-31|Barcelona, Spain|I'm Nick your Eng...|    within an hour|              100%|                100%|                f|https://a0.muscac...|https://a0.muscac...|Camp d'en Grassot...|                  3|                       15|['email', 'phone'...|                   t|                     t|Barcelona, Catalo...|  el Camp d'en Gras...|                      Gràcia|         41.40566|           2.17015|  Entire rental unit|Entire home/apt|           6|     NULL|     1.5 baths|    NULL|   3|       []| $79.00|             1|            31|                     1|                     1|                    31|                    31|                   1.0|                  31.0|            NULL|               t|             11|             37|             55|             297|           2023-12-14|               99|                   16|                     0|  2011-07-17| 2023-10-18|                4.48|                  4.46|                     4.49|                 4.87|                       4.86|                  4.87|               4.54|HUTB-001722|               t|                             3|                                          3|                                           0|                                          0|             0.66|\n",
            "|206167|https://www.airbn...|20231213195414|  2023-12-14|    city scrape|Rental unit in Ba...|       NULL| Poble Sec is a lo...|https://a0.muscac...|1014050|https://www.airbn...|       Minerva|2011-08-24|Barcelona, Spain|Me and my husband...|    within an hour|              100%|                 97%|                t|https://a0.muscac...|https://a0.muscac...|        El Poble-sec|                  1|                        1|['email', 'phone'...|                   t|                     t|Barcelona, Catalo...|          el Poble Sec|              Sants-Montjuïc|          41.3724|            2.1648|  Entire rental unit|Entire home/apt|           2|     NULL|        1 bath|    NULL|   1|       []|$150.00|             3|           365|                     3|                     3|                   365|                   365|                   3.0|                 365.0|            NULL|               t|              0|              0|              0|               0|           2023-12-14|              142|                   22|                     0|  2011-11-06| 2023-10-12|                4.88|                  4.93|                     4.86|                 4.95|                       4.99|                  4.88|                4.8|HUTB-009804|               f|                             1|                                          1|                                           0|                                          0|             0.96|\n",
            "|209673|https://www.airbn...|20231213195414|  2023-12-14|    city scrape|Rental unit in Ba...|       NULL| Gracia is a lovel...|https://a0.muscac...|1033366|https://www.airbn...|         Elena|2011-08-29|Barcelona, Spain|Hi, I´m Elena and...|    within an hour|              100%|                100%|                t|https://a0.muscac...|https://a0.muscac...|      Vila de Gràcia|                  1|                        1|  ['email', 'phone']|                   t|                     t|Barcelona, Catalo...|     la Vila de Gràcia|                      Gràcia|           41.398|            2.1553|  Entire rental unit|Entire home/apt|           4|     NULL|        1 bath|    NULL|   3|       []| $81.00|             2|          1125|                     1|                     2|                  1125|                  1125|                   2.0|                1125.0|            NULL|               t|              8|             21|             35|             235|           2023-12-14|              339|                   31|                     2|  2013-01-02| 2023-11-17|                4.78|                  4.84|                     4.75|                 4.97|                       4.98|                  4.92|               4.75|HUTB-010932|               f|                             1|                                          1|                                           0|                                          0|             2.54|\n",
            "| 34241|https://www.airbn...|20231213195414|  2023-12-14|    city scrape|Condo in Barcelon...|       NULL|                 NULL|https://a0.muscac...|  73163|https://www.airbn...|        Andres|2010-01-24|Barcelona, Spain|Hello I am a Prof...|    within an hour|              100%|                 99%|                f|https://a0.muscac...|https://a0.muscac...|            El Gòtic|                  3|                        3|['email', 'phone'...|                   t|                     t|                NULL|        el Barri Gòtic|                Ciutat Vella|         41.38062|           2.17517|        Entire condo|Entire home/apt|           2|     NULL|        1 bath|    NULL|   1|       []|$120.00|             5|           120|                     5|                     5|                   120|                   120|                   5.0|                 120.0|            NULL|               t|             30|             60|             90|              90|           2023-12-14|                8|                    0|                     0|  2010-07-10| 2013-07-15|                 3.4|                   4.0|                      3.8|                  3.6|                        4.6|                   4.2|                3.4|     Exempt|               f|                             3|                                          3|                                           0|                                          0|             0.05|\n",
            "|214970|https://www.airbn...|20231213195414|  2023-12-14|    city scrape|Rental unit in Ba...|       NULL| The location of m...|https://a0.muscac...|1110014|https://www.airbn...|        Janeth|2011-09-04|Barcelona, Spain|Here just a coupl...|      within a day|               75%|                 33%|                f|https://a0.muscac...|https://a0.muscac...|        El Poble-sec|                  1|                        1|  ['email', 'phone']|                   t|                     t|Barcelona, Catalo...|          el Poble Sec|              Sants-Montjuïc|         41.37042|           2.16411|Private room in r...|   Private room|           1|     NULL| 1 shared bath|    NULL|   1|       []| $35.00|             7|            90|                     5|                     7|                    90|                    90|                   7.0|                  90.0|            NULL|               t|             22|             52|             82|             357|           2023-12-14|              155|                    0|                     0|  2012-06-13| 2022-10-31|                4.66|                  4.82|                     4.92|                 4.74|                       4.69|                  4.69|               4.75|       NULL|               f|                             1|                                          0|                                           1|                                          0|             1.11|\n",
            "| 34981|https://www.airbn...|20231213195414|  2023-12-14|    city scrape|Rental unit in Ba...|       NULL| Located in Ciutat...|https://a0.muscac...|  73163|https://www.airbn...|        Andres|2010-01-24|Barcelona, Spain|Hello I am a Prof...|    within an hour|              100%|                 99%|                f|https://a0.muscac...|https://a0.muscac...|            El Gòtic|                  3|                        3|['email', 'phone'...|                   t|                     t|Barcelona, Catalo...|        el Barri Gòtic|                Ciutat Vella|         41.37978|           2.17623|  Entire rental unit|Entire home/apt|           9|     NULL|       3 baths|    NULL|   6|       []|$226.00|             5|           365|                     3|                     5|                  1125|                  1125|                   5.0|                1125.0|            NULL|               t|             13|             31|             61|             228|           2023-12-14|              217|                   27|                     1|  2010-10-03| 2023-11-26|                4.53|                   4.6|                     4.63|                 4.67|                        4.7|                  4.69|               4.42|HUTB-150671|               f|                             3|                                          3|                                           0|                                          0|             1.35|\n",
            "| 36763|https://www.airbn...|20231213195414|  2023-12-13|    city scrape|Rental unit in Ba...|       NULL| The neighbordhood...|https://a0.muscac...| 158596|https://www.airbn...|         Ester|2010-07-05|Barcelona, Spain|I live in a neigh...|      within a day|              100%|                 56%|                f|https://a0.muscac...|https://a0.muscac...|      La Barceloneta|                  1|                        1|  ['email', 'phone']|                   t|                     t|Barcelona, Catalo...|        la Barceloneta|                Ciutat Vella|         41.38043|           2.19094|Private room in r...|   Private room|           1|     NULL| 1 shared bath|    NULL|   1|       []| $30.00|            31|            65|                    31|                    31|                    65|                    65|                  31.0|                  65.0|            NULL|               t|             19|             19|             30|             210|           2023-12-13|              108|                    4|                     0|  2011-09-28| 2023-10-10|                 4.8|                  4.87|                     4.71|                 4.93|                       4.92|                  4.92|               4.82|       NULL|               f|                             1|                                          0|                                           1|                                          0|             0.73|\n",
            "|223096|https://www.airbn...|20231213195414|  2023-12-14|previous scrape|Loft in Barcelona...|       NULL| The apartment is ...|https://a0.muscac...| 874133|https://www.airbn...|       Barbara|2011-07-26|Barcelona, Spain|I love travelling...|               N/A|               N/A|                 77%|                t|https://a0.muscac...|https://a0.muscac...|      Sants-Montjuïc|                  1|                        1|  ['email', 'phone']|                   t|                     t|Barcelona, Catalo...|                 Sants|              Sants-Montjuïc|         41.37364|           2.13906|         Entire loft|Entire home/apt|           4|     NULL|       2 baths|    NULL|   2|       []|   NULL|            31|            96|                    31|                    31|                    96|                    96|                  31.0|                  96.0|            NULL|            NULL|              0|              0|              0|               0|           2023-12-14|               61|                   12|                     0|  2011-12-27| 2023-10-02|                4.81|                  4.83|                     4.59|                 4.88|                        4.9|                  4.62|               4.76|     Exempt|               f|                             1|                                          1|                                           0|                                          0|             0.42|\n",
            "|234375|https://www.airbn...|20231213195414|  2023-12-14|    city scrape|Rental unit in Ba...|       NULL|      Elegant quarter|https://a0.muscac...|1227290|https://www.airbn...|     Francesca|2011-09-29|Barcelona, Spain|                NULL|    within an hour|              100%|                100%|                f|https://a0.muscac...|https://a0.muscac...|       el Fort Pienc|                  1|                        1|  ['email', 'phone']|                   t|                     t|Barcelona, Catalo...|         el Fort Pienc|                    Eixample|41.39970016479492|2.1748878955841064|  Entire rental unit|Entire home/apt|           3|     NULL|        1 bath|    NULL|   2|       []|$161.00|             7|           130|                     4|                     7|                  1125|                  1125|                   7.0|                1125.0|            NULL|               t|             13|             43|             73|              73|           2023-12-14|               88|                   21|                     2|  2017-06-13| 2023-12-08|                4.66|                  4.86|                      4.7|                 4.82|                       4.88|                  4.82|               4.38|HUTB-003754|               f|                             1|                                          1|                                           0|                                          0|             1.11|\n",
            "| 40983|https://www.airbn...|20231213195414|  2023-12-14|    city scrape|Condo in Barcelon...|       NULL| Is a perfect neig...|https://a0.muscac...| 177617|https://www.airbn...|       Joaquin|2010-07-22|Barcelona, Spain|Hello\\nI'm Joaquí...|    within an hour|              100%|                 99%|                f|https://a0.muscac...|https://a0.muscac...| Dreta de l'Eixample|                 11|                       16|['email', 'phone'...|                   t|                     t|Barcelona, Catalo...|  la Dreta de l'Eix...|                    Eixample|         41.39631|           2.16832|        Entire condo|Entire home/apt|           4|     NULL|        1 bath|    NULL|   2|       []| $81.00|             2|           364|                     1|                     4|                   364|                   364|                   2.0|                 364.0|            NULL|               t|              6|             13|             30|             287|           2023-12-14|              290|                   39|                     1|  2011-06-16| 2023-11-16|                 4.4|                   4.5|                     4.44|                  4.8|                        4.8|                  4.88|                4.4|HUTB-001282|               f|                             6|                                          3|                                           3|                                          0|             1.91|\n",
            "| 41952|https://www.airbn...|20231213195414|  2023-12-14|    city scrape|Rental unit in Ba...|       NULL|                 NULL|https://a0.muscac...| 183340|https://www.airbn...|        Teresa|2010-07-28|Barcelona, Spain|My name is Teresa...|    within an hour|              100%|                 77%|                f|https://a0.muscac...|https://a0.muscac...|Camp d'en Grassot...|                  7|                       10|  ['email', 'phone']|                   t|                     t|                NULL|  el Camp d'en Gras...|                      Gràcia|         41.40568|           2.16943|  Entire rental unit|Entire home/apt|           4|     NULL|       2 baths|    NULL|   4|       []|$164.00|             3|           365|                     3|                     3|                  1125|                  1125|                   3.0|                1125.0|            NULL|               t|             22|             52|             78|             346|           2023-12-14|               75|                   14|                     0|  2012-05-14| 2023-09-10|                4.32|                  4.42|                     4.25|                 4.49|                        4.5|                   4.7|                4.3|HUTB-003549|               t|                             3|                                          3|                                           0|                                          0|             0.53|\n",
            "| 46153|https://www.airbn...|20231213195414|  2023-12-14|    city scrape|Rental unit in Ba...|       NULL| Centrally located...|https://a0.muscac...|  90417|https://www.airbn...|Etain (Marnie)|2010-03-09|Catalonia, Spain|Hi there, I'm mar...|    within an hour|              100%|                 95%|                t|https://a0.muscac...|https://a0.muscac...|El Besòs i el Mar...|                  6|                       10|  ['email', 'phone']|                   t|                     t|Barcelona, Catalo...|  Sant Pere, Santa ...|                Ciutat Vella|         41.38956|           2.17759|  Entire rental unit|Entire home/apt|           2|     NULL|        1 bath|    NULL|   3|       []| $70.00|            31|           186|                    31|                    31|                  1125|                  1125|                  31.0|                1125.0|            NULL|               t|             14|             14|             14|             243|           2023-12-14|                6|                    1|                     0|  2011-01-04| 2023-06-16|                4.17|                  4.17|                     3.67|                 4.33|                       4.33|                   4.5|               3.83|     Exempt|               f|                             2|                                          2|                                           0|                                          0|             0.04|\n",
            "| 49968|https://www.airbn...|20231213195414|  2023-12-14|    city scrape|Rental unit in Ba...|       NULL| What's nearby  <b...|https://a0.muscac...| 135703|https://www.airbn...|          Nick|2010-05-31|Barcelona, Spain|I'm Nick your Eng...|    within an hour|              100%|                100%|                f|https://a0.muscac...|https://a0.muscac...|Camp d'en Grassot...|                  3|                       15|['email', 'phone'...|                   t|                     t|Barcelona, CT, Spain|  el Camp d'en Gras...|                      Gràcia|          41.4057|           2.17016|  Entire rental unit|Entire home/apt|           6|     NULL|        1 bath|    NULL|   7|       []| $79.00|             1|            31|                     1|                    21|                    31|                    31|                   3.9|                  31.0|            NULL|               t|             13|             39|             57|             305|           2023-12-14|               89|                   22|                     2|  2011-08-12| 2023-11-25|                 4.6|                  4.79|                     4.38|                 4.92|                       4.94|                  4.86|               4.56|HUTB-001723|               t|                             3|                                          3|                                           0|                                          0|             0.59|\n",
            "|238703|https://www.airbn...|20231213195414|  2023-12-14|    city scrape|Rental unit in Ba...|       NULL| Apartment is loca...|https://a0.muscac...| 567180|https://www.airbn...|        Sandra|2011-05-08|Barcelona, Spain| Suite Home Sagra...|    within an hour|              100%|                 98%|                f|https://a0.muscac...|https://a0.muscac...|  la Sagrada Familia|                 19|                       19|  ['email', 'phone']|                   t|                     t|Barcelona, Catalo...|    la Sagrada Família|                    Eixample|         41.40653|            2.1746|  Entire rental unit|Entire home/apt|           8|     NULL|       2 baths|    NULL|   7|       []|$248.00|             2|            30|                     1|                     3|                    30|                    30|                   2.0|                  30.0|            NULL|               t|             24|             54|             60|              79|           2023-12-14|               89|                    8|                     0|  2014-07-02| 2023-11-04|                4.37|                  4.41|                     4.43|                 4.46|                       4.64|                  4.87|                4.4| HUTB000330|               f|                            19|                                         19|                                           0|                                          0|             0.77|\n",
            "+------+--------------------+--------------+------------+---------------+--------------------+-----------+---------------------+--------------------+-------+--------------------+--------------+----------+----------------+--------------------+------------------+------------------+--------------------+-----------------+--------------------+--------------------+--------------------+-------------------+-------------------------+--------------------+--------------------+----------------------+--------------------+----------------------+----------------------------+-----------------+------------------+--------------------+---------------+------------+---------+--------------+--------+----+---------+-------+--------------+--------------+----------------------+----------------------+----------------------+----------------------+----------------------+----------------------+----------------+----------------+---------------+---------------+---------------+----------------+---------------------+-----------------+---------------------+----------------------+------------+-----------+--------------------+----------------------+-------------------------+---------------------+---------------------------+----------------------+-------------------+-----------+----------------+------------------------------+-------------------------------------------+--------------------------------------------+-------------------------------------------+-----------------+\n",
            "only showing top 20 rows\n",
            "\n"
          ]
        },
        {
          "name": "stderr",
          "output_type": "stream",
          "text": [
            "[Stage 3:>                                                          (0 + 1) / 1]\r"
          ]
        },
        {
          "name": "stdout",
          "output_type": "stream",
          "text": [
            "Total number of records in the dataset -  18321\n",
            "CPU times: user 5.8 ms, sys: 6.04 ms, total: 11.8 ms\n",
            "Wall time: 5.19 s\n"
          ]
        },
        {
          "name": "stderr",
          "output_type": "stream",
          "text": [
            "                                                                                \r"
          ]
        }
      ],
      "source": [
        "%%time\n",
        "airbnb_schema.show()\n",
        "print(\"Total number of records in the dataset - \", airbnb_schema.count())"
      ]
    },
    {
      "attachments": {},
      "cell_type": "markdown",
      "metadata": {
        "colab_type": "text",
        "id": "GtYIymq5LrwA"
      },
      "source": [
        "**3. Print the dataset schema to understand the type of data we are dealing with.**"
      ]
    },
    {
      "cell_type": "code",
      "execution_count": 7,
      "metadata": {
        "colab": {
          "base_uri": "https://localhost:8080/",
          "height": 319
        },
        "colab_type": "code",
        "id": "hrlLScdlIt4B",
        "outputId": "5cc21534-cb23-4d38-d125-e015b1828e22"
      },
      "outputs": [
        {
          "name": "stdout",
          "output_type": "stream",
          "text": [
            "root\n",
            " |-- id: long (nullable = true)\n",
            " |-- listing_url: string (nullable = true)\n",
            " |-- scrape_id: long (nullable = true)\n",
            " |-- last_scraped: date (nullable = true)\n",
            " |-- source: string (nullable = true)\n",
            " |-- name: string (nullable = true)\n",
            " |-- description: string (nullable = true)\n",
            " |-- neighborhood_overview: string (nullable = true)\n",
            " |-- picture_url: string (nullable = true)\n",
            " |-- host_id: integer (nullable = true)\n",
            " |-- host_url: string (nullable = true)\n",
            " |-- host_name: string (nullable = true)\n",
            " |-- host_since: date (nullable = true)\n",
            " |-- host_location: string (nullable = true)\n",
            " |-- host_about: string (nullable = true)\n",
            " |-- host_response_time: string (nullable = true)\n",
            " |-- host_response_rate: string (nullable = true)\n",
            " |-- host_acceptance_rate: string (nullable = true)\n",
            " |-- host_is_superhost: string (nullable = true)\n",
            " |-- host_thumbnail_url: string (nullable = true)\n",
            " |-- host_picture_url: string (nullable = true)\n",
            " |-- host_neighbourhood: string (nullable = true)\n",
            " |-- host_listings_count: integer (nullable = true)\n",
            " |-- host_total_listings_count: integer (nullable = true)\n",
            " |-- host_verifications: string (nullable = true)\n",
            " |-- host_has_profile_pic: string (nullable = true)\n",
            " |-- host_identity_verified: string (nullable = true)\n",
            " |-- neighbourhood: string (nullable = true)\n",
            " |-- neighbourhood_cleansed: string (nullable = true)\n",
            " |-- neighbourhood_group_cleansed: string (nullable = true)\n",
            " |-- latitude: double (nullable = true)\n",
            " |-- longitude: double (nullable = true)\n",
            " |-- property_type: string (nullable = true)\n",
            " |-- room_type: string (nullable = true)\n",
            " |-- accommodates: integer (nullable = true)\n",
            " |-- bathrooms: string (nullable = true)\n",
            " |-- bathrooms_text: string (nullable = true)\n",
            " |-- bedrooms: integer (nullable = true)\n",
            " |-- beds: integer (nullable = true)\n",
            " |-- amenities: string (nullable = true)\n",
            " |-- price: string (nullable = true)\n",
            " |-- minimum_nights: integer (nullable = true)\n",
            " |-- maximum_nights: integer (nullable = true)\n",
            " |-- minimum_minimum_nights: integer (nullable = true)\n",
            " |-- maximum_minimum_nights: integer (nullable = true)\n",
            " |-- minimum_maximum_nights: integer (nullable = true)\n",
            " |-- maximum_maximum_nights: integer (nullable = true)\n",
            " |-- minimum_nights_avg_ntm: double (nullable = true)\n",
            " |-- maximum_nights_avg_ntm: double (nullable = true)\n",
            " |-- calendar_updated: string (nullable = true)\n",
            " |-- has_availability: string (nullable = true)\n",
            " |-- availability_30: integer (nullable = true)\n",
            " |-- availability_60: integer (nullable = true)\n",
            " |-- availability_90: integer (nullable = true)\n",
            " |-- availability_365: integer (nullable = true)\n",
            " |-- calendar_last_scraped: date (nullable = true)\n",
            " |-- number_of_reviews: integer (nullable = true)\n",
            " |-- number_of_reviews_ltm: integer (nullable = true)\n",
            " |-- number_of_reviews_l30d: integer (nullable = true)\n",
            " |-- first_review: date (nullable = true)\n",
            " |-- last_review: date (nullable = true)\n",
            " |-- review_scores_rating: double (nullable = true)\n",
            " |-- review_scores_accuracy: double (nullable = true)\n",
            " |-- review_scores_cleanliness: double (nullable = true)\n",
            " |-- review_scores_checkin: double (nullable = true)\n",
            " |-- review_scores_communication: double (nullable = true)\n",
            " |-- review_scores_location: double (nullable = true)\n",
            " |-- review_scores_value: double (nullable = true)\n",
            " |-- license: string (nullable = true)\n",
            " |-- instant_bookable: string (nullable = true)\n",
            " |-- calculated_host_listings_count: integer (nullable = true)\n",
            " |-- calculated_host_listings_count_entire_homes: integer (nullable = true)\n",
            " |-- calculated_host_listings_count_private_rooms: integer (nullable = true)\n",
            " |-- calculated_host_listings_count_shared_rooms: integer (nullable = true)\n",
            " |-- reviews_per_month: double (nullable = true)\n",
            "\n",
            "CPU times: user 0 ns, sys: 1.56 ms, total: 1.56 ms\n",
            "Wall time: 5.45 ms\n"
          ]
        }
      ],
      "source": [
        "%%time\n",
        "airbnb_schema.printSchema()"
      ]
    },
    {
      "cell_type": "code",
      "execution_count": 8,
      "metadata": {
        "colab": {
          "base_uri": "https://localhost:8080/",
          "height": 302
        },
        "colab_type": "code",
        "id": "0QpdKiLFIxyq",
        "outputId": "e347275d-fd9c-4340-9b7a-087d923e720b"
      },
      "outputs": [
        {
          "name": "stdout",
          "output_type": "stream",
          "text": [
            "Count of null values for each feature: \n"
          ]
        },
        {
          "name": "stderr",
          "output_type": "stream",
          "text": [
            "                                                                                \r"
          ]
        },
        {
          "name": "stdout",
          "output_type": "stream",
          "text": [
            "id :  0\n"
          ]
        },
        {
          "name": "stderr",
          "output_type": "stream",
          "text": [
            "                                                                                \r"
          ]
        },
        {
          "name": "stdout",
          "output_type": "stream",
          "text": [
            "listing_url :  0\n",
            "scrape_id :  0\n",
            "last_scraped :  0\n",
            "source :  0\n",
            "name :  0\n",
            "description :  18321\n",
            "neighborhood_overview :  8273\n",
            "picture_url :  0\n",
            "host_id :  0\n",
            "host_url :  0\n",
            "host_name :  2\n",
            "host_since :  2\n",
            "host_location :  4193\n",
            "host_about :  6759\n",
            "host_response_time :  2\n",
            "host_response_rate :  2\n",
            "host_acceptance_rate :  2\n",
            "host_is_superhost :  78\n",
            "host_thumbnail_url :  2\n",
            "host_picture_url :  2\n",
            "host_neighbourhood :  8958\n",
            "host_listings_count :  2\n",
            "host_total_listings_count :  2\n",
            "host_verifications :  0\n",
            "host_has_profile_pic :  2\n",
            "host_identity_verified :  2\n",
            "neighbourhood :  8273\n",
            "neighbourhood_cleansed :  0\n",
            "neighbourhood_group_cleansed :  0\n",
            "latitude :  0\n",
            "longitude :  0\n",
            "property_type :  0\n",
            "room_type :  0\n",
            "accommodates :  0\n",
            "bathrooms :  18321\n",
            "bathrooms_text :  10\n",
            "bedrooms :  18319\n",
            "beds :  317\n",
            "amenities :  0\n",
            "price :  2265\n",
            "minimum_nights :  0\n"
          ]
        },
        {
          "name": "stderr",
          "output_type": "stream",
          "text": [
            "                                                                                \r"
          ]
        },
        {
          "name": "stdout",
          "output_type": "stream",
          "text": [
            "maximum_nights :  0\n"
          ]
        },
        {
          "name": "stderr",
          "output_type": "stream",
          "text": [
            "                                                                                \r"
          ]
        },
        {
          "name": "stdout",
          "output_type": "stream",
          "text": [
            "minimum_minimum_nights :  0\n"
          ]
        },
        {
          "name": "stderr",
          "output_type": "stream",
          "text": [
            "                                                                                \r"
          ]
        },
        {
          "name": "stdout",
          "output_type": "stream",
          "text": [
            "maximum_minimum_nights :  0\n"
          ]
        },
        {
          "name": "stderr",
          "output_type": "stream",
          "text": [
            "                                                                                \r"
          ]
        },
        {
          "name": "stdout",
          "output_type": "stream",
          "text": [
            "minimum_maximum_nights :  0\n",
            "maximum_maximum_nights :  0\n",
            "minimum_nights_avg_ntm :  0\n",
            "maximum_nights_avg_ntm :  0\n",
            "calendar_updated :  18321\n",
            "has_availability :  2265\n",
            "availability_30 :  0\n",
            "availability_60 :  0\n",
            "availability_90 :  0\n",
            "availability_365 :  0\n",
            "calendar_last_scraped :  0\n",
            "number_of_reviews :  0\n",
            "number_of_reviews_ltm :  0\n",
            "number_of_reviews_l30d :  0\n",
            "first_review :  4369\n",
            "last_review :  4369\n",
            "review_scores_rating :  4362\n",
            "review_scores_accuracy :  4365\n",
            "review_scores_cleanliness :  4365\n",
            "review_scores_checkin :  4369\n",
            "review_scores_communication :  4363\n",
            "review_scores_location :  4370\n",
            "review_scores_value :  4369\n",
            "license :  5917\n",
            "instant_bookable :  0\n",
            "calculated_host_listings_count :  0\n",
            "calculated_host_listings_count_entire_homes :  0\n",
            "calculated_host_listings_count_private_rooms :  0\n",
            "calculated_host_listings_count_shared_rooms :  0\n",
            "reviews_per_month :  4369\n",
            "CPU times: user 158 ms, sys: 41.5 ms, total: 200 ms\n",
            "Wall time: 41.1 s\n"
          ]
        }
      ],
      "source": [
        "%%time\n",
        "# Check for count of null values in each column of the dataframe.\n",
        "print(\"Count of null values for each feature: \")\n",
        "for col in airbnb_schema.columns:\n",
        "  print(col, \": \", airbnb_schema.where(airbnb_schema[col].isNull()).count())"
      ]
    },
    {
      "attachments": {},
      "cell_type": "markdown",
      "metadata": {
        "colab_type": "text",
        "id": "fA5adqdtKMgd"
      },
      "source": [
        "*We see that there are a lot of nulls by observing the first 20 rows of the dataset above. So, we checked the count of null values in each column of the dataset.*"
      ]
    },
    {
      "attachments": {},
      "cell_type": "markdown",
      "metadata": {
        "colab_type": "text",
        "id": "Dal1gJWWlt57"
      },
      "source": [
        "**3. Drop some columns which are not important for analyzing the data.**"
      ]
    },
    {
      "cell_type": "code",
      "execution_count": 9,
      "metadata": {
        "colab": {},
        "colab_type": "code",
        "id": "j2XcU-rDYg0E"
      },
      "outputs": [
        {
          "name": "stdout",
          "output_type": "stream",
          "text": [
            "CPU times: user 7.23 ms, sys: 0 ns, total: 7.23 ms\n",
            "Wall time: 155 ms\n"
          ]
        }
      ],
      "source": [
        "%%time\n",
        "airbnb_schema = airbnb_schema.select(\"name\", \"host_id\", \"neighbourhood_group_cleansed\", \"neighbourhood_cleansed\", \"latitude\", \"longitude\", \"room_type\", \"price\", \"minimum_nights\", \"number_of_reviews\", \"reviews_per_month\", \"calculated_host_listings_count\", \"availability_365\")"
      ]
    },
    {
      "cell_type": "code",
      "execution_count": 10,
      "metadata": {},
      "outputs": [
        {
          "name": "stdout",
          "output_type": "stream",
          "text": [
            "root\n",
            " |-- name: string (nullable = true)\n",
            " |-- host_id: integer (nullable = true)\n",
            " |-- neighbourhood_group_cleansed: string (nullable = true)\n",
            " |-- neighbourhood_cleansed: string (nullable = true)\n",
            " |-- latitude: double (nullable = true)\n",
            " |-- longitude: double (nullable = true)\n",
            " |-- room_type: string (nullable = true)\n",
            " |-- price: string (nullable = true)\n",
            " |-- minimum_nights: integer (nullable = true)\n",
            " |-- number_of_reviews: integer (nullable = true)\n",
            " |-- reviews_per_month: double (nullable = true)\n",
            " |-- calculated_host_listings_count: integer (nullable = true)\n",
            " |-- availability_365: integer (nullable = true)\n",
            "\n",
            "CPU times: user 0 ns, sys: 971 µs, total: 971 µs\n",
            "Wall time: 2.3 ms\n"
          ]
        }
      ],
      "source": [
        "%%time\n",
        "airbnb_schema.printSchema()"
      ]
    },
    {
      "cell_type": "markdown",
      "metadata": {},
      "source": [
        "The column 'price' has the data type of string as we saw with printSchema(). Each data instance of the column has the format of '%d$'. We first have to convert the data type of the column to int before further analysis."
      ]
    },
    {
      "cell_type": "code",
      "execution_count": 11,
      "metadata": {},
      "outputs": [
        {
          "name": "stdout",
          "output_type": "stream",
          "text": [
            "string\n",
            "CPU times: user 1.73 ms, sys: 529 µs, total: 2.26 ms\n",
            "Wall time: 12.6 ms\n"
          ]
        }
      ],
      "source": [
        "%%time\n",
        "data_type = airbnb_schema.select('price').dtypes[0][1]\n",
        "print(data_type)"
      ]
    },
    {
      "cell_type": "code",
      "execution_count": 12,
      "metadata": {},
      "outputs": [
        {
          "name": "stdout",
          "output_type": "stream",
          "text": [
            "+--------------------+-------+----------------------------+----------------------+-----------------+------------------+---------------+------+--------------+-----------------+-----------------+------------------------------+----------------+\n",
            "|                name|host_id|neighbourhood_group_cleansed|neighbourhood_cleansed|         latitude|         longitude|      room_type| price|minimum_nights|number_of_reviews|reviews_per_month|calculated_host_listings_count|availability_365|\n",
            "+--------------------+-------+----------------------------+----------------------+-----------------+------------------+---------------+------+--------------+-----------------+-----------------+------------------------------+----------------+\n",
            "|Rental unit in 08...|  65623|                    Eixample|  la Dreta de l'Eix...|         41.39939|           2.17044|Entire home/apt|140.00|             5|               26|             0.16|                             1|              32|\n",
            "|Rental unit in Ba...|  71615|                    Eixample|    la Sagrada Família|         41.40556|           2.17262|Entire home/apt|121.00|             1|               40|             0.31|                            30|              39|\n",
            "|Rental unit in Ba...| 971768|                  Sant Martí|  Diagonal Mar i el...|         41.40805|           2.21487|Entire home/apt|304.00|             2|              105|             0.74|                             9|             137|\n",
            "|Rental unit in Ba...| 440825|                    Eixample|  l'Antiga Esquerra...|         41.38359|           2.15812|   Private room| 48.00|             4|              168|             1.34|                             1|              18|\n",
            "|Rental unit in Sa...|  90417|                  Sant Martí|  el Besòs i el Mar...|41.41243172529066| 2.219750335269476|Entire home/apt|200.00|             3|               75|             0.48|                             2|             300|\n",
            "|Rental unit in Ba...|1013855|                      Gràcia|     la Vila de Gràcia|         41.39877|           2.15887|Entire home/apt|120.00|             4|              244|             1.67|                             1|             129|\n",
            "|Rental unit in Ba...| 135703|                      Gràcia|  el Camp d'en Gras...|         41.40566|           2.17015|Entire home/apt| 79.00|             1|               99|             0.66|                             3|             297|\n",
            "|Rental unit in Ba...|1014050|              Sants-Montjuïc|          el Poble Sec|          41.3724|            2.1648|Entire home/apt|150.00|             3|              142|             0.96|                             1|               0|\n",
            "|Rental unit in Ba...|1033366|                      Gràcia|     la Vila de Gràcia|           41.398|            2.1553|Entire home/apt| 81.00|             2|              339|             2.54|                             1|             235|\n",
            "|Condo in Barcelon...|  73163|                Ciutat Vella|        el Barri Gòtic|         41.38062|           2.17517|Entire home/apt|120.00|             5|                8|             0.05|                             3|              90|\n",
            "|Rental unit in Ba...|1110014|              Sants-Montjuïc|          el Poble Sec|         41.37042|           2.16411|   Private room| 35.00|             7|              155|             1.11|                             1|             357|\n",
            "|Rental unit in Ba...|  73163|                Ciutat Vella|        el Barri Gòtic|         41.37978|           2.17623|Entire home/apt|226.00|             5|              217|             1.35|                             3|             228|\n",
            "|Rental unit in Ba...| 158596|                Ciutat Vella|        la Barceloneta|         41.38043|           2.19094|   Private room| 30.00|            31|              108|             0.73|                             1|             210|\n",
            "|Loft in Barcelona...| 874133|              Sants-Montjuïc|                 Sants|         41.37364|           2.13906|Entire home/apt|  NULL|            31|               61|             0.42|                             1|               0|\n",
            "|Rental unit in Ba...|1227290|                    Eixample|         el Fort Pienc|41.39970016479492|2.1748878955841064|Entire home/apt|161.00|             7|               88|             1.11|                             1|              73|\n",
            "|Condo in Barcelon...| 177617|                    Eixample|  la Dreta de l'Eix...|         41.39631|           2.16832|Entire home/apt| 81.00|             2|              290|             1.91|                             6|             287|\n",
            "|Rental unit in Ba...| 183340|                      Gràcia|  el Camp d'en Gras...|         41.40568|           2.16943|Entire home/apt|164.00|             3|               75|             0.53|                             3|             346|\n",
            "|Rental unit in Ba...|  90417|                Ciutat Vella|  Sant Pere, Santa ...|         41.38956|           2.17759|Entire home/apt| 70.00|            31|                6|             0.04|                             2|             243|\n",
            "|Rental unit in Ba...| 135703|                      Gràcia|  el Camp d'en Gras...|          41.4057|           2.17016|Entire home/apt| 79.00|             1|               89|             0.59|                             3|             305|\n",
            "|Rental unit in Ba...| 567180|                    Eixample|    la Sagrada Família|         41.40653|            2.1746|Entire home/apt|248.00|             2|               89|             0.77|                            19|              79|\n",
            "+--------------------+-------+----------------------------+----------------------+-----------------+------------------+---------------+------+--------------+-----------------+-----------------+------------------------------+----------------+\n",
            "only showing top 20 rows\n",
            "\n",
            "string\n",
            "CPU times: user 6.25 ms, sys: 0 ns, total: 6.25 ms\n",
            "Wall time: 228 ms\n"
          ]
        }
      ],
      "source": [
        "%%time\n",
        "from pyspark.sql.functions import *\n",
        "airbnb_schema = airbnb_schema.withColumn('price', regexp_replace('price', '\\\\$', ''))\n",
        "airbnb_schema.show()\n",
        "data_type = airbnb_schema.select('price').dtypes[0][1]\n",
        "print(data_type)"
      ]
    },
    {
      "cell_type": "code",
      "execution_count": 13,
      "metadata": {},
      "outputs": [
        {
          "name": "stdout",
          "output_type": "stream",
          "text": [
            "+--------------------+-------+----------------------------+----------------------+-----------------+------------------+---------------+-----+--------------+-----------------+-----------------+------------------------------+----------------+\n",
            "|                name|host_id|neighbourhood_group_cleansed|neighbourhood_cleansed|         latitude|         longitude|      room_type|price|minimum_nights|number_of_reviews|reviews_per_month|calculated_host_listings_count|availability_365|\n",
            "+--------------------+-------+----------------------------+----------------------+-----------------+------------------+---------------+-----+--------------+-----------------+-----------------+------------------------------+----------------+\n",
            "|Rental unit in 08...|  65623|                    Eixample|  la Dreta de l'Eix...|         41.39939|           2.17044|Entire home/apt|  140|             5|               26|             0.16|                             1|              32|\n",
            "|Rental unit in Ba...|  71615|                    Eixample|    la Sagrada Família|         41.40556|           2.17262|Entire home/apt|  121|             1|               40|             0.31|                            30|              39|\n",
            "|Rental unit in Ba...| 971768|                  Sant Martí|  Diagonal Mar i el...|         41.40805|           2.21487|Entire home/apt|  304|             2|              105|             0.74|                             9|             137|\n",
            "|Rental unit in Ba...| 440825|                    Eixample|  l'Antiga Esquerra...|         41.38359|           2.15812|   Private room|   48|             4|              168|             1.34|                             1|              18|\n",
            "|Rental unit in Sa...|  90417|                  Sant Martí|  el Besòs i el Mar...|41.41243172529066| 2.219750335269476|Entire home/apt|  200|             3|               75|             0.48|                             2|             300|\n",
            "|Rental unit in Ba...|1013855|                      Gràcia|     la Vila de Gràcia|         41.39877|           2.15887|Entire home/apt|  120|             4|              244|             1.67|                             1|             129|\n",
            "|Rental unit in Ba...| 135703|                      Gràcia|  el Camp d'en Gras...|         41.40566|           2.17015|Entire home/apt|   79|             1|               99|             0.66|                             3|             297|\n",
            "|Rental unit in Ba...|1014050|              Sants-Montjuïc|          el Poble Sec|          41.3724|            2.1648|Entire home/apt|  150|             3|              142|             0.96|                             1|               0|\n",
            "|Rental unit in Ba...|1033366|                      Gràcia|     la Vila de Gràcia|           41.398|            2.1553|Entire home/apt|   81|             2|              339|             2.54|                             1|             235|\n",
            "|Condo in Barcelon...|  73163|                Ciutat Vella|        el Barri Gòtic|         41.38062|           2.17517|Entire home/apt|  120|             5|                8|             0.05|                             3|              90|\n",
            "|Rental unit in Ba...|1110014|              Sants-Montjuïc|          el Poble Sec|         41.37042|           2.16411|   Private room|   35|             7|              155|             1.11|                             1|             357|\n",
            "|Rental unit in Ba...|  73163|                Ciutat Vella|        el Barri Gòtic|         41.37978|           2.17623|Entire home/apt|  226|             5|              217|             1.35|                             3|             228|\n",
            "|Rental unit in Ba...| 158596|                Ciutat Vella|        la Barceloneta|         41.38043|           2.19094|   Private room|   30|            31|              108|             0.73|                             1|             210|\n",
            "|Loft in Barcelona...| 874133|              Sants-Montjuïc|                 Sants|         41.37364|           2.13906|Entire home/apt| NULL|            31|               61|             0.42|                             1|               0|\n",
            "|Rental unit in Ba...|1227290|                    Eixample|         el Fort Pienc|41.39970016479492|2.1748878955841064|Entire home/apt|  161|             7|               88|             1.11|                             1|              73|\n",
            "|Condo in Barcelon...| 177617|                    Eixample|  la Dreta de l'Eix...|         41.39631|           2.16832|Entire home/apt|   81|             2|              290|             1.91|                             6|             287|\n",
            "|Rental unit in Ba...| 183340|                      Gràcia|  el Camp d'en Gras...|         41.40568|           2.16943|Entire home/apt|  164|             3|               75|             0.53|                             3|             346|\n",
            "|Rental unit in Ba...|  90417|                Ciutat Vella|  Sant Pere, Santa ...|         41.38956|           2.17759|Entire home/apt|   70|            31|                6|             0.04|                             2|             243|\n",
            "|Rental unit in Ba...| 135703|                      Gràcia|  el Camp d'en Gras...|          41.4057|           2.17016|Entire home/apt|   79|             1|               89|             0.59|                             3|             305|\n",
            "|Rental unit in Ba...| 567180|                    Eixample|    la Sagrada Família|         41.40653|            2.1746|Entire home/apt|  248|             2|               89|             0.77|                            19|              79|\n",
            "+--------------------+-------+----------------------------+----------------------+-----------------+------------------+---------------+-----+--------------+-----------------+-----------------+------------------------------+----------------+\n",
            "only showing top 20 rows\n",
            "\n",
            "int\n",
            "CPU times: user 4.3 ms, sys: 0 ns, total: 4.3 ms\n",
            "Wall time: 176 ms\n"
          ]
        }
      ],
      "source": [
        "%%time\n",
        "# Convert to int and check\n",
        "airbnb_schema = airbnb_schema.withColumn(\"price\", col(\"price\").cast(\"int\"))\n",
        "airbnb_schema.show()\n",
        "data_type = airbnb_schema.select('price').dtypes[0][1]\n",
        "print(data_type)"
      ]
    },
    {
      "attachments": {},
      "cell_type": "markdown",
      "metadata": {
        "colab_type": "text",
        "id": "k35vQcrVlzIi"
      },
      "source": [
        "**4. Clean the null values from review_per_month and price column . We will replace all the null values with zero as \"null\" reviews_per_month and \"null\" price.**"
      ]
    },
    {
      "cell_type": "code",
      "execution_count": 14,
      "metadata": {
        "colab": {
          "base_uri": "https://localhost:8080/",
          "height": 50
        },
        "colab_type": "code",
        "id": "-dfNMFn2StWL",
        "outputId": "edabafc3-b5e4-4366-c56c-7025852d43d0"
      },
      "outputs": [
        {
          "name": "stdout",
          "output_type": "stream",
          "text": [
            "Number of nulls after cleanup in column 'reviews_per_month' - \n",
            "CPU times: user 3.54 ms, sys: 0 ns, total: 3.54 ms\n",
            "Wall time: 136 ms\n"
          ]
        },
        {
          "data": {
            "text/plain": [
              "0"
            ]
          },
          "execution_count": 14,
          "metadata": {},
          "output_type": "execute_result"
        }
      ],
      "source": [
        "%%time\n",
        "airbnb_schema = airbnb_schema.na.fill(0, [\"reviews_per_month\"])\n",
        "print(\"Number of nulls after cleanup in column 'reviews_per_month' - \")\n",
        "airbnb_schema.where(airbnb_schema['reviews_per_month'].isNull()).count()"
      ]
    },
    {
      "cell_type": "code",
      "execution_count": 15,
      "metadata": {},
      "outputs": [
        {
          "name": "stdout",
          "output_type": "stream",
          "text": [
            "Number of nulls after cleanup in column 'price' - \n",
            "CPU times: user 4.27 ms, sys: 0 ns, total: 4.27 ms\n",
            "Wall time: 73.6 ms\n"
          ]
        },
        {
          "data": {
            "text/plain": [
              "0"
            ]
          },
          "execution_count": 15,
          "metadata": {},
          "output_type": "execute_result"
        }
      ],
      "source": [
        "%%time\n",
        "airbnb_schema = airbnb_schema.na.fill(0, [\"price\"])\n",
        "print(\"Number of nulls after cleanup in column 'price' - \")\n",
        "airbnb_schema.where(airbnb_schema['price'].isNull()).count()"
      ]
    },
    {
      "attachments": {},
      "cell_type": "markdown",
      "metadata": {
        "colab_type": "text",
        "id": "T-sZgP5XmLd9"
      },
      "source": [
        "**5. Analyze the host id field.** \n",
        "\n",
        "Count the number of listings for each host ID.\n",
        "\n",
        "Sort the results in descending order, so we can see the top 20 hosts."
      ]
    },
    {
      "cell_type": "code",
      "execution_count": 16,
      "metadata": {
        "colab": {
          "base_uri": "https://localhost:8080/",
          "height": 454
        },
        "colab_type": "code",
        "id": "fxkRnHpJWFpt",
        "outputId": "841f26d8-851c-4154-ae29-6882437044d8"
      },
      "outputs": [
        {
          "name": "stdout",
          "output_type": "stream",
          "text": [
            "+---------+-----+\n",
            "|  host_id|count|\n",
            "+---------+-----+\n",
            "|346367515|  318|\n",
            "|357946540|  271|\n",
            "| 32037490|  231|\n",
            "|  4459553|  179|\n",
            "|  1447144|  174|\n",
            "|461820156|  150|\n",
            "|265193861|  148|\n",
            "|  1391607|  142|\n",
            "|   299462|  141|\n",
            "| 36607755|  136|\n",
            "|158023606|  131|\n",
            "|221480824|  105|\n",
            "|447375626|   99|\n",
            "|   396363|   96|\n",
            "| 47171261|   79|\n",
            "|  1503151|   70|\n",
            "| 33278356|   70|\n",
            "|130223809|   70|\n",
            "|  9400556|   52|\n",
            "|  3556337|   51|\n",
            "+---------+-----+\n",
            "only showing top 20 rows\n",
            "\n",
            "CPU times: user 4.25 ms, sys: 2.98 ms, total: 7.23 ms\n",
            "Wall time: 911 ms\n"
          ]
        }
      ],
      "source": [
        "%%time\n",
        "host_id_schema = airbnb_schema.groupBy(airbnb_schema[\"host_id\"]).count()\n",
        "host_id_schema.orderBy(host_id_schema[\"count\"].desc()).show()"
      ]
    },
    {
      "attachments": {},
      "cell_type": "markdown",
      "metadata": {
        "colab_type": "text",
        "id": "zErCxG6tDJlR"
      },
      "source": [
        "*The above analysis shows that the top host (host_id = 346367515) has 318 listings and also there is a good spread in the number of listings with each host.*\n",
        "\n",
        "*We can confirm this finding by checking the 'calculated_host_listings_count' column which has a maximum value of 318.*"
      ]
    },
    {
      "attachments": {},
      "cell_type": "markdown",
      "metadata": {
        "colab_type": "text",
        "id": "2gwFLUyRmmMB"
      },
      "source": [
        "**6. Check the max value from calculated_host_listings_count column**"
      ]
    },
    {
      "cell_type": "code",
      "execution_count": 17,
      "metadata": {
        "colab": {
          "base_uri": "https://localhost:8080/",
          "height": 118
        },
        "colab_type": "code",
        "id": "9kUXttz_Xh2c",
        "outputId": "b121ae2f-2bae-41da-fac2-1532e8bd6fdf"
      },
      "outputs": [
        {
          "name": "stdout",
          "output_type": "stream",
          "text": [
            "+-----------------------------------+\n",
            "|max(calculated_host_listings_count)|\n",
            "+-----------------------------------+\n",
            "|                                318|\n",
            "+-----------------------------------+\n",
            "\n",
            "CPU times: user 3.84 ms, sys: 0 ns, total: 3.84 ms\n",
            "Wall time: 543 ms\n"
          ]
        }
      ],
      "source": [
        "%%time\n",
        "from pyspark.sql import functions as F\n",
        "# Check the max value from calculated_host_listings_count column\n",
        "airbnb_schema.agg(F.max(airbnb_schema[\"calculated_host_listings_count\"])).show()"
      ]
    },
    {
      "attachments": {},
      "cell_type": "markdown",
      "metadata": {
        "colab_type": "text",
        "id": "C7_DHZFcMgkh"
      },
      "source": [
        "**7. Counting the number of unique listings:**\n",
        "\n",
        "There are 6256 unique listings in the dataset."
      ]
    },
    {
      "cell_type": "code",
      "execution_count": 18,
      "metadata": {
        "colab": {
          "base_uri": "https://localhost:8080/",
          "height": 34
        },
        "colab_type": "code",
        "id": "Ok0iFRyvw_YZ",
        "outputId": "b8de462c-fa2b-43e7-8c86-57a6b2b4647b"
      },
      "outputs": [
        {
          "name": "stdout",
          "output_type": "stream",
          "text": [
            "CPU times: user 2.98 ms, sys: 0 ns, total: 2.98 ms\n",
            "Wall time: 745 ms\n"
          ]
        },
        {
          "data": {
            "text/plain": [
              "6256"
            ]
          },
          "execution_count": 18,
          "metadata": {},
          "output_type": "execute_result"
        }
      ],
      "source": [
        "%%time\n",
        "airbnb_schema.select(\"name\").distinct().count()"
      ]
    },
    {
      "attachments": {},
      "cell_type": "markdown",
      "metadata": {
        "colab_type": "text",
        "id": "w6xB4qlKyrU1"
      },
      "source": [
        "**8. Distinct neighbourhood group count**"
      ]
    },
    {
      "cell_type": "code",
      "execution_count": 19,
      "metadata": {
        "colab": {
          "base_uri": "https://localhost:8080/",
          "height": 34
        },
        "colab_type": "code",
        "id": "DjrlDrD3kY-P",
        "outputId": "31604071-ef17-4aa0-abe5-595d59e417be"
      },
      "outputs": [
        {
          "name": "stdout",
          "output_type": "stream",
          "text": [
            "CPU times: user 904 µs, sys: 2.53 ms, total: 3.43 ms\n",
            "Wall time: 513 ms\n"
          ]
        },
        {
          "data": {
            "text/plain": [
              "10"
            ]
          },
          "execution_count": 19,
          "metadata": {},
          "output_type": "execute_result"
        }
      ],
      "source": [
        "%%time\n",
        "airbnb_schema.select(\"neighbourhood_group_cleansed\").distinct().count()"
      ]
    },
    {
      "attachments": {},
      "cell_type": "markdown",
      "metadata": {
        "colab_type": "text",
        "id": "pOU4oJ9ry_cO"
      },
      "source": [
        "**9. Distinct neighbourhood group**"
      ]
    },
    {
      "cell_type": "code",
      "execution_count": 20,
      "metadata": {
        "colab": {
          "base_uri": "https://localhost:8080/",
          "height": 185
        },
        "colab_type": "code",
        "id": "W5WoRy7Lypys",
        "outputId": "54bb0053-c21a-46b1-b018-0a0160275769"
      },
      "outputs": [
        {
          "name": "stdout",
          "output_type": "stream",
          "text": [
            "+----------------------------+-----+\n",
            "|neighbourhood_group_cleansed|count|\n",
            "+----------------------------+-----+\n",
            "|                      Gràcia| 1571|\n",
            "|                  Sant Martí| 1639|\n",
            "|              Horta-Guinardó|  525|\n",
            "|                   Les Corts|  369|\n",
            "|              Sants-Montjuïc| 1902|\n",
            "|                  Nou Barris|  210|\n",
            "|         Sarrià-Sant Gervasi|  894|\n",
            "|                    Eixample| 6575|\n",
            "|                 Sant Andreu|  279|\n",
            "|                Ciutat Vella| 4357|\n",
            "+----------------------------+-----+\n",
            "\n",
            "CPU times: user 0 ns, sys: 2.77 ms, total: 2.77 ms\n",
            "Wall time: 549 ms\n"
          ]
        }
      ],
      "source": [
        "%%time\n",
        "neighbourhood_group_data = airbnb_schema.groupby(\"neighbourhood_group_cleansed\").count()\n",
        "neighbourhood_group_data.show()"
      ]
    },
    {
      "attachments": {},
      "cell_type": "markdown",
      "metadata": {
        "colab_type": "text",
        "id": "WpzciL7xQEhV"
      },
      "source": [
        "**10. Showing the above data as a pie chart to understand the division clearly.**"
      ]
    },
    {
      "cell_type": "code",
      "execution_count": 21,
      "metadata": {
        "colab": {
          "base_uri": "https://localhost:8080/",
          "height": 373
        },
        "colab_type": "code",
        "id": "r0A8kixUQWc6",
        "outputId": "f75fb8ad-aef4-4e42-e7ec-20447f90b18f"
      },
      "outputs": [
        {
          "name": "stdout",
          "output_type": "stream",
          "text": [
            "CPU times: user 56.3 ms, sys: 16 ms, total: 72.3 ms\n",
            "Wall time: 565 ms\n"
          ]
        },
        {
          "data": {
            "image/png": "[encoded data removed]",
            "text/plain": [
              "<Figure size 1600x600 with 1 Axes>"
            ]
          },
          "metadata": {},
          "output_type": "display_data"
        }
      ],
      "source": [
        "%%time\n",
        "import pandas as pd\n",
        "neighbourhood_group_data_pd = neighbourhood_group_data.toPandas()\n",
        "neighbourhood_group_data_pd.index = neighbourhood_group_data_pd['neighbourhood_group_cleansed']\n",
        "plt = neighbourhood_group_data_pd.plot.pie(y='count', autopct='%1.1f%%', legend = False, title='Listings by Neighbourhood Groups', figsize=(16,6))\n"
      ]
    },
    {
      "attachments": {},
      "cell_type": "markdown",
      "metadata": {
        "colab_type": "text",
        "id": "OqQV-RXEy9PU"
      },
      "source": [
        "**11. Distinct neighbourhood count**"
      ]
    },
    {
      "cell_type": "code",
      "execution_count": 22,
      "metadata": {
        "colab": {
          "base_uri": "https://localhost:8080/",
          "height": 34
        },
        "colab_type": "code",
        "id": "pjOZQOzq0oUt",
        "outputId": "dd2baae6-3b69-481b-c624-c61a63b6e00c"
      },
      "outputs": [
        {
          "name": "stdout",
          "output_type": "stream",
          "text": [
            "CPU times: user 16.3 ms, sys: 1.12 ms, total: 17.4 ms\n",
            "Wall time: 466 ms\n"
          ]
        },
        {
          "data": {
            "text/plain": [
              "71"
            ]
          },
          "execution_count": 22,
          "metadata": {},
          "output_type": "execute_result"
        }
      ],
      "source": [
        "%%time\n",
        "airbnb_schema.select(\"neighbourhood_cleansed\").distinct().count()"
      ]
    },
    {
      "attachments": {},
      "cell_type": "markdown",
      "metadata": {
        "colab_type": "text",
        "id": "tPP8Tk460kqK"
      },
      "source": [
        "**12. Distinct neighbourhood**"
      ]
    },
    {
      "cell_type": "code",
      "execution_count": 23,
      "metadata": {
        "colab": {
          "base_uri": "https://localhost:8080/",
          "height": 454
        },
        "colab_type": "code",
        "id": "_JZ5BMyAyzuV",
        "outputId": "c8d172b6-b019-443c-945a-97fe28600c73"
      },
      "outputs": [
        {
          "name": "stdout",
          "output_type": "stream",
          "text": [
            "+----------------------+-----+\n",
            "|neighbourhood_cleansed|count|\n",
            "+----------------------+-----+\n",
            "|           el Poblenou|  421|\n",
            "|  el Besòs i el Mar...|  111|\n",
            "|     la Vila de Gràcia| 1066|\n",
            "|          la Guineueta|   10|\n",
            "|          la Teixonera|   26|\n",
            "|  la Dreta de l'Eix...| 2239|\n",
            "|        el Barri Gòtic| 1282|\n",
            "|           el Guinardó|  151|\n",
            "|              Vallbona|    1|\n",
            "|             Canyelles|    1|\n",
            "|  Provençals del Po...|   83|\n",
            "|   la Verneda i la Pau|   45|\n",
            "|  Vilapicina i la T...|   64|\n",
            "|  l'Antiga Esquerra...| 1062|\n",
            "|                 Navas|   76|\n",
            "|     la Marina de Port|   58|\n",
            "|                Sarrià|   56|\n",
            "|  la Marina del Pra...|    6|\n",
            "|            Torre Baró|    5|\n",
            "|      la Trinitat Nova|    5|\n",
            "+----------------------+-----+\n",
            "only showing top 20 rows\n",
            "\n",
            "CPU times: user 2.85 ms, sys: 99 µs, total: 2.95 ms\n",
            "Wall time: 541 ms\n"
          ]
        }
      ],
      "source": [
        "%%time\n",
        "airbnb_schema.groupby(\"neighbourhood_cleansed\").count().show()"
      ]
    },
    {
      "cell_type": "code",
      "execution_count": 24,
      "metadata": {
        "colab": {
          "base_uri": "https://localhost:8080/",
          "height": 202
        },
        "colab_type": "code",
        "id": "Fz8rWZb0Ws6f",
        "outputId": "0a7e9685-9746-4b2a-c994-58e08e81addb"
      },
      "outputs": [
        {
          "name": "stdout",
          "output_type": "stream",
          "text": [
            "+----------------------+-----+\n",
            "|neighbourhood_cleansed|count|\n",
            "+----------------------+-----+\n",
            "|  la Dreta de l'Eix...| 2239|\n",
            "|              el Raval| 1474|\n",
            "|        el Barri Gòtic| 1282|\n",
            "|  Sant Pere, Santa ...| 1179|\n",
            "|     la Vila de Gràcia| 1066|\n",
            "+----------------------+-----+\n",
            "only showing top 5 rows\n",
            "\n",
            "CPU times: user 3.61 ms, sys: 326 µs, total: 3.94 ms\n",
            "Wall time: 540 ms\n"
          ]
        }
      ],
      "source": [
        "%%time\n",
        "from pyspark.sql import functions\n",
        "from pyspark.sql.functions import col, avg\n",
        "airbnb_schema.groupby(\"neighbourhood_cleansed\").count().sort(col(\"count\").desc()).show(5)"
      ]
    },
    {
      "attachments": {},
      "cell_type": "markdown",
      "metadata": {
        "colab_type": "text",
        "id": "Up72D5Xi08p4"
      },
      "source": [
        "**13. Analysis of availability of apartments.**"
      ]
    },
    {
      "cell_type": "code",
      "execution_count": 25,
      "metadata": {
        "colab": {
          "base_uri": "https://localhost:8080/",
          "height": 454
        },
        "colab_type": "code",
        "id": "HEQROHhEzIB8",
        "outputId": "53857a24-808e-49c8-b889-7ab7983dd4ad"
      },
      "outputs": [
        {
          "name": "stdout",
          "output_type": "stream",
          "text": [
            "+----------------+-----+\n",
            "|availability_365|count|\n",
            "+----------------+-----+\n",
            "|               0| 4180|\n",
            "|               1|   50|\n",
            "|               2|   28|\n",
            "|               3|   22|\n",
            "|               4|   24|\n",
            "|               5|   23|\n",
            "|               6|   18|\n",
            "|               7|   65|\n",
            "|               8|   34|\n",
            "|               9|   35|\n",
            "|              10|   24|\n",
            "|              11|   25|\n",
            "|              12|   35|\n",
            "|              13|   38|\n",
            "|              14|   29|\n",
            "|              15|   34|\n",
            "|              16|   27|\n",
            "|              17|   43|\n",
            "|              18|   46|\n",
            "|              19|   20|\n",
            "+----------------+-----+\n",
            "only showing top 20 rows\n",
            "\n",
            "CPU times: user 973 µs, sys: 3.24 ms, total: 4.21 ms\n",
            "Wall time: 516 ms\n"
          ]
        }
      ],
      "source": [
        "%%time\n",
        "avail_df = airbnb_schema.groupby(\"availability_365\").count().sort(col(\"availability_365\").asc())\n",
        "avail_df.show()"
      ]
    },
    {
      "attachments": {},
      "cell_type": "markdown",
      "metadata": {
        "colab_type": "text",
        "id": "sT3O-VjJrg--"
      },
      "source": [
        "**14. Distinct host id**"
      ]
    },
    {
      "cell_type": "code",
      "execution_count": 26,
      "metadata": {
        "colab": {
          "base_uri": "https://localhost:8080/",
          "height": 34
        },
        "colab_type": "code",
        "id": "4-9odn-I1Eb3",
        "outputId": "23af5b04-87a1-48b9-8535-b7dace534074"
      },
      "outputs": [
        {
          "name": "stdout",
          "output_type": "stream",
          "text": [
            "CPU times: user 3.07 ms, sys: 0 ns, total: 3.07 ms\n",
            "Wall time: 622 ms\n"
          ]
        },
        {
          "data": {
            "text/plain": [
              "7016"
            ]
          },
          "execution_count": 26,
          "metadata": {},
          "output_type": "execute_result"
        }
      ],
      "source": [
        "%%time\n",
        "airbnb_schema.select(\"host_id\").distinct().count()"
      ]
    },
    {
      "attachments": {},
      "cell_type": "markdown",
      "metadata": {
        "colab_type": "text",
        "id": "mAMwi0CxsJbA"
      },
      "source": [
        "**15. Number of apartments under different room type**"
      ]
    },
    {
      "cell_type": "markdown",
      "metadata": {},
      "source": [
        "Find all different room types"
      ]
    },
    {
      "cell_type": "code",
      "execution_count": 27,
      "metadata": {},
      "outputs": [
        {
          "name": "stdout",
          "output_type": "stream",
          "text": [
            "+---------------+\n",
            "|      room_type|\n",
            "+---------------+\n",
            "|    Shared room|\n",
            "|     Hotel room|\n",
            "|Entire home/apt|\n",
            "|   Private room|\n",
            "+---------------+\n",
            "\n",
            "CPU times: user 2.97 ms, sys: 0 ns, total: 2.97 ms\n",
            "Wall time: 552 ms\n"
          ]
        }
      ],
      "source": [
        "%%time\n",
        "unique_rooms = airbnb_schema.select(\"room_type\").distinct()\n",
        "unique_rooms.show()"
      ]
    },
    {
      "cell_type": "code",
      "execution_count": 28,
      "metadata": {
        "colab": {
          "base_uri": "https://localhost:8080/",
          "height": 151
        },
        "colab_type": "code",
        "id": "wiwtvbjB6Z4v",
        "outputId": "e66aca92-9e44-4c76-912a-3c6d71eee146"
      },
      "outputs": [
        {
          "name": "stdout",
          "output_type": "stream",
          "text": [
            "+---------------+-----+\n",
            "|      room_type|count|\n",
            "+---------------+-----+\n",
            "|    Shared room|  161|\n",
            "|   Private room| 7275|\n",
            "|     Hotel room|  134|\n",
            "|Entire home/apt|10751|\n",
            "+---------------+-----+\n",
            "\n",
            "CPU times: user 6.87 ms, sys: 790 µs, total: 7.67 ms\n",
            "Wall time: 653 ms\n"
          ]
        }
      ],
      "source": [
        "%%time\n",
        "# Number of apartments under different room type\n",
        "room_type_data = airbnb_schema.where(airbnb_schema.room_type.isin(\"Private room\",\"Entire home/apt\",\"Shared room\", \"Hotel room\")).groupBy(airbnb_schema[\"room_type\"]).count().sort(col(\"room_type\").desc())\n",
        "room_type_data.show()"
      ]
    },
    {
      "attachments": {},
      "cell_type": "markdown",
      "metadata": {
        "colab_type": "text",
        "id": "W-CyYRqWEtUj"
      },
      "source": [
        "**16. Showing a general preference based on the room types. As we can see, most people prefer an Entire home/apt followed by Private Room and very few Shared rooms**"
      ]
    },
    {
      "cell_type": "code",
      "execution_count": 29,
      "metadata": {
        "colab": {
          "base_uri": "https://localhost:8080/",
          "height": 373
        },
        "colab_type": "code",
        "id": "OGM7C7k_XOGx",
        "outputId": "34c212e0-7b4e-4519-86a1-1327f2c36c2d"
      },
      "outputs": [
        {
          "name": "stdout",
          "output_type": "stream",
          "text": [
            "CPU times: user 30.5 ms, sys: 3.9 ms, total: 34.4 ms\n",
            "Wall time: 695 ms\n"
          ]
        },
        {
          "data": {
            "image/png": "[encoded data removed]",
            "text/plain": [
              "<Figure size 1600x600 with 1 Axes>"
            ]
          },
          "metadata": {},
          "output_type": "display_data"
        }
      ],
      "source": [
        "%%time\n",
        "import pandas as pd\n",
        "room_type_data_pd = room_type_data.toPandas()\n",
        "room_type_data_pd.index = room_type_data_pd['room_type']\n",
        "plt = room_type_data_pd.plot.pie(y='count', autopct='%1.1f%%', legend = False, title='Listings by Room types', figsize=(16,6))"
      ]
    },
    {
      "attachments": {},
      "cell_type": "markdown",
      "metadata": {
        "colab_type": "text",
        "id": "DMh5QbhGseKb"
      },
      "source": [
        "**17. Combining room_type with neighbourhoodt**"
      ]
    },
    {
      "cell_type": "code",
      "execution_count": 30,
      "metadata": {
        "colab": {
          "base_uri": "https://localhost:8080/",
          "height": 454
        },
        "colab_type": "code",
        "id": "mD-vE_Ze-MuF",
        "outputId": "e22eb6bc-1a86-46dc-cb4f-75e56528b6e8"
      },
      "outputs": [
        {
          "name": "stdout",
          "output_type": "stream",
          "text": [
            "+----------------------+---------------+\n",
            "|neighbourhood_cleansed|      room_type|\n",
            "+----------------------+---------------+\n",
            "|  la Dreta de l'Eix...|Entire home/apt|\n",
            "|    la Sagrada Família|Entire home/apt|\n",
            "|  Diagonal Mar i el...|Entire home/apt|\n",
            "|  l'Antiga Esquerra...|   Private room|\n",
            "|  el Besòs i el Mar...|Entire home/apt|\n",
            "|     la Vila de Gràcia|Entire home/apt|\n",
            "|  el Camp d'en Gras...|Entire home/apt|\n",
            "|          el Poble Sec|Entire home/apt|\n",
            "|     la Vila de Gràcia|Entire home/apt|\n",
            "|        el Barri Gòtic|Entire home/apt|\n",
            "|          el Poble Sec|   Private room|\n",
            "|        el Barri Gòtic|Entire home/apt|\n",
            "|        la Barceloneta|   Private room|\n",
            "|                 Sants|Entire home/apt|\n",
            "|         el Fort Pienc|Entire home/apt|\n",
            "|  la Dreta de l'Eix...|Entire home/apt|\n",
            "|  el Camp d'en Gras...|Entire home/apt|\n",
            "|  Sant Pere, Santa ...|Entire home/apt|\n",
            "|  el Camp d'en Gras...|Entire home/apt|\n",
            "|    la Sagrada Família|Entire home/apt|\n",
            "+----------------------+---------------+\n",
            "only showing top 20 rows\n",
            "\n",
            "CPU times: user 16.3 ms, sys: 48.6 ms, total: 65 ms\n",
            "Wall time: 123 ms\n"
          ]
        }
      ],
      "source": [
        "%%time\n",
        "neigh_room_type_schema = airbnb_schema.select(airbnb_schema[\"neighbourhood_cleansed\"], airbnb_schema[\"room_type\"]).show()"
      ]
    },
    {
      "attachments": {},
      "cell_type": "markdown",
      "metadata": {
        "colab_type": "text",
        "id": "nw0h9eYxsvuI"
      },
      "source": [
        "**18. Below table shows room type by neighbourhood group**"
      ]
    },
    {
      "cell_type": "code",
      "execution_count": 31,
      "metadata": {
        "colab": {
          "base_uri": "https://localhost:8080/",
          "height": 353
        },
        "colab_type": "code",
        "id": "qHoePVu56OoF",
        "outputId": "b0665ae1-2ff0-4546-d8ed-eef6136e4abe"
      },
      "outputs": [
        {
          "name": "stdout",
          "output_type": "stream",
          "text": [
            "+----------------------------+---------------+-----+\n",
            "|neighbourhood_group_cleansed|      room_type|count|\n",
            "+----------------------------+---------------+-----+\n",
            "|                Ciutat Vella|     Hotel room|   25|\n",
            "|                    Eixample|     Hotel room|   84|\n",
            "|                   Les Corts|    Shared room|    5|\n",
            "|                Ciutat Vella|Entire home/apt| 2343|\n",
            "|                    Eixample|    Shared room|   77|\n",
            "|                 Sant Andreu|   Private room|  153|\n",
            "|                Ciutat Vella|   Private room| 1981|\n",
            "|              Sants-Montjuïc|    Shared room|   16|\n",
            "|                  Sant Martí|    Shared room|   17|\n",
            "|              Sants-Montjuïc|   Private room|  804|\n",
            "|                 Sant Andreu|Entire home/apt|  122|\n",
            "|                  Sant Martí|   Private room|  621|\n",
            "|         Sarrià-Sant Gervasi|     Hotel room|    1|\n",
            "|                Ciutat Vella|    Shared room|    8|\n",
            "|                      Gràcia|Entire home/apt|  997|\n",
            "|                  Nou Barris|Entire home/apt|   58|\n",
            "|                   Les Corts|   Private room|  118|\n",
            "|         Sarrià-Sant Gervasi|Entire home/apt|  574|\n",
            "|                      Gràcia|    Shared room|   20|\n",
            "|                   Les Corts|Entire home/apt|  246|\n",
            "+----------------------------+---------------+-----+\n",
            "only showing top 20 rows\n",
            "\n",
            "CPU times: user 4.04 ms, sys: 0 ns, total: 4.04 ms\n",
            "Wall time: 562 ms\n"
          ]
        }
      ],
      "source": [
        "%%time\n",
        "# room type by neighbourhood group.\n",
        "neighbourhoodgrp_roomtype = airbnb_schema.select(airbnb_schema[\"neighbourhood_group_cleansed\"], airbnb_schema[\"room_type\"]).groupBy(\"neighbourhood_group_cleansed\", \"room_type\").count()\n",
        "neighbourhoodgrp_roomtype.show()"
      ]
    },
    {
      "attachments": {},
      "cell_type": "markdown",
      "metadata": {
        "colab_type": "text",
        "id": "APbPFFIgD5iE"
      },
      "source": [
        "**19. Showing the distribution of room types based on the neighbourhood group. From this we can get an idea of what room type are most popular in respective neighbourhood group. This is very important data for someone who would like to setup a new listing or update an existing one.**"
      ]
    },
    {
      "cell_type": "code",
      "execution_count": 32,
      "metadata": {
        "colab": {
          "base_uri": "https://localhost:8080/",
          "height": 407
        },
        "colab_type": "code",
        "id": "dtSzuvpUY99e",
        "outputId": "e300b155-ff19-43de-bb48-a4f2656b1a8c"
      },
      "outputs": [
        {
          "name": "stdout",
          "output_type": "stream",
          "text": [
            "CPU times: user 85.6 ms, sys: 5.73 ms, total: 91.3 ms\n",
            "Wall time: 587 ms\n"
          ]
        },
        {
          "data": {
            "text/plain": [
              "<Axes: xlabel='neighbourhood_group_cleansed'>"
            ]
          },
          "execution_count": 32,
          "metadata": {},
          "output_type": "execute_result"
        },
        {
          "data": {
            "image/png": "[encoded data removed]",
            "text/plain": [
              "<Figure size 1000x500 with 1 Axes>"
            ]
          },
          "metadata": {},
          "output_type": "display_data"
        }
      ],
      "source": [
        "%%time\n",
        "import pandas as pd\n",
        "neighbourhoodgrp_roomtype_pd = neighbourhoodgrp_roomtype.toPandas()\n",
        "pd.pivot_table(neighbourhoodgrp_roomtype_pd, index='neighbourhood_group_cleansed', columns='room_type', values='count').plot.bar(figsize=(10,5))\n"
      ]
    },
    {
      "attachments": {},
      "cell_type": "markdown",
      "metadata": {
        "colab_type": "text",
        "id": "erziFsMItbOZ"
      },
      "source": [
        "**20. Combining neighbourhood with neighbourhood group**"
      ]
    },
    {
      "cell_type": "code",
      "execution_count": 33,
      "metadata": {
        "colab": {
          "base_uri": "https://localhost:8080/",
          "height": 454
        },
        "colab_type": "code",
        "id": "r9anwkqaiSDt",
        "outputId": "1b1420e3-8ffb-4956-bd6e-1802b68a2b06"
      },
      "outputs": [
        {
          "name": "stdout",
          "output_type": "stream",
          "text": [
            "+----------------------------+----------------------+\n",
            "|neighbourhood_group_cleansed|neighbourhood_cleansed|\n",
            "+----------------------------+----------------------+\n",
            "|         Sarrià-Sant Gervasi|  el Putxet i el Farró|\n",
            "|         Sarrià-Sant Gervasi|  el Putxet i el Farró|\n",
            "|         Sarrià-Sant Gervasi|  Sant Gervasi - Ga...|\n",
            "|         Sarrià-Sant Gervasi|                Sarrià|\n",
            "|         Sarrià-Sant Gervasi|  el Putxet i el Farró|\n",
            "|         Sarrià-Sant Gervasi|  Sant Gervasi - Ga...|\n",
            "|         Sarrià-Sant Gervasi|  Sant Gervasi - Ga...|\n",
            "|         Sarrià-Sant Gervasi|  el Putxet i el Farró|\n",
            "|         Sarrià-Sant Gervasi|  Sant Gervasi - Ga...|\n",
            "|         Sarrià-Sant Gervasi|  el Putxet i el Farró|\n",
            "|         Sarrià-Sant Gervasi|  el Putxet i el Farró|\n",
            "|         Sarrià-Sant Gervasi|  Sant Gervasi - Ga...|\n",
            "|         Sarrià-Sant Gervasi|  Sant Gervasi - Ga...|\n",
            "|         Sarrià-Sant Gervasi|  Sant Gervasi - Ga...|\n",
            "|         Sarrià-Sant Gervasi|  Vallvidrera, el T...|\n",
            "|         Sarrià-Sant Gervasi|  el Putxet i el Farró|\n",
            "|         Sarrià-Sant Gervasi|  Sant Gervasi - la...|\n",
            "|         Sarrià-Sant Gervasi|  Sant Gervasi - Ga...|\n",
            "|         Sarrià-Sant Gervasi|  Sant Gervasi - Ga...|\n",
            "|         Sarrià-Sant Gervasi|  el Putxet i el Farró|\n",
            "+----------------------------+----------------------+\n",
            "only showing top 20 rows\n",
            "\n",
            "CPU times: user 515 µs, sys: 3.08 ms, total: 3.59 ms\n",
            "Wall time: 451 ms\n"
          ]
        }
      ],
      "source": [
        "%%time\n",
        "nei_group_nei_schema = airbnb_schema.select(airbnb_schema[\"neighbourhood_group_cleansed\"], airbnb_schema[\"neighbourhood_cleansed\"])\n",
        "nei_group_nei_schema.sort(col(\"neighbourhood_group_cleansed\").desc()).show()"
      ]
    },
    {
      "attachments": {},
      "cell_type": "markdown",
      "metadata": {
        "colab_type": "text",
        "id": "dG0ZCViQuM4b"
      },
      "source": [
        "**21. Find the popular neighbourhood groups:**\n",
        "\n",
        "Popular neighbourhood_groups are Eixample, Ciutat Vella, Sants-Montjuïc, Sant Martí, Gràcia"
      ]
    },
    {
      "cell_type": "code",
      "execution_count": 34,
      "metadata": {
        "colab": {
          "base_uri": "https://localhost:8080/",
          "height": 185
        },
        "colab_type": "code",
        "id": "CkDFyQdomyf5",
        "outputId": "86f90cd3-41ab-4f4f-ce96-7d0f1b09c6f9"
      },
      "outputs": [
        {
          "name": "stdout",
          "output_type": "stream",
          "text": [
            "+----------------------------+-----+\n",
            "|neighbourhood_group_cleansed|count|\n",
            "+----------------------------+-----+\n",
            "|                    Eixample| 6575|\n",
            "|                Ciutat Vella| 4357|\n",
            "|              Sants-Montjuïc| 1902|\n",
            "|                  Sant Martí| 1639|\n",
            "|                      Gràcia| 1571|\n",
            "|         Sarrià-Sant Gervasi|  894|\n",
            "|              Horta-Guinardó|  525|\n",
            "|                   Les Corts|  369|\n",
            "|                 Sant Andreu|  279|\n",
            "|                  Nou Barris|  210|\n",
            "+----------------------------+-----+\n",
            "\n",
            "CPU times: user 3.7 ms, sys: 0 ns, total: 3.7 ms\n",
            "Wall time: 544 ms\n"
          ]
        }
      ],
      "source": [
        "\n",
        "%%time\n",
        "nei_group_nei_schema.groupBy(\"neighbourhood_group_cleansed\").count().sort(col(\"count\").desc()).show()\n"
      ]
    },
    {
      "cell_type": "markdown",
      "metadata": {
        "colab_type": "text",
        "id": "JL8-DbJXXkou"
      },
      "source": [
        "Above we check which neighbourhood group is the most popular based on the number of listings in that group. Also, how the count varies for other neighbourhood groups. **The result shows that Eixample is the most popular neighbourhood group for people**. "
      ]
    },
    {
      "attachments": {},
      "cell_type": "markdown",
      "metadata": {
        "colab_type": "text",
        "id": "8cALlQwYwqSc"
      },
      "source": [
        "**22. Number of neighbourhood in popular neighbourhood_groups**\n"
      ]
    },
    {
      "cell_type": "code",
      "execution_count": 35,
      "metadata": {
        "colab": {},
        "colab_type": "code",
        "id": "UckTbBs6nXlc"
      },
      "outputs": [
        {
          "name": "stdout",
          "output_type": "stream",
          "text": [
            "+----------------------+-----+\n",
            "|neighbourhood_cleansed|count|\n",
            "+----------------------+-----+\n",
            "|  la Dreta de l'Eix...| 2239|\n",
            "|  l'Antiga Esquerra...| 1062|\n",
            "|    la Sagrada Família| 1053|\n",
            "|           Sant Antoni|  905|\n",
            "|  la Nova Esquerra ...|  803|\n",
            "|         el Fort Pienc|  513|\n",
            "+----------------------+-----+\n",
            "\n",
            "+----------------------+-----+\n",
            "|neighbourhood_cleansed|count|\n",
            "+----------------------+-----+\n",
            "|              el Raval| 1474|\n",
            "|        el Barri Gòtic| 1282|\n",
            "|  Sant Pere, Santa ...| 1179|\n",
            "|        la Barceloneta|  422|\n",
            "+----------------------+-----+\n",
            "\n",
            "+----------------------+-----+\n",
            "|neighbourhood_cleansed|count|\n",
            "+----------------------+-----+\n",
            "|          el Poble Sec|  851|\n",
            "|                 Sants|  352|\n",
            "|           Hostafrancs|  230|\n",
            "|         Sants - Badal|  229|\n",
            "|  la Font de la Gua...|  105|\n",
            "|            la Bordeta|   71|\n",
            "|     la Marina de Port|   58|\n",
            "|  la Marina del Pra...|    6|\n",
            "+----------------------+-----+\n",
            "\n",
            "+----------------------+-----+\n",
            "|neighbourhood_cleansed|count|\n",
            "+----------------------+-----+\n",
            "|           el Poblenou|  421|\n",
            "|  el Camp de l'Arpa...|  321|\n",
            "|  el Parc i la Llac...|  190|\n",
            "|  la Vila Olímpica ...|  148|\n",
            "|  Diagonal Mar i el...|  143|\n",
            "|  el Besòs i el Mar...|  111|\n",
            "|               el Clot|  101|\n",
            "|  Provençals del Po...|   83|\n",
            "|  Sant Martí de Pro...|   76|\n",
            "|   la Verneda i la Pau|   45|\n",
            "+----------------------+-----+\n",
            "\n",
            "+----------------------+-----+\n",
            "|neighbourhood_cleansed|count|\n",
            "+----------------------+-----+\n",
            "|     la Vila de Gràcia| 1066|\n",
            "|  el Camp d'en Gras...|  301|\n",
            "|  Vallcarca i els P...|   96|\n",
            "|              la Salut|   77|\n",
            "|               el Coll|   31|\n",
            "+----------------------+-----+\n",
            "\n",
            "CPU times: user 16.3 ms, sys: 4.07 ms, total: 20.4 ms\n",
            "Wall time: 2.7 s\n"
          ]
        }
      ],
      "source": [
        "%%time\n",
        "eixample_nei = nei_group_nei_schema.where(nei_group_nei_schema.neighbourhood_group_cleansed.like(\"Eixample\")).groupBy(\"neighbourhood_cleansed\").count().sort(col(\"count\").desc())\n",
        "ciutat_nei =  nei_group_nei_schema.where(nei_group_nei_schema.neighbourhood_group_cleansed.like(\"Ciutat Vella\")).groupBy(\"neighbourhood_cleansed\").count().sort(col(\"count\").desc())\n",
        "montjuic_nei =  nei_group_nei_schema.where(nei_group_nei_schema.neighbourhood_group_cleansed.like(\"Sants-Montjuïc\")).groupBy(\"neighbourhood_cleansed\").count().sort(col(\"count\").desc())\n",
        "marti_nei =  nei_group_nei_schema.where(nei_group_nei_schema.neighbourhood_group_cleansed.like(\"Sant Martí\")).groupBy(\"neighbourhood_cleansed\").count().sort(col(\"count\").desc())\n",
        "gracia_nei =  nei_group_nei_schema.where(nei_group_nei_schema.neighbourhood_group_cleansed.like(\"Gràcia\")).groupBy(\"neighbourhood_cleansed\").count().sort(col(\"count\").desc())\n",
        "\n",
        "eixample_nei.show()\n",
        "ciutat_nei.show()\n",
        "montjuic_nei.show()\n",
        "marti_nei.show()\n",
        "gracia_nei.show()\n"
      ]
    },
    {
      "attachments": {},
      "cell_type": "markdown",
      "metadata": {
        "colab_type": "text",
        "id": "vcFvnof5wzeU"
      },
      "source": [
        "**23. Combining neighbourhood_group, neighbourhood and room_type**"
      ]
    },
    {
      "cell_type": "code",
      "execution_count": 36,
      "metadata": {
        "colab": {},
        "colab_type": "code",
        "id": "fHGyTVVbtq2t"
      },
      "outputs": [
        {
          "name": "stdout",
          "output_type": "stream",
          "text": [
            "CPU times: user 2.71 ms, sys: 0 ns, total: 2.71 ms\n",
            "Wall time: 15.5 ms\n"
          ]
        }
      ],
      "source": [
        "%%time\n",
        "neigh_group_neigh_room_type_schema = airbnb_schema.select(\"neighbourhood_group_cleansed\", \"neighbourhood_cleansed\", \"room_type\")"
      ]
    },
    {
      "attachments": {},
      "cell_type": "markdown",
      "metadata": {
        "colab_type": "text",
        "id": "z2-5jAzKw7uj"
      },
      "source": [
        "**24. Distribution of rooms in various neighbourhood in  Eixample.**"
      ]
    },
    {
      "cell_type": "code",
      "execution_count": 37,
      "metadata": {
        "colab": {
          "base_uri": "https://localhost:8080/",
          "height": 1000
        },
        "colab_type": "code",
        "id": "QFqCNh1Kxrl1",
        "outputId": "8ed8bf1b-0d50-4ce1-e2a1-06664316cbc7"
      },
      "outputs": [
        {
          "name": "stdout",
          "output_type": "stream",
          "text": [
            "Showing distribution for room_type = 'Private room' in Eixample\n",
            "+----------------------+-----+\n",
            "|neighbourhood_cleansed|count|\n",
            "+----------------------+-----+\n",
            "|  la Dreta de l'Eix...|  738|\n",
            "|  la Nova Esquerra ...|  370|\n",
            "|  l'Antiga Esquerra...|  366|\n",
            "|           Sant Antoni|  347|\n",
            "|    la Sagrada Família|  288|\n",
            "|         el Fort Pienc|  214|\n",
            "+----------------------+-----+\n",
            "\n",
            "Showing distribution for room_type = 'Shared room' in Eixample\n",
            "+----------------------+-----+\n",
            "|neighbourhood_cleansed|count|\n",
            "+----------------------+-----+\n",
            "|  la Dreta de l'Eix...|   35|\n",
            "|  l'Antiga Esquerra...|   22|\n",
            "|  la Nova Esquerra ...|   13|\n",
            "|    la Sagrada Família|    5|\n",
            "|         el Fort Pienc|    2|\n",
            "+----------------------+-----+\n",
            "\n",
            "Showing distribution for room_type = 'Hotel room' in Eixample\n",
            "+----------------------+-----+\n",
            "|neighbourhood_cleansed|count|\n",
            "+----------------------+-----+\n",
            "|  la Dreta de l'Eix...|   34|\n",
            "|  l'Antiga Esquerra...|   22|\n",
            "|           Sant Antoni|   15|\n",
            "|    la Sagrada Família|    8|\n",
            "|  la Nova Esquerra ...|    5|\n",
            "+----------------------+-----+\n",
            "\n",
            "Showing distribution for room_type = 'Entire home/apt' in Eixample\n",
            "+----------------------+-----+\n",
            "|neighbourhood_cleansed|count|\n",
            "+----------------------+-----+\n",
            "|  la Dreta de l'Eix...| 1432|\n",
            "|    la Sagrada Família|  752|\n",
            "|  l'Antiga Esquerra...|  652|\n",
            "|           Sant Antoni|  543|\n",
            "|  la Nova Esquerra ...|  415|\n",
            "|         el Fort Pienc|  297|\n",
            "+----------------------+-----+\n",
            "\n",
            "CPU times: user 14.9 ms, sys: 3.44 ms, total: 18.4 ms\n",
            "Wall time: 2.1 s\n"
          ]
        }
      ],
      "source": [
        "%%time\n",
        "print(\"Showing distribution for room_type = 'Private room' in Eixample\")\n",
        "eixample_nei_private = neigh_group_neigh_room_type_schema.where((col(\"neighbourhood_group_cleansed\")==\"Eixample\") & (col(\"room_type\")==\"Private room\")).groupBy(\"neighbourhood_cleansed\").count().sort(col(\"count\").desc()).show()\n",
        "print(\"Showing distribution for room_type = 'Shared room' in Eixample\")\n",
        "eixample_nei_shared = neigh_group_neigh_room_type_schema.where((col(\"neighbourhood_group_cleansed\")==(\"Eixample\")) & (col(\"room_type\")==\"Shared room\")).groupBy(\"neighbourhood_cleansed\").count().sort(col(\"count\").desc()).show()\n",
        "print(\"Showing distribution for room_type = 'Hotel room' in Eixample\")\n",
        "eixample_nei_hotel = neigh_group_neigh_room_type_schema.where((col(\"neighbourhood_group_cleansed\")==\"Eixample\") & (col(\"room_type\")==\"Hotel room\")).groupBy(\"neighbourhood_cleansed\").count().sort(col(\"count\").desc()).show()\n",
        "print(\"Showing distribution for room_type = 'Entire home/apt' in Eixample\")\n",
        "eixample_nei_entire_home = neigh_group_neigh_room_type_schema.where((col(\"neighbourhood_group_cleansed\")==\"Eixample\") & (col(\"room_type\")==\"Entire home/apt\")).groupBy(\"neighbourhood_cleansed\").count().sort(col(\"count\").desc()).show()\n"
      ]
    },
    {
      "attachments": {},
      "cell_type": "markdown",
      "metadata": {
        "colab_type": "text",
        "id": "pDqdqONQxMD9"
      },
      "source": [
        "**25. Distribution of rooms in various neighbourhood in Ciutat Vella.**"
      ]
    },
    {
      "cell_type": "code",
      "execution_count": 38,
      "metadata": {
        "colab": {
          "base_uri": "https://localhost:8080/",
          "height": 1000
        },
        "colab_type": "code",
        "id": "QrIk776LyRHb",
        "outputId": "6943997f-1c6c-4d2a-f715-da901a4ac4d4"
      },
      "outputs": [
        {
          "name": "stdout",
          "output_type": "stream",
          "text": [
            "Showing distribution for room_type = 'Private room' in Ciutat Vella\n",
            "+----------------------+-----+\n",
            "|neighbourhood_cleansed|count|\n",
            "+----------------------+-----+\n",
            "|              el Raval|  773|\n",
            "|        el Barri Gòtic|  642|\n",
            "|  Sant Pere, Santa ...|  450|\n",
            "|        la Barceloneta|  116|\n",
            "+----------------------+-----+\n",
            "\n",
            "Showing distribution for room_type = 'Shared room' in Ciutat Vella\n",
            "+----------------------+-----+\n",
            "|neighbourhood_cleansed|count|\n",
            "+----------------------+-----+\n",
            "|              el Raval|    5|\n",
            "|        el Barri Gòtic|    2|\n",
            "|        la Barceloneta|    1|\n",
            "+----------------------+-----+\n",
            "\n",
            "Showing distribution for room_type = 'Hotel room' in Ciutat Vella\n",
            "+----------------------+-----+\n",
            "|neighbourhood_cleansed|count|\n",
            "+----------------------+-----+\n",
            "|  Sant Pere, Santa ...|   18|\n",
            "|              el Raval|    6|\n",
            "|        el Barri Gòtic|    1|\n",
            "+----------------------+-----+\n",
            "\n",
            "Showing distribution for room_type = 'Entire home/apt' in Ciutat Vella\n",
            "+----------------------+-----+\n",
            "|neighbourhood_cleansed|count|\n",
            "+----------------------+-----+\n",
            "|  Sant Pere, Santa ...|  711|\n",
            "|              el Raval|  690|\n",
            "|        el Barri Gòtic|  637|\n",
            "|        la Barceloneta|  305|\n",
            "+----------------------+-----+\n",
            "\n",
            "CPU times: user 14.6 ms, sys: 6.49 ms, total: 21.1 ms\n",
            "Wall time: 2.1 s\n"
          ]
        }
      ],
      "source": [
        "\n",
        "%%time\n",
        "print(\"Showing distribution for room_type = 'Private room' in Ciutat Vella\")\n",
        "ciutat_nei_private = neigh_group_neigh_room_type_schema.where((col(\"neighbourhood_group_cleansed\")==\"Ciutat Vella\") & (col(\"room_type\")==\"Private room\")).groupBy(\"neighbourhood_cleansed\").count().sort(col(\"count\").desc()).show()\n",
        "print(\"Showing distribution for room_type = 'Shared room' in Ciutat Vella\")\n",
        "ciutat_nei_shared = neigh_group_neigh_room_type_schema.where((col(\"neighbourhood_group_cleansed\").like(\"Ciutat Vella\")) & (col(\"room_type\")==\"Shared room\")).groupBy(\"neighbourhood_cleansed\").count().sort(col(\"count\").desc()).show()\n",
        "print(\"Showing distribution for room_type = 'Hotel room' in Ciutat Vella\")\n",
        "ciutat_nei_hotel = neigh_group_neigh_room_type_schema.where((col(\"neighbourhood_group_cleansed\")==\"Ciutat Vella\") & (col(\"room_type\")==\"Hotel room\")).groupBy(\"neighbourhood_cleansed\").count().sort(col(\"count\").desc()).show()\n",
        "print(\"Showing distribution for room_type = 'Entire home/apt' in Ciutat Vella\")\n",
        "ciutat_nei_entire_home = neigh_group_neigh_room_type_schema.where((col(\"neighbourhood_group_cleansed\")==\"Ciutat Vella\") & (col(\"room_type\")==\"Entire home/apt\")).groupBy(\"neighbourhood_cleansed\").count().sort(col(\"count\").desc()).show()\n"
      ]
    },
    {
      "cell_type": "markdown",
      "metadata": {},
      "source": [
        "**26. Distribution of rooms in various neighbourhood in Sants-Montjuïc.**"
      ]
    },
    {
      "cell_type": "code",
      "execution_count": 39,
      "metadata": {},
      "outputs": [
        {
          "name": "stdout",
          "output_type": "stream",
          "text": [
            "Showing distribution for room_type = 'Private room' in Sants-Montjuïc\n",
            "+----------------------+-----+\n",
            "|neighbourhood_cleansed|count|\n",
            "+----------------------+-----+\n",
            "|          el Poble Sec|  292|\n",
            "|                 Sants|  153|\n",
            "|         Sants - Badal|  104|\n",
            "|           Hostafrancs|   94|\n",
            "|  la Font de la Gua...|   59|\n",
            "|     la Marina de Port|   51|\n",
            "|            la Bordeta|   49|\n",
            "|  la Marina del Pra...|    2|\n",
            "+----------------------+-----+\n",
            "\n",
            "Showing distribution for room_type = 'Shared room' in Sants-Montjuïc\n",
            "+----------------------+-----+\n",
            "|neighbourhood_cleansed|count|\n",
            "+----------------------+-----+\n",
            "|          el Poble Sec|    9|\n",
            "|         Sants - Badal|    4|\n",
            "|     la Marina de Port|    2|\n",
            "|  la Font de la Gua...|    1|\n",
            "+----------------------+-----+\n",
            "\n",
            "Showing distribution for room_type = 'Hotel room' in Sants-Montjuïc\n",
            "+----------------------+-----+\n",
            "|neighbourhood_cleansed|count|\n",
            "+----------------------+-----+\n",
            "|          el Poble Sec|    7|\n",
            "|  la Font de la Gua...|    2|\n",
            "|         Sants - Badal|    1|\n",
            "+----------------------+-----+\n",
            "\n",
            "Showing distribution for room_type = 'Entire home/apt' in Sants-Montjuïc\n",
            "+----------------------+-----+\n",
            "|neighbourhood_cleansed|count|\n",
            "+----------------------+-----+\n",
            "|          el Poble Sec|  543|\n",
            "|                 Sants|  199|\n",
            "|           Hostafrancs|  136|\n",
            "|         Sants - Badal|  120|\n",
            "|  la Font de la Gua...|   43|\n",
            "|            la Bordeta|   22|\n",
            "|     la Marina de Port|    5|\n",
            "|  la Marina del Pra...|    4|\n",
            "+----------------------+-----+\n",
            "\n",
            "CPU times: user 20.1 ms, sys: 2.87 ms, total: 23 ms\n",
            "Wall time: 2.29 s\n"
          ]
        }
      ],
      "source": [
        "%%time\n",
        "print(\"Showing distribution for room_type = 'Private room' in Sants-Montjuïc\")\n",
        "montjuic_nei_private = neigh_group_neigh_room_type_schema.where((col(\"neighbourhood_group_cleansed\")==\"Sants-Montjuïc\") & (col(\"room_type\")==\"Private room\")).groupBy(\"neighbourhood_cleansed\").count().sort(col(\"count\").desc()).show()\n",
        "print(\"Showing distribution for room_type = 'Shared room' in Sants-Montjuïc\")\n",
        "monjuic_nei_shared = neigh_group_neigh_room_type_schema.where((col(\"neighbourhood_group_cleansed\")==\"Sants-Montjuïc\") & (col(\"room_type\")==\"Shared room\")).groupBy(\"neighbourhood_cleansed\").count().sort(col(\"count\").desc()).show()\n",
        "print(\"Showing distribution for room_type = 'Hotel room' in Sants-Montjuïc\")\n",
        "monjuic_nei_hotel = neigh_group_neigh_room_type_schema.where((col(\"neighbourhood_group_cleansed\")==\"Sants-Montjuïc\") & (col(\"room_type\")==\"Hotel room\")).groupBy(\"neighbourhood_cleansed\").count().sort(col(\"count\").desc()).show()\n",
        "print(\"Showing distribution for room_type = 'Entire home/apt' in Sants-Montjuïc\")\n",
        "monjuic_nei_entire_home = neigh_group_neigh_room_type_schema.where((col(\"neighbourhood_group_cleansed\")==\"Sants-Montjuïc\") & (col(\"room_type\")==\"Entire home/apt\")).groupBy(\"neighbourhood_cleansed\").count().sort(col(\"count\").desc()).show()\n"
      ]
    },
    {
      "attachments": {},
      "cell_type": "markdown",
      "metadata": {
        "colab_type": "text",
        "id": "IRtZopzOxWV_"
      },
      "source": [
        "**27. Distribution of rooms in various neighbourhood in Sant Martí.**"
      ]
    },
    {
      "cell_type": "code",
      "execution_count": 40,
      "metadata": {
        "colab": {
          "base_uri": "https://localhost:8080/",
          "height": 1000
        },
        "colab_type": "code",
        "id": "c-loIl4H14qb",
        "outputId": "cf3ab780-931b-4681-cbd0-504827be47a0"
      },
      "outputs": [
        {
          "name": "stdout",
          "output_type": "stream",
          "text": [
            "Showing distribution for room_type = 'Private room' in Sant Martí\n",
            "+----------------------+-----+\n",
            "|neighbourhood_cleansed|count|\n",
            "+----------------------+-----+\n",
            "|           el Poblenou|  124|\n",
            "|  el Camp de l'Arpa...|  121|\n",
            "|               el Clot|   65|\n",
            "|  el Parc i la Llac...|   63|\n",
            "|  el Besòs i el Mar...|   55|\n",
            "|  Sant Martí de Pro...|   55|\n",
            "|  la Vila Olímpica ...|   39|\n",
            "|  Provençals del Po...|   38|\n",
            "|   la Verneda i la Pau|   36|\n",
            "|  Diagonal Mar i el...|   25|\n",
            "+----------------------+-----+\n",
            "\n",
            "Showing distribution for room_type = 'Shared room' in Sant Martí\n",
            "+----------------------+-----+\n",
            "|neighbourhood_cleansed|count|\n",
            "+----------------------+-----+\n",
            "|  el Camp de l'Arpa...|    9|\n",
            "|  la Vila Olímpica ...|    3|\n",
            "|           el Poblenou|    1|\n",
            "|  el Besòs i el Mar...|    1|\n",
            "|  Provençals del Po...|    1|\n",
            "|               el Clot|    1|\n",
            "|  el Parc i la Llac...|    1|\n",
            "+----------------------+-----+\n",
            "\n",
            "Showing distribution for room_type = 'Hotel room' in Sant Martí\n",
            "+----------------------+-----+\n",
            "|neighbourhood_cleansed|count|\n",
            "+----------------------+-----+\n",
            "|  el Parc i la Llac...|    3|\n",
            "+----------------------+-----+\n",
            "\n",
            "Showing distribution for room_type = 'Entire home/apt' in Sant Martí\n",
            "+----------------------+-----+\n",
            "|neighbourhood_cleansed|count|\n",
            "+----------------------+-----+\n",
            "|           el Poblenou|  296|\n",
            "|  el Camp de l'Arpa...|  191|\n",
            "|  el Parc i la Llac...|  123|\n",
            "|  Diagonal Mar i el...|  118|\n",
            "|  la Vila Olímpica ...|  106|\n",
            "|  el Besòs i el Mar...|   55|\n",
            "|  Provençals del Po...|   44|\n",
            "|               el Clot|   35|\n",
            "|  Sant Martí de Pro...|   21|\n",
            "|   la Verneda i la Pau|    9|\n",
            "+----------------------+-----+\n",
            "\n",
            "CPU times: user 13.1 ms, sys: 8.49 ms, total: 21.6 ms\n",
            "Wall time: 2.15 s\n"
          ]
        }
      ],
      "source": [
        "%%time\n",
        "print(\"Showing distribution for room_type = 'Private room' in Sant Martí\")\n",
        "marti_nei_private = neigh_group_neigh_room_type_schema.where((col(\"neighbourhood_group_cleansed\")==\"Sant Martí\") & (col(\"room_type\")==\"Private room\")).groupBy(\"neighbourhood_cleansed\").count().sort(col(\"count\").desc()).show()\n",
        "print(\"Showing distribution for room_type = 'Shared room' in Sant Martí\")\n",
        "marti_nei_shared = neigh_group_neigh_room_type_schema.where((col(\"neighbourhood_group_cleansed\")==\"Sant Martí\") & (col(\"room_type\")==\"Shared room\")).groupBy(\"neighbourhood_cleansed\").count().sort(col(\"count\").desc()).show()\n",
        "print(\"Showing distribution for room_type = 'Hotel room' in Sant Martí\")\n",
        "marti_nei_hotel = neigh_group_neigh_room_type_schema.where((col(\"neighbourhood_group_cleansed\")==\"Sant Martí\") & (col(\"room_type\")==\"Hotel room\")).groupBy(\"neighbourhood_cleansed\").count().sort(col(\"count\").desc()).show()\n",
        "print(\"Showing distribution for room_type = 'Entire home/apt' in Sant Martí\")\n",
        "marti_nei_entire_home = neigh_group_neigh_room_type_schema.where((col(\"neighbourhood_group_cleansed\")==\"Sant Martí\") & (col(\"room_type\")==\"Entire home/apt\")).groupBy(\"neighbourhood_cleansed\").count().sort(col(\"count\").desc()).show()\n"
      ]
    },
    {
      "attachments": {},
      "cell_type": "markdown",
      "metadata": {
        "colab_type": "text",
        "id": "sYX21FePxfnp"
      },
      "source": [
        "**28. Distribution of rooms in various neighbourhood in Gràcia.**"
      ]
    },
    {
      "cell_type": "code",
      "execution_count": 41,
      "metadata": {
        "colab": {
          "base_uri": "https://localhost:8080/",
          "height": 1000
        },
        "colab_type": "code",
        "id": "CRmk_6WI2zo_",
        "outputId": "71c8033a-00a5-4c8e-c93c-ada6e6194fae"
      },
      "outputs": [
        {
          "name": "stdout",
          "output_type": "stream",
          "text": [
            "Showing distribution for room_type = 'Private room' in Gràcia\n",
            "+----------------------+-----+\n",
            "|neighbourhood_cleansed|count|\n",
            "+----------------------+-----+\n",
            "|     la Vila de Gràcia|  345|\n",
            "|  el Camp d'en Gras...|  105|\n",
            "|  Vallcarca i els P...|   43|\n",
            "|              la Salut|   40|\n",
            "|               el Coll|   10|\n",
            "+----------------------+-----+\n",
            "\n",
            "Showing distribution for room_type = 'Shared room' in Gràcia\n",
            "+----------------------+-----+\n",
            "|neighbourhood_cleansed|count|\n",
            "+----------------------+-----+\n",
            "|     la Vila de Gràcia|   18|\n",
            "|  el Camp d'en Gras...|    1|\n",
            "|  Vallcarca i els P...|    1|\n",
            "+----------------------+-----+\n",
            "\n",
            "Showing distribution for room_type = 'Hotel room' in Gràcia\n",
            "+----------------------+-----+\n",
            "|neighbourhood_cleansed|count|\n",
            "+----------------------+-----+\n",
            "|  el Camp d'en Gras...|    7|\n",
            "|     la Vila de Gràcia|    4|\n",
            "+----------------------+-----+\n",
            "\n",
            "Showing distribution for room_type = 'Entire home/apt' in Gràcia\n",
            "+----------------------+-----+\n",
            "|neighbourhood_cleansed|count|\n",
            "+----------------------+-----+\n",
            "|     la Vila de Gràcia|  699|\n",
            "|  el Camp d'en Gras...|  188|\n",
            "|  Vallcarca i els P...|   52|\n",
            "|              la Salut|   37|\n",
            "|               el Coll|   21|\n",
            "+----------------------+-----+\n",
            "\n",
            "CPU times: user 19.7 ms, sys: 3.17 ms, total: 22.9 ms\n",
            "Wall time: 2.04 s\n"
          ]
        }
      ],
      "source": [
        "%%time\n",
        "print(\"Showing distribution for room_type = 'Private room' in Gràcia\")\n",
        "gracia_nei_private = neigh_group_neigh_room_type_schema.where((col(\"neighbourhood_group_cleansed\")==\"Gràcia\") & (col(\"room_type\")==\"Private room\")).groupBy(\"neighbourhood_cleansed\").count().sort(col(\"count\").desc()).show()\n",
        "print(\"Showing distribution for room_type = 'Shared room' in Gràcia\")\n",
        "gracia_nei_shared = neigh_group_neigh_room_type_schema.where((col(\"neighbourhood_group_cleansed\")==\"Gràcia\") & (col(\"room_type\")==\"Shared room\")).groupBy(\"neighbourhood_cleansed\").count().sort(col(\"count\").desc()).show()\n",
        "print(\"Showing distribution for room_type = 'Hotel room' in Gràcia\")\n",
        "gracia_nei_hotel = neigh_group_neigh_room_type_schema.where((col(\"neighbourhood_group_cleansed\")==\"Gràcia\") & (col(\"room_type\")==\"Hotel room\")).groupBy(\"neighbourhood_cleansed\").count().sort(col(\"count\").desc()).show()\n",
        "print(\"Showing distribution for room_type = 'Entire home/apt' in Gràcia\")\n",
        "gracia_nei_entire_home = neigh_group_neigh_room_type_schema.where((col(\"neighbourhood_group_cleansed\")==\"Gràcia\") & (col(\"room_type\")==\"Entire home/apt\")).groupBy(\"neighbourhood_cleansed\").count().sort(col(\"count\").desc()).show()\n"
      ]
    },
    {
      "attachments": {},
      "cell_type": "markdown",
      "metadata": {
        "colab_type": "text",
        "id": "BAn0IKt3xm21"
      },
      "source": [
        "**29. Total average price of various room types**"
      ]
    },
    {
      "cell_type": "code",
      "execution_count": 42,
      "metadata": {
        "colab": {
          "base_uri": "https://localhost:8080/",
          "height": 420
        },
        "colab_type": "code",
        "id": "atq8i8y63B53",
        "outputId": "e52517c1-4f87-4f5e-8615-82b90f3f6ec3"
      },
      "outputs": [
        {
          "name": "stdout",
          "output_type": "stream",
          "text": [
            "+-------------------+\n",
            "|Total average price|\n",
            "+-------------------+\n",
            "|  93.96506740898423|\n",
            "+-------------------+\n",
            "\n",
            "+-----------------------------------+\n",
            "|Total average price of private room|\n",
            "+-----------------------------------+\n",
            "|                  45.45030927835052|\n",
            "+-----------------------------------+\n",
            "\n",
            "+----------------------------------+\n",
            "|Total average price of shared room|\n",
            "+----------------------------------+\n",
            "|                 59.34782608695652|\n",
            "+----------------------------------+\n",
            "\n",
            "+---------------------------------+\n",
            "|Total average price of hotel room|\n",
            "+---------------------------------+\n",
            "|               130.30597014925374|\n",
            "+---------------------------------+\n",
            "\n",
            "+---------------------------------------+\n",
            "|Total average price of entire home room|\n",
            "+---------------------------------------+\n",
            "|                       126.859547949028|\n",
            "+---------------------------------------+\n",
            "\n",
            "CPU times: user 11.8 ms, sys: 13.5 ms, total: 25.4 ms\n",
            "Wall time: 2.63 s\n"
          ]
        }
      ],
      "source": [
        "%%time\n",
        "nei_group_nei_room_price_schema = airbnb_schema.select(\"neighbourhood_group_cleansed\", \"neighbourhood_cleansed\", \"room_type\", \"price\")\n",
        "nei_group_nei_room_price_schema.agg(avg(col(\"price\")).alias(\"Total average price\")).show()\n",
        "# Total average price of private room.\n",
        "nei_group_nei_room_price_schema.where(col(\"room_type\")==\"Private room\").agg(avg(col(\"price\")).alias(\"Total average price of private room\")).show()\n",
        "# Total average price of shared room.\n",
        "nei_group_nei_room_price_schema.where(col(\"room_type\")==\"Shared room\").agg(avg(col(\"price\")).alias(\"Total average price of shared room\")).show()\n",
        "# Total average price of hotel room.\n",
        "nei_group_nei_room_price_schema.where(col(\"room_type\")==\"Hotel room\").agg(avg(col(\"price\")).alias(\"Total average price of hotel room\")).show()\n",
        "# Total average price of entire home/apt.\n",
        "nei_group_nei_room_price_schema.where(col(\"room_type\")==\"Entire home/apt\").agg(avg(col(\"price\")).alias(\"Total average price of entire home room\")).show()"
      ]
    },
    {
      "attachments": {},
      "cell_type": "markdown",
      "metadata": {
        "colab_type": "text",
        "id": "ZWf-x2v3xwtD"
      },
      "source": [
        "**30. Average price of various room types in Eixample**"
      ]
    },
    {
      "cell_type": "code",
      "execution_count": 43,
      "metadata": {
        "colab": {
          "base_uri": "https://localhost:8080/",
          "height": 319
        },
        "colab_type": "code",
        "id": "wBmuTG3UktqA",
        "outputId": "8cc6600c-acb5-498c-c742-8fd991866d09"
      },
      "outputs": [
        {
          "name": "stdout",
          "output_type": "stream",
          "text": [
            "+-----------------------------------------+\n",
            "|Average price of private room in Eixample|\n",
            "+-----------------------------------------+\n",
            "|                        48.31941455015067|\n",
            "+-----------------------------------------+\n",
            "\n",
            "+----------------------------------------+\n",
            "|Average price of shared room in Eixample|\n",
            "+----------------------------------------+\n",
            "|                       85.54545454545455|\n",
            "+----------------------------------------+\n",
            "\n",
            "+---------------------------------------+\n",
            "|Average price of hotel room in Eixample|\n",
            "+---------------------------------------+\n",
            "|                     123.17857142857143|\n",
            "+---------------------------------------+\n",
            "\n",
            "+--------------------------------------------+\n",
            "|Average price of entire home/apt in Eixample|\n",
            "+--------------------------------------------+\n",
            "|                          147.07064287460278|\n",
            "+--------------------------------------------+\n",
            "\n",
            "CPU times: user 13 ms, sys: 5.41 ms, total: 18.5 ms\n",
            "Wall time: 2.11 s\n"
          ]
        }
      ],
      "source": [
        "%%time\n",
        "eixample_nei_private = nei_group_nei_room_price_schema.where((col(\"neighbourhood_group_cleansed\")==\"Eixample\") & (col(\"room_type\")==\"Private room\")).agg(avg(col(\"price\")).alias(\"Average price of private room in Eixample\")).show()\n",
        "eixample_nei_shared = nei_group_nei_room_price_schema.where((col(\"neighbourhood_group_cleansed\")==\"Eixample\") & (col(\"room_type\")==\"Shared room\")).agg(avg(col(\"price\")).alias(\"Average price of shared room in Eixample\")).show()\n",
        "eixample_nei_hotel = nei_group_nei_room_price_schema.where((col(\"neighbourhood_group_cleansed\")==\"Eixample\") & (col(\"room_type\")==\"Hotel room\")).agg(avg(col(\"price\")).alias(\"Average price of hotel room in Eixample\")).show()\n",
        "eixample_nei_entire_home = nei_group_nei_room_price_schema.where((col(\"neighbourhood_group_cleansed\")==\"Eixample\") & (col(\"room_type\")==\"Entire home/apt\")).agg(avg(col(\"price\")).alias(\"Average price of entire home/apt in Eixample\")).show()\n"
      ]
    },
    {
      "attachments": {},
      "cell_type": "markdown",
      "metadata": {
        "colab_type": "text",
        "id": "3UpDlJBnx_yD"
      },
      "source": [
        "**31. Average price of various room types in Ciutat Vella**"
      ]
    },
    {
      "cell_type": "code",
      "execution_count": 44,
      "metadata": {
        "colab": {
          "base_uri": "https://localhost:8080/",
          "height": 319
        },
        "colab_type": "code",
        "id": "iukt5ZJtk8pF",
        "outputId": "f8842489-b920-4d89-dd54-6beda7bd8ac2"
      },
      "outputs": [
        {
          "name": "stdout",
          "output_type": "stream",
          "text": [
            "+---------------------------------------------+\n",
            "|Average price of private room in Ciutat Vella|\n",
            "+---------------------------------------------+\n",
            "|                            50.90055527511358|\n",
            "+---------------------------------------------+\n",
            "\n",
            "+--------------------------------------------+\n",
            "|Average price of shared room in Ciutat Vella|\n",
            "+--------------------------------------------+\n",
            "|                                      58.875|\n",
            "+--------------------------------------------+\n",
            "\n",
            "+-------------------------------------------+\n",
            "|Average price of hotel room in Ciutat Vella|\n",
            "+-------------------------------------------+\n",
            "|                                     188.92|\n",
            "+-------------------------------------------+\n",
            "\n",
            "+------------------------------------------------+\n",
            "|Average price of entire home/apt in Ciutat Vella|\n",
            "+------------------------------------------------+\n",
            "|                               107.4131455399061|\n",
            "+------------------------------------------------+\n",
            "\n",
            "CPU times: user 12.4 ms, sys: 8.33 ms, total: 20.8 ms\n",
            "Wall time: 1.94 s\n"
          ]
        }
      ],
      "source": [
        "%%time\n",
        "ciutat_nei_private = nei_group_nei_room_price_schema.where((col(\"neighbourhood_group_cleansed\")==\"Ciutat Vella\") & (col(\"room_type\")==\"Private room\")).agg(avg(col(\"price\")).alias(\"Average price of private room in Ciutat Vella\")).show()\n",
        "ciutat_nei_shared = nei_group_nei_room_price_schema.where((col(\"neighbourhood_group_cleansed\")==\"Ciutat Vella\") & (col(\"room_type\")==\"Shared room\")).agg(avg(col(\"price\")).alias(\"Average price of shared room in Ciutat Vella\")).show()\n",
        "ciutat_nei_hotel = nei_group_nei_room_price_schema.where((col(\"neighbourhood_group_cleansed\")==\"Ciutat Vella\") & (col(\"room_type\")==\"Hotel room\")).agg(avg(col(\"price\")).alias(\"Average price of hotel room in Ciutat Vella\")).show()\n",
        "ciutat_nei_entire_home = nei_group_nei_room_price_schema.where((col(\"neighbourhood_group_cleansed\")==\"Ciutat Vella\") & (col(\"room_type\")==\"Entire home/apt\")).agg(avg(col(\"price\")).alias(\"Average price of entire home/apt in Ciutat Vella\")).show()\n"
      ]
    },
    {
      "attachments": {},
      "cell_type": "markdown",
      "metadata": {
        "colab_type": "text",
        "id": "0I793p49yHeI"
      },
      "source": [
        "**32. Average price of various room types in Sants-Montjuïc**"
      ]
    },
    {
      "cell_type": "code",
      "execution_count": 45,
      "metadata": {
        "colab": {
          "base_uri": "https://localhost:8080/",
          "height": 319
        },
        "colab_type": "code",
        "id": "IkYRxYZtlPg_",
        "outputId": "7cc7a5ef-50af-4881-ec2f-a9ae2ca574a9"
      },
      "outputs": [
        {
          "name": "stdout",
          "output_type": "stream",
          "text": [
            "+-----------------------------------------------+\n",
            "|Average price of private room in Sants-Montjuïc|\n",
            "+-----------------------------------------------+\n",
            "|                             39.289800995024876|\n",
            "+-----------------------------------------------+\n",
            "\n",
            "+----------------------------------------------+\n",
            "|Average price of shared room in Sants-Montjuïc|\n",
            "+----------------------------------------------+\n",
            "|                                       47.5625|\n",
            "+----------------------------------------------+\n",
            "\n",
            "+---------------------------------------------+\n",
            "|Average price of hotel room in Sants-Montjuïc|\n",
            "+---------------------------------------------+\n",
            "|                                         71.8|\n",
            "+---------------------------------------------+\n",
            "\n",
            "+--------------------------------------------------+\n",
            "|Average price of entire home/apt in Sants-Montjuïc|\n",
            "+--------------------------------------------------+\n",
            "|                                112.90951492537313|\n",
            "+--------------------------------------------------+\n",
            "\n",
            "CPU times: user 18.7 ms, sys: 300 µs, total: 19 ms\n",
            "Wall time: 2.03 s\n"
          ]
        }
      ],
      "source": [
        "%%time\n",
        "montjuic_nei_private = nei_group_nei_room_price_schema.where((col(\"neighbourhood_group_cleansed\")==\"Sants-Montjuïc\") & (col(\"room_type\")==\"Private room\")).agg(avg(col(\"price\")).alias(\"Average price of private room in Sants-Montjuïc\")).show()\n",
        "montjuic_nei_shared = nei_group_nei_room_price_schema.where((col(\"neighbourhood_group_cleansed\")==\"Sants-Montjuïc\") & (col(\"room_type\")==\"Shared room\")).agg(avg(col(\"price\")).alias(\"Average price of shared room in Sants-Montjuïc\")).show()\n",
        "montjuic_nei_hotel = nei_group_nei_room_price_schema.where((col(\"neighbourhood_group_cleansed\")==\"Sants-Montjuïc\") & (col(\"room_type\")==\"Hotel room\")).agg(avg(col(\"price\")).alias(\"Average price of hotel room in Sants-Montjuïc\")).show()\n",
        "montjuic_nei_entire_home = nei_group_nei_room_price_schema.where((col(\"neighbourhood_group_cleansed\")==\"Sants-Montjuïc\") & (col(\"room_type\")==\"Entire home/apt\")).agg(avg(col(\"price\")).alias(\"Average price of entire home/apt in Sants-Montjuïc\")).show()\n"
      ]
    },
    {
      "attachments": {},
      "cell_type": "markdown",
      "metadata": {
        "colab_type": "text",
        "id": "hh4yKUovyPb1"
      },
      "source": [
        "**33. Average price of various room types in Sant Martí**"
      ]
    },
    {
      "cell_type": "code",
      "execution_count": 46,
      "metadata": {
        "colab": {
          "base_uri": "https://localhost:8080/",
          "height": 319
        },
        "colab_type": "code",
        "id": "fX_wkWLsbgm0",
        "outputId": "ca88d0a4-d3fe-4fd4-9da4-d54c90bb3ac7"
      },
      "outputs": [
        {
          "name": "stdout",
          "output_type": "stream",
          "text": [
            "+-------------------------------------------+\n",
            "|Average price of private room in Sant Martí|\n",
            "+-------------------------------------------+\n",
            "|                         40.993558776167475|\n",
            "+-------------------------------------------+\n",
            "\n",
            "+------------------------------------------+\n",
            "|Average price of shared room in Sant Martí|\n",
            "+------------------------------------------+\n",
            "|                         36.23529411764706|\n",
            "+------------------------------------------+\n",
            "\n",
            "+-----------------------------------------+\n",
            "|Average price of hotel room in Sant Martí|\n",
            "+-----------------------------------------+\n",
            "|                       139.33333333333334|\n",
            "+-----------------------------------------+\n",
            "\n",
            "+----------------------------------------------+\n",
            "|Average price of entire home/apt in Sant Martí|\n",
            "+----------------------------------------------+\n",
            "|                            124.30661322645291|\n",
            "+----------------------------------------------+\n",
            "\n",
            "CPU times: user 9.14 ms, sys: 9.85 ms, total: 19 ms\n",
            "Wall time: 1.92 s\n"
          ]
        }
      ],
      "source": [
        "%%time\n",
        "marti_nei_private = nei_group_nei_room_price_schema.where((col(\"neighbourhood_group_cleansed\")==\"Sant Martí\") & (col(\"room_type\")==\"Private room\")).agg(avg(col(\"price\")).alias(\"Average price of private room in Sant Martí\")).show()\n",
        "marti_nei_shared = nei_group_nei_room_price_schema.where((col(\"neighbourhood_group_cleansed\")==\"Sant Martí\") & (col(\"room_type\")==\"Shared room\")).agg(avg(col(\"price\")).alias(\"Average price of shared room in Sant Martí\")).show()\n",
        "marti_nei_hotel = nei_group_nei_room_price_schema.where((col(\"neighbourhood_group_cleansed\")==\"Sant Martí\") & (col(\"room_type\")==\"Hotel room\")).agg(avg(col(\"price\")).alias(\"Average price of hotel room in Sant Martí\")).show()\n",
        "marti_nei_entire_home = nei_group_nei_room_price_schema.where((col(\"neighbourhood_group_cleansed\")==\"Sant Martí\") & (col(\"room_type\")==\"Entire home/apt\")).agg(avg(col(\"price\")).alias(\"Average price of entire home/apt in Sant Martí\")).show()\n"
      ]
    },
    {
      "cell_type": "markdown",
      "metadata": {},
      "source": [
        "**34. Average price of various room types in Gràcia**"
      ]
    },
    {
      "cell_type": "code",
      "execution_count": 47,
      "metadata": {},
      "outputs": [
        {
          "name": "stdout",
          "output_type": "stream",
          "text": [
            "+---------------------------------------+\n",
            "|Average price of private room in Gràcia|\n",
            "+---------------------------------------+\n",
            "|                     38.896869244935544|\n",
            "+---------------------------------------+\n",
            "\n",
            "+--------------------------------------+\n",
            "|Average price of shared room in Gràcia|\n",
            "+--------------------------------------+\n",
            "|                                 26.15|\n",
            "+--------------------------------------+\n",
            "\n",
            "+-------------------------------------+\n",
            "|Average price of hotel room in Gràcia|\n",
            "+-------------------------------------+\n",
            "|                   108.63636363636364|\n",
            "+-------------------------------------+\n",
            "\n",
            "+------------------------------------------+\n",
            "|Average price of entire home/apt in Gràcia|\n",
            "+------------------------------------------+\n",
            "|                        125.67703109327984|\n",
            "+------------------------------------------+\n",
            "\n",
            "CPU times: user 11.9 ms, sys: 4.71 ms, total: 16.6 ms\n",
            "Wall time: 1.84 s\n"
          ]
        }
      ],
      "source": [
        "%%time\n",
        "gracia_nei_private = nei_group_nei_room_price_schema.where((col(\"neighbourhood_group_cleansed\")==\"Gràcia\") & (col(\"room_type\")==\"Private room\")).agg(avg(col(\"price\")).alias(\"Average price of private room in Gràcia\")).show()\n",
        "gracia_nei_shared = nei_group_nei_room_price_schema.where((col(\"neighbourhood_group_cleansed\")==\"Gràcia\") & (col(\"room_type\")==\"Shared room\")).agg(avg(col(\"price\")).alias(\"Average price of shared room in Gràcia\")).show()\n",
        "gracia_nei_hotel = nei_group_nei_room_price_schema.where((col(\"neighbourhood_group_cleansed\")==\"Gràcia\") & (col(\"room_type\")==\"Hotel room\")).agg(avg(col(\"price\")).alias(\"Average price of hotel room in Gràcia\")).show()\n",
        "gracia_nei_entire_home = nei_group_nei_room_price_schema.where((col(\"neighbourhood_group_cleansed\")==\"Gràcia\") & (col(\"room_type\")==\"Entire home/apt\")).agg(avg(col(\"price\")).alias(\"Average price of entire home/apt in Gràcia\")).show()\n"
      ]
    },
    {
      "attachments": {},
      "cell_type": "markdown",
      "metadata": {
        "colab_type": "text",
        "id": "TH5pGzn0yV85"
      },
      "source": [
        "**35. Total frequency of nights people stay in all the neighbourhood groups**"
      ]
    },
    {
      "cell_type": "code",
      "execution_count": 48,
      "metadata": {
        "colab": {
          "base_uri": "https://localhost:8080/",
          "height": 454
        },
        "colab_type": "code",
        "id": "KgbrelGifujs",
        "outputId": "c64e81e5-494e-415e-8278-fbdc491aa98d"
      },
      "outputs": [
        {
          "name": "stdout",
          "output_type": "stream",
          "text": [
            "+--------------+-----+\n",
            "|minimum_nights|count|\n",
            "+--------------+-----+\n",
            "|             1| 5424|\n",
            "|             2| 2297|\n",
            "|             3| 2465|\n",
            "|             4|  633|\n",
            "|             5|  297|\n",
            "|             6|   94|\n",
            "|             7|  180|\n",
            "|             8|    2|\n",
            "|             9|    8|\n",
            "|            10|   31|\n",
            "|            12|    6|\n",
            "|            13|    2|\n",
            "|            14|   23|\n",
            "|            15|   39|\n",
            "|            16|    3|\n",
            "|            17|    2|\n",
            "|            18|   16|\n",
            "|            19|    1|\n",
            "|            20|   26|\n",
            "|            21|    5|\n",
            "+--------------+-----+\n",
            "only showing top 20 rows\n",
            "\n",
            "CPU times: user 6.06 ms, sys: 0 ns, total: 6.06 ms\n",
            "Wall time: 521 ms\n"
          ]
        }
      ],
      "source": [
        "\n",
        "%%time\n",
        "nei_group_nei_min_nights_schema = airbnb_schema.select(\"neighbourhood_group_cleansed\", \"neighbourhood_cleansed\", \"minimum_nights\")\n",
        "nei_group_nei_min_nights_schema.na.drop(subset=[\"minimum_nights\"]).groupBy(\"minimum_nights\").count().sort(col(\"minimum_nights\").asc()).show()"
      ]
    },
    {
      "attachments": {},
      "cell_type": "markdown",
      "metadata": {
        "colab_type": "text",
        "id": "Cs64xQtBy6uk"
      },
      "source": [
        "**36. Total frequency of nights people stay in various (popular) neighbourhood groups**"
      ]
    },
    {
      "cell_type": "code",
      "execution_count": 49,
      "metadata": {
        "colab": {
          "base_uri": "https://localhost:8080/",
          "height": 1781
        },
        "colab_type": "code",
        "id": "qTjDEfONuG4j",
        "outputId": "f96e14e8-afb0-49ea-a434-44e93880cb10"
      },
      "outputs": [
        {
          "name": "stdout",
          "output_type": "stream",
          "text": [
            "6575\n",
            "+--------------+-----+\n",
            "|minimum_nights|count|\n",
            "+--------------+-----+\n",
            "|             1| 2314|\n",
            "|             2|  858|\n",
            "|             3|  931|\n",
            "|             4|  278|\n",
            "|             5|  107|\n",
            "|             6|   38|\n",
            "|             7|   55|\n",
            "|            10|    8|\n",
            "|            12|    2|\n",
            "|            14|    7|\n",
            "|            15|   13|\n",
            "|            16|    2|\n",
            "|            17|    1|\n",
            "|            18|    7|\n",
            "|            20|    8|\n",
            "|            21|    3|\n",
            "|            23|    1|\n",
            "|            25|   13|\n",
            "|            28|   45|\n",
            "|            29|    5|\n",
            "+--------------+-----+\n",
            "only showing top 20 rows\n",
            "\n",
            "4357\n",
            "+--------------+-----+\n",
            "|minimum_nights|count|\n",
            "+--------------+-----+\n",
            "|             1| 1029|\n",
            "|             2|  546|\n",
            "|             3|  485|\n",
            "|             4|   94|\n",
            "|             5|   41|\n",
            "|             6|   30|\n",
            "|             7|   29|\n",
            "|             8|    1|\n",
            "|             9|    1|\n",
            "|            10|    6|\n",
            "|            14|    5|\n",
            "|            15|    6|\n",
            "|            18|    2|\n",
            "|            19|    1|\n",
            "|            20|    4|\n",
            "|            21|    1|\n",
            "|            24|    1|\n",
            "|            25|    4|\n",
            "|            28|   17|\n",
            "|            29|    1|\n",
            "+--------------+-----+\n",
            "only showing top 20 rows\n",
            "\n",
            "1902\n",
            "+--------------+-----+\n",
            "|minimum_nights|count|\n",
            "+--------------+-----+\n",
            "|             1|  555|\n",
            "|             2|  265|\n",
            "|             3|  285|\n",
            "|             4|   74|\n",
            "|             5|   43|\n",
            "|             6|    9|\n",
            "|             7|   21|\n",
            "|             8|    1|\n",
            "|            10|    2|\n",
            "|            13|    1|\n",
            "|            14|    1|\n",
            "|            15|    3|\n",
            "|            20|    4|\n",
            "|            25|    1|\n",
            "|            28|    8|\n",
            "|            29|    1|\n",
            "|            30|   43|\n",
            "|            31|  252|\n",
            "|            32|  250|\n",
            "|            33|   50|\n",
            "+--------------+-----+\n",
            "only showing top 20 rows\n",
            "\n",
            "1639\n",
            "+--------------+-----+\n",
            "|minimum_nights|count|\n",
            "+--------------+-----+\n",
            "|             1|  443|\n",
            "|             2|  203|\n",
            "|             3|  265|\n",
            "|             4|   65|\n",
            "|             5|   40|\n",
            "|             6|    8|\n",
            "|             7|   28|\n",
            "|             9|    2|\n",
            "|            10|    6|\n",
            "|            12|    1|\n",
            "|            14|    8|\n",
            "|            15|    2|\n",
            "|            16|    1|\n",
            "|            18|    1|\n",
            "|            20|    5|\n",
            "|            24|    1|\n",
            "|            25|    4|\n",
            "|            28|   14|\n",
            "|            29|    3|\n",
            "|            30|   69|\n",
            "+--------------+-----+\n",
            "only showing top 20 rows\n",
            "\n",
            "1571\n",
            "+--------------+-----+\n",
            "|minimum_nights|count|\n",
            "+--------------+-----+\n",
            "|             1|  398|\n",
            "|             2|  200|\n",
            "|             3|  278|\n",
            "|             4|   59|\n",
            "|             5|   33|\n",
            "|             6|    5|\n",
            "|             7|   21|\n",
            "|             9|    2|\n",
            "|            10|    5|\n",
            "|            12|    1|\n",
            "|            14|    1|\n",
            "|            15|    4|\n",
            "|            18|    2|\n",
            "|            20|    2|\n",
            "|            25|    1|\n",
            "|            26|    1|\n",
            "|            28|    6|\n",
            "|            30|   33|\n",
            "|            31|  198|\n",
            "|            32|  283|\n",
            "+--------------+-----+\n",
            "only showing top 20 rows\n",
            "\n",
            "CPU times: user 30.3 ms, sys: 4.66 ms, total: 35 ms\n",
            "Wall time: 4.75 s\n"
          ]
        }
      ],
      "source": [
        "%%time\n",
        "# Total frequency of nights people stay in various (popular) neighbourhood groups\n",
        "total_eixample  = nei_group_nei_min_nights_schema.where((col(\"neighbourhood_group_cleansed\")==\"Eixample\")).count()\n",
        "print(total_eixample)\n",
        "# In Eixample.\n",
        "eixample_nei = nei_group_nei_min_nights_schema.where(col(\"neighbourhood_group_cleansed\")==\"Eixample\").groupBy(\"minimum_nights\").count().sort(col(\"minimum_nights\").asc()).show()\n",
        "\n",
        "# In Ciutat Vella\n",
        "total_ciutat  = nei_group_nei_min_nights_schema.where((col(\"neighbourhood_group_cleansed\")==\"Ciutat Vella\")).count()\n",
        "print(total_ciutat)\n",
        "ciutat_nei = nei_group_nei_min_nights_schema.where((col(\"neighbourhood_group_cleansed\")==\"Ciutat Vella\")).groupBy(\"minimum_nights\").count().sort(col(\"minimum_nights\").asc()).show()\n",
        "\n",
        "# In Sants-Montjuïc\n",
        "total_montjuic  = nei_group_nei_min_nights_schema.where((col(\"neighbourhood_group_cleansed\")==\"Sants-Montjuïc\")).count()\n",
        "print(total_montjuic)\n",
        "montjuic_nei = nei_group_nei_min_nights_schema.where((col(\"neighbourhood_group_cleansed\")==\"Sants-Montjuïc\")).groupBy(\"minimum_nights\").count().sort(col(\"minimum_nights\").asc()).show()\n",
        "\n",
        "# In Sant Martí\n",
        "total_marti  = nei_group_nei_min_nights_schema.where((col(\"neighbourhood_group_cleansed\")==\"Sant Martí\")).count()\n",
        "print(total_marti)\n",
        "marti_nei = nei_group_nei_min_nights_schema.where((col(\"neighbourhood_group_cleansed\")==\"Sant Martí\")).groupBy(\"minimum_nights\").count().sort(col(\"minimum_nights\").asc()).show()\n",
        "\n",
        "# In Gràcia\n",
        "total_gracia = nei_group_nei_min_nights_schema.where((col(\"neighbourhood_group_cleansed\")==\"Gràcia\")).count()\n",
        "print(total_gracia)\n",
        "gracia_nei = nei_group_nei_min_nights_schema.where((col(\"neighbourhood_group_cleansed\")==\"Gràcia\")).groupBy(\"minimum_nights\").count().sort(col(\"minimum_nights\").asc()).show()\n"
      ]
    },
    {
      "attachments": {},
      "cell_type": "markdown",
      "metadata": {
        "colab_type": "text",
        "id": "QaiRUNjvfJbS"
      },
      "source": [
        "**37. Let us check the 'number_of_reviews' column. We can find out the most popular listings based on the number of reviews.**\n",
        "\n",
        "*Here we display top 20 records*"
      ]
    },
    {
      "cell_type": "code",
      "execution_count": 50,
      "metadata": {
        "colab": {
          "base_uri": "https://localhost:8080/",
          "height": 877
        },
        "colab_type": "code",
        "id": "w3IfKgO9ZU7S",
        "outputId": "05d3e643-9954-4a0a-ae1f-a8426e985df3"
      },
      "outputs": [
        {
          "name": "stderr",
          "output_type": "stream",
          "text": [
            "                                                                                \r"
          ]
        },
        {
          "name": "stdout",
          "output_type": "stream",
          "text": [
            "+--------------------+---------+----------------------------+----------------------+-----------------+------------------+---------------+-----+--------------+-----------------+-----------------+------------------------------+----------------+\n",
            "|                name|  host_id|neighbourhood_group_cleansed|neighbourhood_cleansed|         latitude|         longitude|      room_type|price|minimum_nights|number_of_reviews|reviews_per_month|calculated_host_listings_count|availability_365|\n",
            "+--------------------+---------+----------------------------+----------------------+-----------------+------------------+---------------+-----+--------------+-----------------+-----------------+------------------------------+----------------+\n",
            "|Hostel in Barcelo...|  9171437|                    Eixample|  la Dreta de l'Eix...|         41.39689|           2.17724|    Shared room|   25|             1|             1941|            35.23|                             6|               0|\n",
            "|Hostel in Barcelo...|428383673|                  Sant Martí|  la Vila Olímpica ...|        41.391068|          2.196364|    Shared room|   19|             1|             1613|             67.3|                             4|               0|\n",
            "|Rental unit in Ba...|  5428204|                    Eixample|  la Nova Esquerra ...|         41.38078|            2.1458|Entire home/apt|  120|             1|             1147|             8.82|                             1|               0|\n",
            "|Serviced apartmen...|228209257|                      Gràcia|  el Camp d'en Gras...|          41.4032|           2.16975|Entire home/apt|  162|             1|             1044|            17.63|                             3|               0|\n",
            "|Hostel in BARCELO...|181287056|                    Eixample|  la Dreta de l'Eix...|        41.390083|          2.177133|     Hotel room|   79|             1|             1036|            15.39|                             3|             136|\n",
            "|Hotel in Barcelon...|413277396|                  Sant Martí|  el Camp de l'Arpa...|        41.407784|          2.185361|   Private room|   80|             1|             1004|            39.58|                             2|               0|\n",
            "|Hotel in Barcelon...|348675198|                    Eixample|  la Dreta de l'Eix...|         41.39628|           2.16321|   Private room|  107|             1|              960|            29.81|                             3|             351|\n",
            "|Boutique hotel in...|184427141|                Ciutat Vella|        el Barri Gòtic|        41.384632|          2.177421|     Hotel room|  105|             1|              954|            14.43|                             2|               0|\n",
            "|casa particular i...|  5223863|                Ciutat Vella|        el Barri Gòtic|41.38042449951172|2.1753830909729004|   Private room|   53|             1|              915|              7.1|                             3|               0|\n",
            "|Serviced apartmen...|  5223863|                Ciutat Vella|        el Barri Gòtic|         41.38023|           2.17564|   Private room|   54|             1|              904|             6.94|                             3|              15|\n",
            "|Rental unit in Ba...| 47171261|                    Eixample|  la Dreta de l'Eix...|         41.39946|           2.17304|Entire home/apt|   93|             2|              904|            16.52|                            79|               0|\n",
            "|Hostel in Barcelo...|237151305|                    Eixample|  la Dreta de l'Eix...|         41.38621|           2.16763|    Shared room|   16|             1|              832|            14.96|                            11|               0|\n",
            "|Serviced apartmen...| 98330509|                    Eixample|    la Sagrada Família|         41.40349|           2.17512|Entire home/apt|   85|             2|              824|             9.82|                             4|               0|\n",
            "|Serviced apartmen...| 93112619|                Ciutat Vella|        el Barri Gòtic|          41.3817|           2.17417|Entire home/apt|  138|             2|              786|             9.83|                             2|             317|\n",
            "|Rental unit in Ba...|  8164313|                    Eixample|  la Dreta de l'Eix...|         41.39894|             2.172|Entire home/apt|   92|             2|              764|             6.49|                             4|              60|\n",
            "|Serviced apartmen...|   375625|                  Sant Martí|           el Poblenou|         41.39909|           2.20733|Entire home/apt|   94|             1|              763|             6.72|                             6|             284|\n",
            "|Loft in Barcelona...| 20886062|                    Eixample|    la Sagrada Família|         41.40644|           2.17557|Entire home/apt|  174|             2|              755|             6.72|                             2|               0|\n",
            "|Serviced apartmen...| 98330509|                    Eixample|  la Dreta de l'Eix...|         41.39964|           2.17109|Entire home/apt|  131|             2|              751|            19.68|                             4|             237|\n",
            "|Rental unit in Ba...|  6944520|              Sants-Montjuïc|          el Poble Sec|         41.37413|           2.15844|Entire home/apt|  134|             1|              749|             6.49|                             1|             205|\n",
            "|Rental unit in Ba...| 13772145|                    Eixample|  la Dreta de l'Eix...|         41.38616|           2.16718|Entire home/apt|  133|             1|              741|             6.52|                             1|              90|\n",
            "+--------------------+---------+----------------------------+----------------------+-----------------+------------------+---------------+-----+--------------+-----------------+-----------------+------------------------------+----------------+\n",
            "\n",
            "+--------------------+----------------------------+----------------------+---------------+-----------------+\n",
            "|                name|neighbourhood_group_cleansed|neighbourhood_cleansed|      room_type|number_of_reviews|\n",
            "+--------------------+----------------------------+----------------------+---------------+-----------------+\n",
            "|Hostel in Barcelo...|                    Eixample|  la Dreta de l'Eix...|    Shared room|             1941|\n",
            "|Hostel in Barcelo...|                  Sant Martí|  la Vila Olímpica ...|    Shared room|             1613|\n",
            "|Rental unit in Ba...|                    Eixample|  la Nova Esquerra ...|Entire home/apt|             1147|\n",
            "|Serviced apartmen...|                      Gràcia|  el Camp d'en Gras...|Entire home/apt|             1044|\n",
            "|Hostel in BARCELO...|                    Eixample|  la Dreta de l'Eix...|     Hotel room|             1036|\n",
            "|Hotel in Barcelon...|                  Sant Martí|  el Camp de l'Arpa...|   Private room|             1004|\n",
            "|Hotel in Barcelon...|                    Eixample|  la Dreta de l'Eix...|   Private room|              960|\n",
            "|Boutique hotel in...|                Ciutat Vella|        el Barri Gòtic|     Hotel room|              954|\n",
            "|casa particular i...|                Ciutat Vella|        el Barri Gòtic|   Private room|              915|\n",
            "|Serviced apartmen...|                Ciutat Vella|        el Barri Gòtic|   Private room|              904|\n",
            "|Rental unit in Ba...|                    Eixample|  la Dreta de l'Eix...|Entire home/apt|              904|\n",
            "|Hostel in Barcelo...|                    Eixample|  la Dreta de l'Eix...|    Shared room|              832|\n",
            "|Serviced apartmen...|                    Eixample|    la Sagrada Família|Entire home/apt|              824|\n",
            "|Serviced apartmen...|                Ciutat Vella|        el Barri Gòtic|Entire home/apt|              786|\n",
            "|Rental unit in Ba...|                    Eixample|  la Dreta de l'Eix...|Entire home/apt|              764|\n",
            "|Serviced apartmen...|                  Sant Martí|           el Poblenou|Entire home/apt|              763|\n",
            "|Loft in Barcelona...|                    Eixample|    la Sagrada Família|Entire home/apt|              755|\n",
            "|Serviced apartmen...|                    Eixample|  la Dreta de l'Eix...|Entire home/apt|              751|\n",
            "|Rental unit in Ba...|              Sants-Montjuïc|          el Poble Sec|Entire home/apt|              749|\n",
            "|Rental unit in Ba...|                    Eixample|  la Dreta de l'Eix...|Entire home/apt|              741|\n",
            "+--------------------+----------------------------+----------------------+---------------+-----------------+\n",
            "\n",
            "CPU times: user 16.9 ms, sys: 12.6 ms, total: 29.5 ms\n",
            "Wall time: 2 s\n"
          ]
        }
      ],
      "source": [
        "%%time\n",
        "# 'number_of_reviews' column\n",
        "from operator import attrgetter\n",
        "data = airbnb_schema.rdd.top(20, attrgetter(\"number_of_reviews\"))\n",
        "most_reviewed_df = spark.sparkContext.parallelize(data).toDF()\n",
        "most_reviewed_df.show()\n",
        "most_reviewed_df.first()\n",
        "most_reviewed_df.select(\"name\", \"neighbourhood_group_cleansed\", \"neighbourhood_cleansed\", \"room_type\", \"number_of_reviews\").show()"
      ]
    },
    {
      "attachments": {},
      "cell_type": "markdown",
      "metadata": {
        "colab_type": "text",
        "id": "asOD3_eqfIXQ"
      },
      "source": [
        "*As we can see, the host with name = 'Hostel in Barcelona' and host_id = '9171437' has the most reviews (1941 reviews)*"
      ]
    },
    {
      "attachments": {},
      "cell_type": "markdown",
      "metadata": {
        "colab_type": "text",
        "id": "Wws0IRpTzXO5"
      },
      "source": [
        "**38. The average price for the listing for the 20 most reviewed listings is $91. We can also observe that 11/20 listings are Entire home/apt, 4/20 are Private room, 3/20 are Shared room and only 2 in the top 20 is Hotel room**"
      ]
    },
    {
      "cell_type": "code",
      "execution_count": 51,
      "metadata": {
        "colab": {
          "base_uri": "https://localhost:8080/",
          "height": 118
        },
        "colab_type": "code",
        "id": "5o8Ckoevf9Hi",
        "outputId": "2b8f1ee0-39b0-454a-f3e5-c39dc6059599"
      },
      "outputs": [
        {
          "name": "stdout",
          "output_type": "stream",
          "text": [
            "+----------+\n",
            "|avg(price)|\n",
            "+----------+\n",
            "|      94.7|\n",
            "+----------+\n",
            "\n",
            "CPU times: user 829 µs, sys: 3.21 ms, total: 4.04 ms\n",
            "Wall time: 236 ms\n"
          ]
        }
      ],
      "source": [
        "%%time\n",
        "most_reviewed_df.agg(avg(\"price\")).show()"
      ]
    },
    {
      "attachments": {},
      "cell_type": "markdown",
      "metadata": {
        "colab_type": "text",
        "id": "mzzKJSSOkTzF"
      },
      "source": [
        "**39. We will now look at the latitude and longitude columns in the dataset. We can take a look at how the listings are distributed across geography. This will also tell us that which geographic region shows promise for starting a new listing.**"
      ]
    },
    {
      "cell_type": "code",
      "execution_count": 52,
      "metadata": {
        "colab": {
          "base_uri": "https://localhost:8080/",
          "height": 380
        },
        "colab_type": "code",
        "id": "LJCPl72sfEJL",
        "outputId": "d61105a7-7e92-4625-ca5d-2e6cef5c19b3"
      },
      "outputs": [
        {
          "name": "stderr",
          "output_type": "stream",
          "text": [
            "                                                                                \r"
          ]
        },
        {
          "name": "stdout",
          "output_type": "stream",
          "text": [
            "CPU times: user 261 ms, sys: 30.3 ms, total: 291 ms\n",
            "Wall time: 1.07 s\n"
          ]
        },
        {
          "data": {
            "text/plain": [
              "<Axes: xlabel='longitude', ylabel='latitude'>"
            ]
          },
          "execution_count": 52,
          "metadata": {},
          "output_type": "execute_result"
        },
        {
          "data": {
            "image/png": "[encoded data removed]",
            "text/plain": [
              "<Figure size 1000x600 with 2 Axes>"
            ]
          },
          "metadata": {},
          "output_type": "display_data"
        }
      ],
      "source": [
        "%%time\n",
        "import pandas as pd\n",
        "import matplotlib.pyplot as matp\n",
        "airbnb_schema_pd = airbnb_schema.toPandas()\n",
        "airbnb_schema_pd_trimmed = airbnb_schema_pd[airbnb_schema_pd['price'] < 500]\n",
        "airbnb_schema_pd_trimmed.plot.scatter(x='longitude', y='latitude', c='price', cmap=matp.get_cmap('viridis'), figsize=(10,6))"
      ]
    },
    {
      "cell_type": "markdown",
      "metadata": {},
      "source": [
        "Here is the total execution time of the notebook"
      ]
    },
    {
      "cell_type": "code",
      "execution_count": 53,
      "metadata": {},
      "outputs": [
        {
          "name": "stdout",
          "output_type": "stream",
          "text": [
            "CPU times: user 2 µs, sys: 1 µs, total: 3 µs\n",
            "Wall time: 4.53 µs\n",
            "Total execution time: 99.81 seconds\n"
          ]
        }
      ],
      "source": [
        "%time\n",
        "end_time = time.time()\n",
        "print(f\"Total execution time: {(end_time - start_time):.2f} seconds\")"
      ]
    }
  ],
  "metadata": {
    "colab": {
      "collapsed_sections": [],
      "name": "Data_Analyis_1.ipynb",
      "provenance": []
    },
    "kernelspec": {
      "display_name": "Python 3",
      "name": "python3"
    },
    "language_info": {
      "codemirror_mode": {
        "name": "ipython",
        "version": 3
      },
      "file_extension": ".py",
      "mimetype": "text/x-python",
      "name": "python",
      "nbconvert_exporter": "python",
      "pygments_lexer": "ipython3",
      "version": "3.8.10"
    }
  },
  "nbformat": 4,
  "nbformat_minor": 0
}
