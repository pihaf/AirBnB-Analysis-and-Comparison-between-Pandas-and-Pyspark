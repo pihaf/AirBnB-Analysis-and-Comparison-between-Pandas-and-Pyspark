{
  "cells": [
    {
      "attachments": {},
      "cell_type": "markdown",
      "metadata": {
        "colab_type": "text",
        "id": "KXw_htt7jJub"
      },
      "source": [
        "**1. Setup the environment variables**"
      ]
    },
    {
      "cell_type": "code",
      "execution_count": 1,
      "metadata": {},
      "outputs": [],
      "source": [
        "import pandas as pd\n",
        "# Code to calculate total time\n",
        "import time\n",
        "start_time = time.time()"
      ]
    },
    {
      "attachments": {},
      "cell_type": "markdown",
      "metadata": {},
      "source": [
        "**2. Data Preparation**"
      ]
    },
    {
      "cell_type": "code",
      "execution_count": 2,
      "metadata": {
        "colab": {},
        "colab_type": "code",
        "id": "ekK1Dyei2FFD"
      },
      "outputs": [
        {
          "name": "stdout",
          "output_type": "stream",
          "text": [
            "CPU times: user 341 ms, sys: 109 ms, total: 451 ms\n",
            "Wall time: 495 ms\n"
          ]
        }
      ],
      "source": [
        "%%time\n",
        "file_loc = \"listings.csv\"\n",
        "airbnb_schema = pd.read_csv(file_loc)"
      ]
    },
    {
      "cell_type": "code",
      "execution_count": 3,
      "metadata": {
        "colab": {
          "base_uri": "https://localhost:8080/",
          "height": 490
        },
        "colab_type": "code",
        "id": "kRh8AtHl2aK4",
        "outputId": "2f5b38f9-4266-4f68-f124-745df9062bbd"
      },
      "outputs": [
        {
          "name": "stdout",
          "output_type": "stream",
          "text": [
            "        id                          listing_url       scrape_id last_scraped   \n",
            "0    17475   https://www.airbnb.com/rooms/17475  20231213195414   2023-12-14  \\\n",
            "1    18674   https://www.airbnb.com/rooms/18674  20231213195414   2023-12-14   \n",
            "2   198958  https://www.airbnb.com/rooms/198958  20231213195414   2023-12-14   \n",
            "3   199794  https://www.airbnb.com/rooms/199794  20231213195414   2023-12-14   \n",
            "4    23197   https://www.airbnb.com/rooms/23197  20231213195414   2023-12-14   \n",
            "5   206122  https://www.airbnb.com/rooms/206122  20231213195414   2023-12-14   \n",
            "6    32711   https://www.airbnb.com/rooms/32711  20231213195414   2023-12-14   \n",
            "7   206167  https://www.airbnb.com/rooms/206167  20231213195414   2023-12-14   \n",
            "8   209673  https://www.airbnb.com/rooms/209673  20231213195414   2023-12-14   \n",
            "9    34241   https://www.airbnb.com/rooms/34241  20231213195414   2023-12-14   \n",
            "10  214970  https://www.airbnb.com/rooms/214970  20231213195414   2023-12-14   \n",
            "11   34981   https://www.airbnb.com/rooms/34981  20231213195414   2023-12-14   \n",
            "12   36763   https://www.airbnb.com/rooms/36763  20231213195414   2023-12-13   \n",
            "13  223096  https://www.airbnb.com/rooms/223096  20231213195414   2023-12-14   \n",
            "14  234375  https://www.airbnb.com/rooms/234375  20231213195414   2023-12-14   \n",
            "15   40983   https://www.airbnb.com/rooms/40983  20231213195414   2023-12-14   \n",
            "16   41952   https://www.airbnb.com/rooms/41952  20231213195414   2023-12-14   \n",
            "17   46153   https://www.airbnb.com/rooms/46153  20231213195414   2023-12-14   \n",
            "18   49968   https://www.airbnb.com/rooms/49968  20231213195414   2023-12-14   \n",
            "19  238703  https://www.airbnb.com/rooms/238703  20231213195414   2023-12-14   \n",
            "\n",
            "             source                                               name   \n",
            "0       city scrape  Rental unit in 08013 Barcelona · ★4.40 · 1 bed...  \\\n",
            "1       city scrape  Rental unit in Barcelona · ★4.33 · 3 bedrooms ...   \n",
            "2       city scrape  Rental unit in Barcelona · ★4.69 · 4 bedrooms ...   \n",
            "3       city scrape  Rental unit in Barcelona · ★4.80 · 1 bedroom ·...   \n",
            "4       city scrape  Rental unit in Sant Adria de Besos · ★4.77 · 3...   \n",
            "5       city scrape  Rental unit in Barcelona · ★4.71 · 2 bedrooms ...   \n",
            "6       city scrape  Rental unit in Barcelona · ★4.48 · 2 bedrooms ...   \n",
            "7       city scrape  Rental unit in Barcelona · ★4.88 · 1 bedroom ·...   \n",
            "8       city scrape  Rental unit in Barcelona · ★4.78 · 2 bedrooms ...   \n",
            "9       city scrape  Condo in Barcelona · ★3.40 · 1 bedroom · 1 bed...   \n",
            "10      city scrape  Rental unit in Barcelona · ★4.66 · 1 bedroom ·...   \n",
            "11      city scrape  Rental unit in Barcelona · ★4.53 · 4 bedrooms ...   \n",
            "12      city scrape  Rental unit in Barcelona · ★4.80 · 1 bedroom ·...   \n",
            "13  previous scrape  Loft in Barcelona · ★4.81 · 2 bedrooms · 2 bed...   \n",
            "14      city scrape  Rental unit in Barcelona · ★4.66 · 1 bedroom ·...   \n",
            "15      city scrape  Condo in Barcelona · ★4.40 · 1 bedroom · 2 bed...   \n",
            "16      city scrape  Rental unit in Barcelona · ★4.32 · 2 bedrooms ...   \n",
            "17      city scrape  Rental unit in Barcelona · ★4.17 · 2 bedrooms ...   \n",
            "18      city scrape  Rental unit in Barcelona · ★4.60 · 2 bedrooms ...   \n",
            "19      city scrape  Rental unit in Barcelona · ★4.37 · 4 bedrooms ...   \n",
            "\n",
            "    description                              neighborhood_overview   \n",
            "0           NaN                                                NaN  \\\n",
            "1           NaN  Apartment in Barcelona located in the heart of...   \n",
            "2           NaN  The Illa del Llac complex is a calm, relaxing ...   \n",
            "3           NaN  The apartment is located in a very safe area a...   \n",
            "4           NaN  Strategically located in the Parc del Fòrum, a...   \n",
            "5           NaN  The apartment is located in a calm, quiet semi...   \n",
            "6           NaN  What's nearby  <br />This apartment is located...   \n",
            "7           NaN  Poble Sec is a local neighbourhood away from t...   \n",
            "8           NaN  Gracia is a lovely neighborhood located in the...   \n",
            "9           NaN                                                NaN   \n",
            "10          NaN  The location of my flat is very centric, so yo...   \n",
            "11          NaN  Located in Ciutat Vella in the Gothic Quarter,...   \n",
            "12          NaN  The neighbordhood is just at the beach, very c...   \n",
            "13          NaN  The apartment is in Sants neighborhood, in a s...   \n",
            "14          NaN                                    Elegant quarter   \n",
            "15          NaN  Is a perfect neighborhood, close to Paseo de G...   \n",
            "16          NaN                                                NaN   \n",
            "17          NaN  Centrally located in the charming old town of ...   \n",
            "18          NaN  What's nearby  <br />This apartment is located...   \n",
            "19          NaN  Apartment is located just 240 meters from Sagr...   \n",
            "\n",
            "                                          picture_url  host_id  ...   \n",
            "0   https://a0.muscache.com/pictures/f6e6718f-dba0...    65623  ...  \\\n",
            "1   https://a0.muscache.com/pictures/13031453/413c...    71615  ...   \n",
            "2   https://a0.muscache.com/pictures/2977a5e1-e7e4...   971768  ...   \n",
            "3   https://a0.muscache.com/pictures/21904425/cbb2...   440825  ...   \n",
            "4   https://a0.muscache.com/pictures/miso/Hosting-...    90417  ...   \n",
            "5   https://a0.muscache.com/pictures/b8a8ee66-4dca...  1013855  ...   \n",
            "6   https://a0.muscache.com/pictures/357b25e4-f414...   135703  ...   \n",
            "7   https://a0.muscache.com/pictures/miso/Hosting-...  1014050  ...   \n",
            "8   https://a0.muscache.com/pictures/44632728/4b07...  1033366  ...   \n",
            "9   https://a0.muscache.com/pictures/2437facc-2fe7...    73163  ...   \n",
            "10  https://a0.muscache.com/pictures/miso/Hosting-...  1110014  ...   \n",
            "11  https://a0.muscache.com/pictures/c4d1723c-e479...    73163  ...   \n",
            "12  https://a0.muscache.com/pictures/airflow/Hosti...   158596  ...   \n",
            "13  https://a0.muscache.com/pictures/8587f3ba-ce9b...   874133  ...   \n",
            "14  https://a0.muscache.com/pictures/miso/Hosting-...  1227290  ...   \n",
            "15  https://a0.muscache.com/pictures/miso/Hosting-...   177617  ...   \n",
            "16  https://a0.muscache.com/pictures/4215368/059dc...   183340  ...   \n",
            "17  https://a0.muscache.com/pictures/d84e064c-6235...    90417  ...   \n",
            "18  https://a0.muscache.com/pictures/82927561-3785...   135703  ...   \n",
            "19  https://a0.muscache.com/pictures/miso/Hosting-...   567180  ...   \n",
            "\n",
            "   review_scores_communication review_scores_location review_scores_value   \n",
            "0                         4.68                   4.84                4.47  \\\n",
            "1                         4.67                   4.77                4.28   \n",
            "2                         4.87                   4.80                4.67   \n",
            "3                         4.92                   4.89                4.80   \n",
            "4                         4.97                   4.59                4.64   \n",
            "5                         4.81                   4.88                4.71   \n",
            "6                         4.86                   4.87                4.54   \n",
            "7                         4.99                   4.88                4.80   \n",
            "8                         4.98                   4.92                4.75   \n",
            "9                         4.60                   4.20                3.40   \n",
            "10                        4.69                   4.69                4.75   \n",
            "11                        4.70                   4.69                4.42   \n",
            "12                        4.92                   4.92                4.82   \n",
            "13                        4.90                   4.62                4.76   \n",
            "14                        4.88                   4.82                4.38   \n",
            "15                        4.80                   4.88                4.40   \n",
            "16                        4.50                   4.70                4.30   \n",
            "17                        4.33                   4.50                3.83   \n",
            "18                        4.94                   4.86                4.56   \n",
            "19                        4.64                   4.87                4.40   \n",
            "\n",
            "        license instant_bookable calculated_host_listings_count   \n",
            "0           NaN                f                              1  \\\n",
            "1   HUTB-002062                t                             30   \n",
            "2   HUTB-000926                f                              9   \n",
            "3        Exempt                f                              1   \n",
            "4    HUTB005057                f                              2   \n",
            "5   HUTB-004315                t                              1   \n",
            "6   HUTB-001722                t                              3   \n",
            "7   HUTB-009804                f                              1   \n",
            "8   HUTB-010932                f                              1   \n",
            "9        Exempt                f                              3   \n",
            "10          NaN                f                              1   \n",
            "11  HUTB-150671                f                              3   \n",
            "12          NaN                f                              1   \n",
            "13       Exempt                f                              1   \n",
            "14  HUTB-003754                f                              1   \n",
            "15  HUTB-001282                f                              6   \n",
            "16  HUTB-003549                t                              3   \n",
            "17       Exempt                f                              2   \n",
            "18  HUTB-001723                t                              3   \n",
            "19   HUTB000330                f                             19   \n",
            "\n",
            "   calculated_host_listings_count_entire_homes   \n",
            "0                                            1  \\\n",
            "1                                           30   \n",
            "2                                            9   \n",
            "3                                            0   \n",
            "4                                            2   \n",
            "5                                            1   \n",
            "6                                            3   \n",
            "7                                            1   \n",
            "8                                            1   \n",
            "9                                            3   \n",
            "10                                           0   \n",
            "11                                           3   \n",
            "12                                           0   \n",
            "13                                           1   \n",
            "14                                           1   \n",
            "15                                           3   \n",
            "16                                           3   \n",
            "17                                           2   \n",
            "18                                           3   \n",
            "19                                          19   \n",
            "\n",
            "   calculated_host_listings_count_private_rooms   \n",
            "0                                             0  \\\n",
            "1                                             0   \n",
            "2                                             0   \n",
            "3                                             1   \n",
            "4                                             0   \n",
            "5                                             0   \n",
            "6                                             0   \n",
            "7                                             0   \n",
            "8                                             0   \n",
            "9                                             0   \n",
            "10                                            1   \n",
            "11                                            0   \n",
            "12                                            1   \n",
            "13                                            0   \n",
            "14                                            0   \n",
            "15                                            3   \n",
            "16                                            0   \n",
            "17                                            0   \n",
            "18                                            0   \n",
            "19                                            0   \n",
            "\n",
            "   calculated_host_listings_count_shared_rooms reviews_per_month  \n",
            "0                                            0              0.16  \n",
            "1                                            0              0.31  \n",
            "2                                            0              0.74  \n",
            "3                                            0              1.34  \n",
            "4                                            0              0.48  \n",
            "5                                            0              1.67  \n",
            "6                                            0              0.66  \n",
            "7                                            0              0.96  \n",
            "8                                            0              2.54  \n",
            "9                                            0              0.05  \n",
            "10                                           0              1.11  \n",
            "11                                           0              1.35  \n",
            "12                                           0              0.73  \n",
            "13                                           0              0.42  \n",
            "14                                           0              1.11  \n",
            "15                                           0              1.91  \n",
            "16                                           0              0.53  \n",
            "17                                           0              0.04  \n",
            "18                                           0              0.59  \n",
            "19                                           0              0.77  \n",
            "\n",
            "[20 rows x 75 columns]\n",
            "Total number of records in the dataset -  18321\n",
            "CPU times: user 14 ms, sys: 0 ns, total: 14 ms\n",
            "Wall time: 16.5 ms\n"
          ]
        }
      ],
      "source": [
        "%%time\n",
        "print(airbnb_schema.head(20))\n",
        "print(\"Total number of records in the dataset - \", airbnb_schema.shape[0])"
      ]
    },
    {
      "attachments": {},
      "cell_type": "markdown",
      "metadata": {
        "colab_type": "text",
        "id": "GtYIymq5LrwA"
      },
      "source": [
        "**3. Print the dataset schema to understand the type of data we are dealing with.**"
      ]
    },
    {
      "cell_type": "code",
      "execution_count": 4,
      "metadata": {
        "colab": {
          "base_uri": "https://localhost:8080/",
          "height": 319
        },
        "colab_type": "code",
        "id": "hrlLScdlIt4B",
        "outputId": "5cc21534-cb23-4d38-d125-e015b1828e22"
      },
      "outputs": [
        {
          "name": "stdout",
          "output_type": "stream",
          "text": [
            "<class 'pandas.core.frame.DataFrame'>\n",
            "RangeIndex: 18321 entries, 0 to 18320\n",
            "Data columns (total 75 columns):\n",
            " #   Column                                        Non-Null Count  Dtype  \n",
            "---  ------                                        --------------  -----  \n",
            " 0   id                                            18321 non-null  int64  \n",
            " 1   listing_url                                   18321 non-null  object \n",
            " 2   scrape_id                                     18321 non-null  int64  \n",
            " 3   last_scraped                                  18321 non-null  object \n",
            " 4   source                                        18321 non-null  object \n",
            " 5   name                                          18321 non-null  object \n",
            " 6   description                                   0 non-null      float64\n",
            " 7   neighborhood_overview                         10048 non-null  object \n",
            " 8   picture_url                                   18321 non-null  object \n",
            " 9   host_id                                       18321 non-null  int64  \n",
            " 10  host_url                                      18321 non-null  object \n",
            " 11  host_name                                     18319 non-null  object \n",
            " 12  host_since                                    18319 non-null  object \n",
            " 13  host_location                                 14128 non-null  object \n",
            " 14  host_about                                    11562 non-null  object \n",
            " 15  host_response_time                            15258 non-null  object \n",
            " 16  host_response_rate                            15258 non-null  object \n",
            " 17  host_acceptance_rate                          15555 non-null  object \n",
            " 18  host_is_superhost                             18243 non-null  object \n",
            " 19  host_thumbnail_url                            18319 non-null  object \n",
            " 20  host_picture_url                              18319 non-null  object \n",
            " 21  host_neighbourhood                            9363 non-null   object \n",
            " 22  host_listings_count                           18319 non-null  float64\n",
            " 23  host_total_listings_count                     18319 non-null  float64\n",
            " 24  host_verifications                            18319 non-null  object \n",
            " 25  host_has_profile_pic                          18319 non-null  object \n",
            " 26  host_identity_verified                        18319 non-null  object \n",
            " 27  neighbourhood                                 10048 non-null  object \n",
            " 28  neighbourhood_cleansed                        18321 non-null  object \n",
            " 29  neighbourhood_group_cleansed                  18321 non-null  object \n",
            " 30  latitude                                      18321 non-null  float64\n",
            " 31  longitude                                     18321 non-null  float64\n",
            " 32  property_type                                 18321 non-null  object \n",
            " 33  room_type                                     18321 non-null  object \n",
            " 34  accommodates                                  18321 non-null  int64  \n",
            " 35  bathrooms                                     0 non-null      float64\n",
            " 36  bathrooms_text                                18311 non-null  object \n",
            " 37  bedrooms                                      2 non-null      float64\n",
            " 38  beds                                          18004 non-null  float64\n",
            " 39  amenities                                     18321 non-null  object \n",
            " 40  price                                         16056 non-null  object \n",
            " 41  minimum_nights                                18321 non-null  int64  \n",
            " 42  maximum_nights                                18321 non-null  int64  \n",
            " 43  minimum_minimum_nights                        18321 non-null  int64  \n",
            " 44  maximum_minimum_nights                        18321 non-null  int64  \n",
            " 45  minimum_maximum_nights                        18321 non-null  int64  \n",
            " 46  maximum_maximum_nights                        18321 non-null  int64  \n",
            " 47  minimum_nights_avg_ntm                        18321 non-null  float64\n",
            " 48  maximum_nights_avg_ntm                        18321 non-null  float64\n",
            " 49  calendar_updated                              0 non-null      float64\n",
            " 50  has_availability                              16056 non-null  object \n",
            " 51  availability_30                               18321 non-null  int64  \n",
            " 52  availability_60                               18321 non-null  int64  \n",
            " 53  availability_90                               18321 non-null  int64  \n",
            " 54  availability_365                              18321 non-null  int64  \n",
            " 55  calendar_last_scraped                         18321 non-null  object \n",
            " 56  number_of_reviews                             18321 non-null  int64  \n",
            " 57  number_of_reviews_ltm                         18321 non-null  int64  \n",
            " 58  number_of_reviews_l30d                        18321 non-null  int64  \n",
            " 59  first_review                                  13952 non-null  object \n",
            " 60  last_review                                   13952 non-null  object \n",
            " 61  review_scores_rating                          13959 non-null  float64\n",
            " 62  review_scores_accuracy                        13956 non-null  float64\n",
            " 63  review_scores_cleanliness                     13956 non-null  float64\n",
            " 64  review_scores_checkin                         13952 non-null  float64\n",
            " 65  review_scores_communication                   13958 non-null  float64\n",
            " 66  review_scores_location                        13951 non-null  float64\n",
            " 67  review_scores_value                           13952 non-null  float64\n",
            " 68  license                                       12404 non-null  object \n",
            " 69  instant_bookable                              18321 non-null  object \n",
            " 70  calculated_host_listings_count                18321 non-null  int64  \n",
            " 71  calculated_host_listings_count_entire_homes   18321 non-null  int64  \n",
            " 72  calculated_host_listings_count_private_rooms  18321 non-null  int64  \n",
            " 73  calculated_host_listings_count_shared_rooms   18321 non-null  int64  \n",
            " 74  reviews_per_month                             13952 non-null  float64\n",
            "dtypes: float64(19), int64(21), object(35)\n",
            "memory usage: 10.5+ MB\n",
            "CPU times: user 32.7 ms, sys: 3.15 ms, total: 35.9 ms\n",
            "Wall time: 40.6 ms\n"
          ]
        }
      ],
      "source": [
        "%%time\n",
        "airbnb_schema.info()"
      ]
    },
    {
      "cell_type": "code",
      "execution_count": 5,
      "metadata": {
        "colab": {
          "base_uri": "https://localhost:8080/",
          "height": 302
        },
        "colab_type": "code",
        "id": "0QpdKiLFIxyq",
        "outputId": "e347275d-fd9c-4340-9b7a-087d923e720b"
      },
      "outputs": [
        {
          "name": "stdout",
          "output_type": "stream",
          "text": [
            "Count of null values for each feature: \n",
            "id                                                 0\n",
            "listing_url                                        0\n",
            "scrape_id                                          0\n",
            "last_scraped                                       0\n",
            "source                                             0\n",
            "                                                ... \n",
            "calculated_host_listings_count                     0\n",
            "calculated_host_listings_count_entire_homes        0\n",
            "calculated_host_listings_count_private_rooms       0\n",
            "calculated_host_listings_count_shared_rooms        0\n",
            "reviews_per_month                               4369\n",
            "Length: 75, dtype: int64\n",
            "CPU times: user 27.7 ms, sys: 0 ns, total: 27.7 ms\n",
            "Wall time: 27.2 ms\n"
          ]
        }
      ],
      "source": [
        "%%time\n",
        "# Check for count of null values in each column of the dataframe.\n",
        "null_counts = airbnb_schema.isnull().sum()\n",
        "print(\"Count of null values for each feature: \")\n",
        "print(null_counts)"
      ]
    },
    {
      "attachments": {},
      "cell_type": "markdown",
      "metadata": {
        "colab_type": "text",
        "id": "fA5adqdtKMgd"
      },
      "source": [
        "*We see that there are a lot of nulls by observing the first 20 rows of the dataset above. So, we checked the count of null values in each column of the dataset.*"
      ]
    },
    {
      "attachments": {},
      "cell_type": "markdown",
      "metadata": {
        "colab_type": "text",
        "id": "Dal1gJWWlt57"
      },
      "source": [
        "**3. Drop some columns which are not important for analyzing the data.**"
      ]
    },
    {
      "cell_type": "code",
      "execution_count": 6,
      "metadata": {
        "colab": {},
        "colab_type": "code",
        "id": "j2XcU-rDYg0E"
      },
      "outputs": [
        {
          "name": "stdout",
          "output_type": "stream",
          "text": [
            "CPU times: user 4.97 ms, sys: 4.2 ms, total: 9.17 ms\n",
            "Wall time: 9.25 ms\n"
          ]
        }
      ],
      "source": [
        "%%time\n",
        "columns = [\"name\", \"host_id\", \"neighbourhood_group_cleansed\", \"neighbourhood_cleansed\", \"latitude\", \"longitude\", \"room_type\", \"price\", \"minimum_nights\", \"number_of_reviews\", \"reviews_per_month\", \"calculated_host_listings_count\", \"availability_365\"]\n",
        "airbnb_schema = airbnb_schema[columns]"
      ]
    },
    {
      "cell_type": "code",
      "execution_count": 7,
      "metadata": {},
      "outputs": [
        {
          "name": "stdout",
          "output_type": "stream",
          "text": [
            "<class 'pandas.core.frame.DataFrame'>\n",
            "RangeIndex: 18321 entries, 0 to 18320\n",
            "Data columns (total 13 columns):\n",
            " #   Column                          Non-Null Count  Dtype  \n",
            "---  ------                          --------------  -----  \n",
            " 0   name                            18321 non-null  object \n",
            " 1   host_id                         18321 non-null  int64  \n",
            " 2   neighbourhood_group_cleansed    18321 non-null  object \n",
            " 3   neighbourhood_cleansed          18321 non-null  object \n",
            " 4   latitude                        18321 non-null  float64\n",
            " 5   longitude                       18321 non-null  float64\n",
            " 6   room_type                       18321 non-null  object \n",
            " 7   price                           16056 non-null  object \n",
            " 8   minimum_nights                  18321 non-null  int64  \n",
            " 9   number_of_reviews               18321 non-null  int64  \n",
            " 10  reviews_per_month               13952 non-null  float64\n",
            " 11  calculated_host_listings_count  18321 non-null  int64  \n",
            " 12  availability_365                18321 non-null  int64  \n",
            "dtypes: float64(3), int64(5), object(5)\n",
            "memory usage: 1.8+ MB\n",
            "CPU times: user 9.72 ms, sys: 289 µs, total: 10 ms\n",
            "Wall time: 10.2 ms\n"
          ]
        }
      ],
      "source": [
        "%%time\n",
        "airbnb_schema.info()"
      ]
    },
    {
      "cell_type": "markdown",
      "metadata": {},
      "source": [
        "The column 'price' has the data type of 'object' as we saw with info(). Each data instance of the column has the format of '%d$'. We first have to convert the data type of the column to 'int' before further analysis."
      ]
    },
    {
      "cell_type": "code",
      "execution_count": 8,
      "metadata": {},
      "outputs": [
        {
          "name": "stdout",
          "output_type": "stream",
          "text": [
            "CPU times: user 73 µs, sys: 0 ns, total: 73 µs\n",
            "Wall time: 76.1 µs\n"
          ]
        },
        {
          "data": {
            "text/plain": [
              "dtype('O')"
            ]
          },
          "execution_count": 8,
          "metadata": {},
          "output_type": "execute_result"
        }
      ],
      "source": [
        "%%time\n",
        "airbnb_schema['price'].dtypes"
      ]
    },
    {
      "cell_type": "markdown",
      "metadata": {},
      "source": [
        "Before converting, process NULL values."
      ]
    },
    {
      "cell_type": "code",
      "execution_count": 9,
      "metadata": {},
      "outputs": [
        {
          "name": "stdout",
          "output_type": "stream",
          "text": [
            "0\n",
            "CPU times: user 4.12 ms, sys: 58 µs, total: 4.18 ms\n",
            "Wall time: 4.15 ms\n"
          ]
        }
      ],
      "source": [
        "%%time\n",
        "airbnb_schema['price'] = airbnb_schema['price'].fillna(0)\n",
        "print(airbnb_schema['price'].isnull().sum())"
      ]
    },
    {
      "cell_type": "code",
      "execution_count": 10,
      "metadata": {},
      "outputs": [
        {
          "name": "stdout",
          "output_type": "stream",
          "text": [
            "CPU times: user 20.4 ms, sys: 226 µs, total: 20.7 ms\n",
            "Wall time: 20.6 ms\n"
          ]
        },
        {
          "data": {
            "text/plain": [
              "dtype('int64')"
            ]
          },
          "execution_count": 10,
          "metadata": {},
          "output_type": "execute_result"
        }
      ],
      "source": [
        "%%time\n",
        "airbnb_schema['price'] = airbnb_schema['price'].replace('[\\$,]', '', regex=True).astype(float)\n",
        "airbnb_schema['price'] = airbnb_schema['price'].astype(int)\n",
        "airbnb_schema.head()\n",
        "airbnb_schema['price'].dtypes"
      ]
    },
    {
      "attachments": {},
      "cell_type": "markdown",
      "metadata": {
        "colab_type": "text",
        "id": "k35vQcrVlzIi"
      },
      "source": [
        "**4. Clean the null values from review_per_month. We will replace all the null values with zero as \"null\" reviews_per_month.**"
      ]
    },
    {
      "cell_type": "code",
      "execution_count": 11,
      "metadata": {
        "colab": {
          "base_uri": "https://localhost:8080/",
          "height": 50
        },
        "colab_type": "code",
        "id": "-dfNMFn2StWL",
        "outputId": "edabafc3-b5e4-4366-c56c-7025852d43d0"
      },
      "outputs": [
        {
          "name": "stdout",
          "output_type": "stream",
          "text": [
            "0\n",
            "CPU times: user 1.75 ms, sys: 470 µs, total: 2.22 ms\n",
            "Wall time: 2.15 ms\n"
          ]
        }
      ],
      "source": [
        "%%time\n",
        "airbnb_schema['reviews_per_month'] = airbnb_schema['reviews_per_month'].fillna(0)\n",
        "print(airbnb_schema['reviews_per_month'].isnull().sum())"
      ]
    },
    {
      "attachments": {},
      "cell_type": "markdown",
      "metadata": {
        "colab_type": "text",
        "id": "T-sZgP5XmLd9"
      },
      "source": [
        "**5. Analyze the host id field.** \n",
        "\n",
        "Count the number of listings for each host ID.\n",
        "\n",
        "Sort the results in descending order, so we can see the top 20 hosts."
      ]
    },
    {
      "cell_type": "code",
      "execution_count": 12,
      "metadata": {
        "colab": {
          "base_uri": "https://localhost:8080/",
          "height": 454
        },
        "colab_type": "code",
        "id": "fxkRnHpJWFpt",
        "outputId": "841f26d8-851c-4154-ae29-6882437044d8"
      },
      "outputs": [
        {
          "name": "stdout",
          "output_type": "stream",
          "text": [
            "CPU times: user 5.11 ms, sys: 0 ns, total: 5.11 ms\n",
            "Wall time: 5.62 ms\n"
          ]
        },
        {
          "data": {
            "text/html": [
              "<div>\n",
              "<style scoped>\n",
              "    .dataframe tbody tr th:only-of-type {\n",
              "        vertical-align: middle;\n",
              "    }\n",
              "\n",
              "    .dataframe tbody tr th {\n",
              "        vertical-align: top;\n",
              "    }\n",
              "\n",
              "    .dataframe thead th {\n",
              "        text-align: right;\n",
              "    }\n",
              "</style>\n",
              "<table border=\"1\" class=\"dataframe\">\n",
              "  <thead>\n",
              "    <tr style=\"text-align: right;\">\n",
              "      <th></th>\n",
              "      <th>host_id</th>\n",
              "      <th>count</th>\n",
              "    </tr>\n",
              "  </thead>\n",
              "  <tbody>\n",
              "    <tr>\n",
              "      <th>5763</th>\n",
              "      <td>346367515</td>\n",
              "      <td>318</td>\n",
              "    </tr>\n",
              "    <tr>\n",
              "      <th>5806</th>\n",
              "      <td>357946540</td>\n",
              "      <td>271</td>\n",
              "    </tr>\n",
              "    <tr>\n",
              "      <th>2429</th>\n",
              "      <td>32037490</td>\n",
              "      <td>231</td>\n",
              "    </tr>\n",
              "    <tr>\n",
              "      <th>723</th>\n",
              "      <td>4459553</td>\n",
              "      <td>179</td>\n",
              "    </tr>\n",
              "    <tr>\n",
              "      <th>239</th>\n",
              "      <td>1447144</td>\n",
              "      <td>174</td>\n",
              "    </tr>\n",
              "    <tr>\n",
              "      <th>6294</th>\n",
              "      <td>461820156</td>\n",
              "      <td>150</td>\n",
              "    </tr>\n",
              "    <tr>\n",
              "      <th>5215</th>\n",
              "      <td>265193861</td>\n",
              "      <td>148</td>\n",
              "    </tr>\n",
              "    <tr>\n",
              "      <th>224</th>\n",
              "      <td>1391607</td>\n",
              "      <td>142</td>\n",
              "    </tr>\n",
              "    <tr>\n",
              "      <th>45</th>\n",
              "      <td>299462</td>\n",
              "      <td>141</td>\n",
              "    </tr>\n",
              "    <tr>\n",
              "      <th>2562</th>\n",
              "      <td>36607755</td>\n",
              "      <td>136</td>\n",
              "    </tr>\n",
              "    <tr>\n",
              "      <th>4353</th>\n",
              "      <td>158023606</td>\n",
              "      <td>131</td>\n",
              "    </tr>\n",
              "    <tr>\n",
              "      <th>4887</th>\n",
              "      <td>221480824</td>\n",
              "      <td>105</td>\n",
              "    </tr>\n",
              "    <tr>\n",
              "      <th>6200</th>\n",
              "      <td>447375626</td>\n",
              "      <td>99</td>\n",
              "    </tr>\n",
              "    <tr>\n",
              "      <th>58</th>\n",
              "      <td>396363</td>\n",
              "      <td>96</td>\n",
              "    </tr>\n",
              "    <tr>\n",
              "      <th>2886</th>\n",
              "      <td>47171261</td>\n",
              "      <td>79</td>\n",
              "    </tr>\n",
              "    <tr>\n",
              "      <th>4046</th>\n",
              "      <td>130223809</td>\n",
              "      <td>70</td>\n",
              "    </tr>\n",
              "    <tr>\n",
              "      <th>2453</th>\n",
              "      <td>33278356</td>\n",
              "      <td>70</td>\n",
              "    </tr>\n",
              "    <tr>\n",
              "      <th>247</th>\n",
              "      <td>1503151</td>\n",
              "      <td>70</td>\n",
              "    </tr>\n",
              "    <tr>\n",
              "      <th>1293</th>\n",
              "      <td>9400556</td>\n",
              "      <td>52</td>\n",
              "    </tr>\n",
              "    <tr>\n",
              "      <th>584</th>\n",
              "      <td>3556337</td>\n",
              "      <td>51</td>\n",
              "    </tr>\n",
              "  </tbody>\n",
              "</table>\n",
              "</div>"
            ],
            "text/plain": [
              "        host_id  count\n",
              "5763  346367515    318\n",
              "5806  357946540    271\n",
              "2429   32037490    231\n",
              "723     4459553    179\n",
              "239     1447144    174\n",
              "6294  461820156    150\n",
              "5215  265193861    148\n",
              "224     1391607    142\n",
              "45       299462    141\n",
              "2562   36607755    136\n",
              "4353  158023606    131\n",
              "4887  221480824    105\n",
              "6200  447375626     99\n",
              "58       396363     96\n",
              "2886   47171261     79\n",
              "4046  130223809     70\n",
              "2453   33278356     70\n",
              "247     1503151     70\n",
              "1293    9400556     52\n",
              "584     3556337     51"
            ]
          },
          "execution_count": 12,
          "metadata": {},
          "output_type": "execute_result"
        }
      ],
      "source": [
        "%%time\n",
        "host_id_counts = airbnb_schema.groupby('host_id').size().reset_index(name='count')\n",
        "\n",
        "# Sort by count in descending order\n",
        "host_id_counts_sorted = host_id_counts.sort_values(by='count', ascending=False)\n",
        "host_id_counts_sorted.head(20)"
      ]
    },
    {
      "attachments": {},
      "cell_type": "markdown",
      "metadata": {
        "colab_type": "text",
        "id": "zErCxG6tDJlR"
      },
      "source": [
        "*The above analysis shows that the top host (host_id = 346367515) has 318 listings and also there is a good spread in the number of listings with each host.*\n",
        "\n",
        "*We can confirm this finding by checking the 'calculated_host_listings_count' column which has a maximum value of 318.*"
      ]
    },
    {
      "attachments": {},
      "cell_type": "markdown",
      "metadata": {
        "colab_type": "text",
        "id": "2gwFLUyRmmMB"
      },
      "source": [
        "**6. Check the max value from calculated_host_listings_count column**"
      ]
    },
    {
      "cell_type": "code",
      "execution_count": 13,
      "metadata": {
        "colab": {
          "base_uri": "https://localhost:8080/",
          "height": 118
        },
        "colab_type": "code",
        "id": "9kUXttz_Xh2c",
        "outputId": "b121ae2f-2bae-41da-fac2-1532e8bd6fdf"
      },
      "outputs": [
        {
          "name": "stdout",
          "output_type": "stream",
          "text": [
            "Max value from calculated_host_listings_count column: 318\n",
            "CPU times: user 1.05 ms, sys: 0 ns, total: 1.05 ms\n",
            "Wall time: 905 µs\n"
          ]
        }
      ],
      "source": [
        "%%time\n",
        "# Check the max value from calculated_host_listings_count column\n",
        "max_value = airbnb_schema['calculated_host_listings_count'].max()\n",
        "\n",
        "# Display the result\n",
        "print(\"Max value from calculated_host_listings_count column:\", max_value)"
      ]
    },
    {
      "attachments": {},
      "cell_type": "markdown",
      "metadata": {
        "colab_type": "text",
        "id": "C7_DHZFcMgkh"
      },
      "source": [
        "**7. Counting the number of unique listings:**\n",
        "\n",
        "There are 6256 unique listings in the dataset."
      ]
    },
    {
      "cell_type": "code",
      "execution_count": 14,
      "metadata": {
        "colab": {
          "base_uri": "https://localhost:8080/",
          "height": 34
        },
        "colab_type": "code",
        "id": "Ok0iFRyvw_YZ",
        "outputId": "b8de462c-fa2b-43e7-8c86-57a6b2b4647b"
      },
      "outputs": [
        {
          "name": "stdout",
          "output_type": "stream",
          "text": [
            "6256\n",
            "CPU times: user 5.58 ms, sys: 0 ns, total: 5.58 ms\n",
            "Wall time: 5.58 ms\n"
          ]
        }
      ],
      "source": [
        "%%time\n",
        "print(airbnb_schema['name'].nunique())"
      ]
    },
    {
      "attachments": {},
      "cell_type": "markdown",
      "metadata": {
        "colab_type": "text",
        "id": "w6xB4qlKyrU1"
      },
      "source": [
        "**8. Distinct neighbourhood group count**"
      ]
    },
    {
      "cell_type": "code",
      "execution_count": 15,
      "metadata": {
        "colab": {
          "base_uri": "https://localhost:8080/",
          "height": 34
        },
        "colab_type": "code",
        "id": "DjrlDrD3kY-P",
        "outputId": "31604071-ef17-4aa0-abe5-595d59e417be"
      },
      "outputs": [
        {
          "name": "stdout",
          "output_type": "stream",
          "text": [
            "10\n",
            "CPU times: user 1.86 ms, sys: 0 ns, total: 1.86 ms\n",
            "Wall time: 1.5 ms\n"
          ]
        }
      ],
      "source": [
        "%%time\n",
        "print(airbnb_schema[\"neighbourhood_group_cleansed\"].nunique())"
      ]
    },
    {
      "attachments": {},
      "cell_type": "markdown",
      "metadata": {
        "colab_type": "text",
        "id": "pOU4oJ9ry_cO"
      },
      "source": [
        "**9. Distinct neighbourhood group**"
      ]
    },
    {
      "cell_type": "code",
      "execution_count": 16,
      "metadata": {
        "colab": {
          "base_uri": "https://localhost:8080/",
          "height": 185
        },
        "colab_type": "code",
        "id": "W5WoRy7Lypys",
        "outputId": "54bb0053-c21a-46b1-b018-0a0160275769"
      },
      "outputs": [
        {
          "name": "stdout",
          "output_type": "stream",
          "text": [
            "CPU times: user 3.99 ms, sys: 0 ns, total: 3.99 ms\n",
            "Wall time: 4.08 ms\n"
          ]
        },
        {
          "data": {
            "text/html": [
              "<div>\n",
              "<style scoped>\n",
              "    .dataframe tbody tr th:only-of-type {\n",
              "        vertical-align: middle;\n",
              "    }\n",
              "\n",
              "    .dataframe tbody tr th {\n",
              "        vertical-align: top;\n",
              "    }\n",
              "\n",
              "    .dataframe thead th {\n",
              "        text-align: right;\n",
              "    }\n",
              "</style>\n",
              "<table border=\"1\" class=\"dataframe\">\n",
              "  <thead>\n",
              "    <tr style=\"text-align: right;\">\n",
              "      <th></th>\n",
              "      <th>neighbourhood_group_cleansed</th>\n",
              "      <th>count</th>\n",
              "    </tr>\n",
              "  </thead>\n",
              "  <tbody>\n",
              "    <tr>\n",
              "      <th>0</th>\n",
              "      <td>Ciutat Vella</td>\n",
              "      <td>4357</td>\n",
              "    </tr>\n",
              "    <tr>\n",
              "      <th>1</th>\n",
              "      <td>Eixample</td>\n",
              "      <td>6575</td>\n",
              "    </tr>\n",
              "    <tr>\n",
              "      <th>2</th>\n",
              "      <td>Gràcia</td>\n",
              "      <td>1571</td>\n",
              "    </tr>\n",
              "    <tr>\n",
              "      <th>3</th>\n",
              "      <td>Horta-Guinardó</td>\n",
              "      <td>525</td>\n",
              "    </tr>\n",
              "    <tr>\n",
              "      <th>4</th>\n",
              "      <td>Les Corts</td>\n",
              "      <td>369</td>\n",
              "    </tr>\n",
              "    <tr>\n",
              "      <th>5</th>\n",
              "      <td>Nou Barris</td>\n",
              "      <td>210</td>\n",
              "    </tr>\n",
              "    <tr>\n",
              "      <th>6</th>\n",
              "      <td>Sant Andreu</td>\n",
              "      <td>279</td>\n",
              "    </tr>\n",
              "    <tr>\n",
              "      <th>7</th>\n",
              "      <td>Sant Martí</td>\n",
              "      <td>1639</td>\n",
              "    </tr>\n",
              "    <tr>\n",
              "      <th>8</th>\n",
              "      <td>Sants-Montjuïc</td>\n",
              "      <td>1902</td>\n",
              "    </tr>\n",
              "    <tr>\n",
              "      <th>9</th>\n",
              "      <td>Sarrià-Sant Gervasi</td>\n",
              "      <td>894</td>\n",
              "    </tr>\n",
              "  </tbody>\n",
              "</table>\n",
              "</div>"
            ],
            "text/plain": [
              "  neighbourhood_group_cleansed  count\n",
              "0                 Ciutat Vella   4357\n",
              "1                     Eixample   6575\n",
              "2                       Gràcia   1571\n",
              "3               Horta-Guinardó    525\n",
              "4                    Les Corts    369\n",
              "5                   Nou Barris    210\n",
              "6                  Sant Andreu    279\n",
              "7                   Sant Martí   1639\n",
              "8               Sants-Montjuïc   1902\n",
              "9          Sarrià-Sant Gervasi    894"
            ]
          },
          "execution_count": 16,
          "metadata": {},
          "output_type": "execute_result"
        }
      ],
      "source": [
        "%%time\n",
        "neighbourhood_group_data = airbnb_schema.groupby(\"neighbourhood_group_cleansed\").size().reset_index(name='count')\n",
        "neighbourhood_group_data.head(20)"
      ]
    },
    {
      "attachments": {},
      "cell_type": "markdown",
      "metadata": {
        "colab_type": "text",
        "id": "WpzciL7xQEhV"
      },
      "source": [
        "**10. Showing the above data as a pie chart to understand the division clearly.**"
      ]
    },
    {
      "cell_type": "code",
      "execution_count": 17,
      "metadata": {
        "colab": {
          "base_uri": "https://localhost:8080/",
          "height": 373
        },
        "colab_type": "code",
        "id": "r0A8kixUQWc6",
        "outputId": "f75fb8ad-aef4-4e42-e7ec-20447f90b18f"
      },
      "outputs": [
        {
          "name": "stdout",
          "output_type": "stream",
          "text": [
            "CPU times: user 414 ms, sys: 34.5 ms, total: 448 ms\n",
            "Wall time: 522 ms\n"
          ]
        },
        {
          "data": {
            "image/png": "[encoded data removed]",
            "text/plain": [
              "<Figure size 1600x600 with 1 Axes>"
            ]
          },
          "metadata": {},
          "output_type": "display_data"
        }
      ],
      "source": [
        "%%time\n",
        "neighbourhood_group_data.set_index('neighbourhood_group_cleansed', inplace=True)\n",
        "plt = neighbourhood_group_data.plot.pie(y='count', autopct='%1.1f%%', legend = False, title='Listings by Neighbourhood Groups', figsize=(16,6))\n"
      ]
    },
    {
      "attachments": {},
      "cell_type": "markdown",
      "metadata": {
        "colab_type": "text",
        "id": "OqQV-RXEy9PU"
      },
      "source": [
        "**11. Distinct neighbourhood count**"
      ]
    },
    {
      "cell_type": "code",
      "execution_count": 18,
      "metadata": {
        "colab": {
          "base_uri": "https://localhost:8080/",
          "height": 34
        },
        "colab_type": "code",
        "id": "pjOZQOzq0oUt",
        "outputId": "dd2baae6-3b69-481b-c624-c61a63b6e00c"
      },
      "outputs": [
        {
          "name": "stdout",
          "output_type": "stream",
          "text": [
            "71\n",
            "CPU times: user 2.43 ms, sys: 541 µs, total: 2.97 ms\n",
            "Wall time: 2.34 ms\n"
          ]
        }
      ],
      "source": [
        "%%time\n",
        "print(airbnb_schema[\"neighbourhood_cleansed\"].nunique())"
      ]
    },
    {
      "attachments": {},
      "cell_type": "markdown",
      "metadata": {
        "colab_type": "text",
        "id": "tPP8Tk460kqK"
      },
      "source": [
        "**12. Distinct neighbourhood**"
      ]
    },
    {
      "cell_type": "code",
      "execution_count": 19,
      "metadata": {
        "colab": {
          "base_uri": "https://localhost:8080/",
          "height": 454
        },
        "colab_type": "code",
        "id": "_JZ5BMyAyzuV",
        "outputId": "c8d172b6-b019-443c-945a-97fe28600c73"
      },
      "outputs": [
        {
          "name": "stdout",
          "output_type": "stream",
          "text": [
            "CPU times: user 3 ms, sys: 3.73 ms, total: 6.73 ms\n",
            "Wall time: 3.51 ms\n"
          ]
        },
        {
          "data": {
            "text/html": [
              "<div>\n",
              "<style scoped>\n",
              "    .dataframe tbody tr th:only-of-type {\n",
              "        vertical-align: middle;\n",
              "    }\n",
              "\n",
              "    .dataframe tbody tr th {\n",
              "        vertical-align: top;\n",
              "    }\n",
              "\n",
              "    .dataframe thead th {\n",
              "        text-align: right;\n",
              "    }\n",
              "</style>\n",
              "<table border=\"1\" class=\"dataframe\">\n",
              "  <thead>\n",
              "    <tr style=\"text-align: right;\">\n",
              "      <th></th>\n",
              "      <th>neighbourhood_cleansed</th>\n",
              "      <th>count</th>\n",
              "    </tr>\n",
              "  </thead>\n",
              "  <tbody>\n",
              "    <tr>\n",
              "      <th>0</th>\n",
              "      <td>Can Baró</td>\n",
              "      <td>41</td>\n",
              "    </tr>\n",
              "    <tr>\n",
              "      <th>1</th>\n",
              "      <td>Can Peguera</td>\n",
              "      <td>3</td>\n",
              "    </tr>\n",
              "    <tr>\n",
              "      <th>2</th>\n",
              "      <td>Canyelles</td>\n",
              "      <td>1</td>\n",
              "    </tr>\n",
              "    <tr>\n",
              "      <th>3</th>\n",
              "      <td>Diagonal Mar i el Front Marítim del Poblenou</td>\n",
              "      <td>143</td>\n",
              "    </tr>\n",
              "    <tr>\n",
              "      <th>4</th>\n",
              "      <td>Horta</td>\n",
              "      <td>26</td>\n",
              "    </tr>\n",
              "    <tr>\n",
              "      <th>5</th>\n",
              "      <td>Hostafrancs</td>\n",
              "      <td>230</td>\n",
              "    </tr>\n",
              "    <tr>\n",
              "      <th>6</th>\n",
              "      <td>Montbau</td>\n",
              "      <td>12</td>\n",
              "    </tr>\n",
              "    <tr>\n",
              "      <th>7</th>\n",
              "      <td>Navas</td>\n",
              "      <td>76</td>\n",
              "    </tr>\n",
              "    <tr>\n",
              "      <th>8</th>\n",
              "      <td>Pedralbes</td>\n",
              "      <td>39</td>\n",
              "    </tr>\n",
              "    <tr>\n",
              "      <th>9</th>\n",
              "      <td>Porta</td>\n",
              "      <td>32</td>\n",
              "    </tr>\n",
              "    <tr>\n",
              "      <th>10</th>\n",
              "      <td>Provençals del Poblenou</td>\n",
              "      <td>83</td>\n",
              "    </tr>\n",
              "    <tr>\n",
              "      <th>11</th>\n",
              "      <td>Sant Andreu</td>\n",
              "      <td>80</td>\n",
              "    </tr>\n",
              "    <tr>\n",
              "      <th>12</th>\n",
              "      <td>Sant Antoni</td>\n",
              "      <td>905</td>\n",
              "    </tr>\n",
              "    <tr>\n",
              "      <th>13</th>\n",
              "      <td>Sant Genís dels Agudells</td>\n",
              "      <td>11</td>\n",
              "    </tr>\n",
              "    <tr>\n",
              "      <th>14</th>\n",
              "      <td>Sant Gervasi - Galvany</td>\n",
              "      <td>442</td>\n",
              "    </tr>\n",
              "    <tr>\n",
              "      <th>15</th>\n",
              "      <td>Sant Gervasi - la Bonanova</td>\n",
              "      <td>83</td>\n",
              "    </tr>\n",
              "    <tr>\n",
              "      <th>16</th>\n",
              "      <td>Sant Martí de Provençals</td>\n",
              "      <td>76</td>\n",
              "    </tr>\n",
              "    <tr>\n",
              "      <th>17</th>\n",
              "      <td>Sant Pere, Santa Caterina i la Ribera</td>\n",
              "      <td>1179</td>\n",
              "    </tr>\n",
              "    <tr>\n",
              "      <th>18</th>\n",
              "      <td>Sants</td>\n",
              "      <td>352</td>\n",
              "    </tr>\n",
              "    <tr>\n",
              "      <th>19</th>\n",
              "      <td>Sants - Badal</td>\n",
              "      <td>229</td>\n",
              "    </tr>\n",
              "  </tbody>\n",
              "</table>\n",
              "</div>"
            ],
            "text/plain": [
              "                          neighbourhood_cleansed  count\n",
              "0                                       Can Baró     41\n",
              "1                                    Can Peguera      3\n",
              "2                                      Canyelles      1\n",
              "3   Diagonal Mar i el Front Marítim del Poblenou    143\n",
              "4                                          Horta     26\n",
              "5                                    Hostafrancs    230\n",
              "6                                        Montbau     12\n",
              "7                                          Navas     76\n",
              "8                                      Pedralbes     39\n",
              "9                                          Porta     32\n",
              "10                       Provençals del Poblenou     83\n",
              "11                                   Sant Andreu     80\n",
              "12                                   Sant Antoni    905\n",
              "13                      Sant Genís dels Agudells     11\n",
              "14                        Sant Gervasi - Galvany    442\n",
              "15                    Sant Gervasi - la Bonanova     83\n",
              "16                      Sant Martí de Provençals     76\n",
              "17         Sant Pere, Santa Caterina i la Ribera   1179\n",
              "18                                         Sants    352\n",
              "19                                 Sants - Badal    229"
            ]
          },
          "execution_count": 19,
          "metadata": {},
          "output_type": "execute_result"
        }
      ],
      "source": [
        "%%time\n",
        "distinct_nei = airbnb_schema.groupby(\"neighbourhood_cleansed\").size().reset_index(name='count')\n",
        "distinct_nei.head(20)"
      ]
    },
    {
      "cell_type": "code",
      "execution_count": 20,
      "metadata": {
        "colab": {
          "base_uri": "https://localhost:8080/",
          "height": 202
        },
        "colab_type": "code",
        "id": "Fz8rWZb0Ws6f",
        "outputId": "0a7e9685-9746-4b2a-c994-58e08e81addb"
      },
      "outputs": [
        {
          "name": "stdout",
          "output_type": "stream",
          "text": [
            "CPU times: user 712 µs, sys: 162 µs, total: 874 µs\n",
            "Wall time: 856 µs\n"
          ]
        },
        {
          "data": {
            "text/html": [
              "<div>\n",
              "<style scoped>\n",
              "    .dataframe tbody tr th:only-of-type {\n",
              "        vertical-align: middle;\n",
              "    }\n",
              "\n",
              "    .dataframe tbody tr th {\n",
              "        vertical-align: top;\n",
              "    }\n",
              "\n",
              "    .dataframe thead th {\n",
              "        text-align: right;\n",
              "    }\n",
              "</style>\n",
              "<table border=\"1\" class=\"dataframe\">\n",
              "  <thead>\n",
              "    <tr style=\"text-align: right;\">\n",
              "      <th></th>\n",
              "      <th>neighbourhood_cleansed</th>\n",
              "      <th>count</th>\n",
              "    </tr>\n",
              "  </thead>\n",
              "  <tbody>\n",
              "    <tr>\n",
              "      <th>49</th>\n",
              "      <td>la Dreta de l'Eixample</td>\n",
              "      <td>2239</td>\n",
              "    </tr>\n",
              "    <tr>\n",
              "      <th>43</th>\n",
              "      <td>el Raval</td>\n",
              "      <td>1474</td>\n",
              "    </tr>\n",
              "    <tr>\n",
              "      <th>28</th>\n",
              "      <td>el Barri Gòtic</td>\n",
              "      <td>1282</td>\n",
              "    </tr>\n",
              "    <tr>\n",
              "      <th>17</th>\n",
              "      <td>Sant Pere, Santa Caterina i la Ribera</td>\n",
              "      <td>1179</td>\n",
              "    </tr>\n",
              "    <tr>\n",
              "      <th>67</th>\n",
              "      <td>la Vila de Gràcia</td>\n",
              "      <td>1066</td>\n",
              "    </tr>\n",
              "  </tbody>\n",
              "</table>\n",
              "</div>"
            ],
            "text/plain": [
              "                   neighbourhood_cleansed  count\n",
              "49                 la Dreta de l'Eixample   2239\n",
              "43                               el Raval   1474\n",
              "28                         el Barri Gòtic   1282\n",
              "17  Sant Pere, Santa Caterina i la Ribera   1179\n",
              "67                      la Vila de Gràcia   1066"
            ]
          },
          "execution_count": 20,
          "metadata": {},
          "output_type": "execute_result"
        }
      ],
      "source": [
        "%%time\n",
        "sorted_distinct_nei = distinct_nei.sort_values(by='count', ascending=False)\n",
        "sorted_distinct_nei.head(5)"
      ]
    },
    {
      "attachments": {},
      "cell_type": "markdown",
      "metadata": {
        "colab_type": "text",
        "id": "Up72D5Xi08p4"
      },
      "source": [
        "**13. Analysis of availability of apartments.**"
      ]
    },
    {
      "cell_type": "code",
      "execution_count": 21,
      "metadata": {
        "colab": {
          "base_uri": "https://localhost:8080/",
          "height": 454
        },
        "colab_type": "code",
        "id": "HEQROHhEzIB8",
        "outputId": "53857a24-808e-49c8-b889-7ab7983dd4ad"
      },
      "outputs": [
        {
          "name": "stdout",
          "output_type": "stream",
          "text": [
            "CPU times: user 2.2 ms, sys: 3.56 ms, total: 5.77 ms\n",
            "Wall time: 3.05 ms\n"
          ]
        },
        {
          "data": {
            "text/html": [
              "<div>\n",
              "<style scoped>\n",
              "    .dataframe tbody tr th:only-of-type {\n",
              "        vertical-align: middle;\n",
              "    }\n",
              "\n",
              "    .dataframe tbody tr th {\n",
              "        vertical-align: top;\n",
              "    }\n",
              "\n",
              "    .dataframe thead th {\n",
              "        text-align: right;\n",
              "    }\n",
              "</style>\n",
              "<table border=\"1\" class=\"dataframe\">\n",
              "  <thead>\n",
              "    <tr style=\"text-align: right;\">\n",
              "      <th></th>\n",
              "      <th>availability_365</th>\n",
              "      <th>count</th>\n",
              "    </tr>\n",
              "  </thead>\n",
              "  <tbody>\n",
              "    <tr>\n",
              "      <th>0</th>\n",
              "      <td>0</td>\n",
              "      <td>4180</td>\n",
              "    </tr>\n",
              "    <tr>\n",
              "      <th>1</th>\n",
              "      <td>1</td>\n",
              "      <td>50</td>\n",
              "    </tr>\n",
              "    <tr>\n",
              "      <th>2</th>\n",
              "      <td>2</td>\n",
              "      <td>28</td>\n",
              "    </tr>\n",
              "    <tr>\n",
              "      <th>3</th>\n",
              "      <td>3</td>\n",
              "      <td>22</td>\n",
              "    </tr>\n",
              "    <tr>\n",
              "      <th>4</th>\n",
              "      <td>4</td>\n",
              "      <td>24</td>\n",
              "    </tr>\n",
              "    <tr>\n",
              "      <th>5</th>\n",
              "      <td>5</td>\n",
              "      <td>23</td>\n",
              "    </tr>\n",
              "    <tr>\n",
              "      <th>6</th>\n",
              "      <td>6</td>\n",
              "      <td>18</td>\n",
              "    </tr>\n",
              "    <tr>\n",
              "      <th>7</th>\n",
              "      <td>7</td>\n",
              "      <td>65</td>\n",
              "    </tr>\n",
              "    <tr>\n",
              "      <th>8</th>\n",
              "      <td>8</td>\n",
              "      <td>34</td>\n",
              "    </tr>\n",
              "    <tr>\n",
              "      <th>9</th>\n",
              "      <td>9</td>\n",
              "      <td>35</td>\n",
              "    </tr>\n",
              "    <tr>\n",
              "      <th>10</th>\n",
              "      <td>10</td>\n",
              "      <td>24</td>\n",
              "    </tr>\n",
              "    <tr>\n",
              "      <th>11</th>\n",
              "      <td>11</td>\n",
              "      <td>25</td>\n",
              "    </tr>\n",
              "    <tr>\n",
              "      <th>12</th>\n",
              "      <td>12</td>\n",
              "      <td>35</td>\n",
              "    </tr>\n",
              "    <tr>\n",
              "      <th>13</th>\n",
              "      <td>13</td>\n",
              "      <td>38</td>\n",
              "    </tr>\n",
              "    <tr>\n",
              "      <th>14</th>\n",
              "      <td>14</td>\n",
              "      <td>29</td>\n",
              "    </tr>\n",
              "    <tr>\n",
              "      <th>15</th>\n",
              "      <td>15</td>\n",
              "      <td>34</td>\n",
              "    </tr>\n",
              "    <tr>\n",
              "      <th>16</th>\n",
              "      <td>16</td>\n",
              "      <td>27</td>\n",
              "    </tr>\n",
              "    <tr>\n",
              "      <th>17</th>\n",
              "      <td>17</td>\n",
              "      <td>43</td>\n",
              "    </tr>\n",
              "    <tr>\n",
              "      <th>18</th>\n",
              "      <td>18</td>\n",
              "      <td>46</td>\n",
              "    </tr>\n",
              "    <tr>\n",
              "      <th>19</th>\n",
              "      <td>19</td>\n",
              "      <td>20</td>\n",
              "    </tr>\n",
              "  </tbody>\n",
              "</table>\n",
              "</div>"
            ],
            "text/plain": [
              "    availability_365  count\n",
              "0                  0   4180\n",
              "1                  1     50\n",
              "2                  2     28\n",
              "3                  3     22\n",
              "4                  4     24\n",
              "5                  5     23\n",
              "6                  6     18\n",
              "7                  7     65\n",
              "8                  8     34\n",
              "9                  9     35\n",
              "10                10     24\n",
              "11                11     25\n",
              "12                12     35\n",
              "13                13     38\n",
              "14                14     29\n",
              "15                15     34\n",
              "16                16     27\n",
              "17                17     43\n",
              "18                18     46\n",
              "19                19     20"
            ]
          },
          "execution_count": 21,
          "metadata": {},
          "output_type": "execute_result"
        }
      ],
      "source": [
        "%%time\n",
        "avail_df = airbnb_schema.groupby(\"availability_365\").size().reset_index(name='count')\n",
        "avail_df_sorted = avail_df.sort_values(by='availability_365')\n",
        "avail_df_sorted.head(20)"
      ]
    },
    {
      "attachments": {},
      "cell_type": "markdown",
      "metadata": {
        "colab_type": "text",
        "id": "sT3O-VjJrg--"
      },
      "source": [
        "**14. Distinct host id**"
      ]
    },
    {
      "cell_type": "code",
      "execution_count": 22,
      "metadata": {
        "colab": {
          "base_uri": "https://localhost:8080/",
          "height": 34
        },
        "colab_type": "code",
        "id": "4-9odn-I1Eb3",
        "outputId": "23af5b04-87a1-48b9-8535-b7dace534074"
      },
      "outputs": [
        {
          "name": "stdout",
          "output_type": "stream",
          "text": [
            "7016\n",
            "CPU times: user 1.1 ms, sys: 251 µs, total: 1.35 ms\n",
            "Wall time: 1.25 ms\n"
          ]
        }
      ],
      "source": [
        "%%time\n",
        "print(airbnb_schema['host_id'].nunique())"
      ]
    },
    {
      "attachments": {},
      "cell_type": "markdown",
      "metadata": {
        "colab_type": "text",
        "id": "mAMwi0CxsJbA"
      },
      "source": [
        "**15. Number of apartments under different room type**"
      ]
    },
    {
      "cell_type": "markdown",
      "metadata": {},
      "source": [
        "Find all different room types"
      ]
    },
    {
      "cell_type": "code",
      "execution_count": 23,
      "metadata": {},
      "outputs": [
        {
          "name": "stdout",
          "output_type": "stream",
          "text": [
            "['Entire home/apt' 'Private room' 'Hotel room' 'Shared room']\n",
            "CPU times: user 1.85 ms, sys: 0 ns, total: 1.85 ms\n",
            "Wall time: 1.66 ms\n"
          ]
        }
      ],
      "source": [
        "%%time\n",
        "unique_rooms = airbnb_schema[\"room_type\"].unique()\n",
        "print(unique_rooms)"
      ]
    },
    {
      "cell_type": "code",
      "execution_count": 24,
      "metadata": {
        "colab": {
          "base_uri": "https://localhost:8080/",
          "height": 151
        },
        "colab_type": "code",
        "id": "wiwtvbjB6Z4v",
        "outputId": "e66aca92-9e44-4c76-912a-3c6d71eee146"
      },
      "outputs": [
        {
          "name": "stdout",
          "output_type": "stream",
          "text": [
            "CPU times: user 4.8 ms, sys: 3.1 ms, total: 7.9 ms\n",
            "Wall time: 7.79 ms\n"
          ]
        },
        {
          "data": {
            "text/html": [
              "<div>\n",
              "<style scoped>\n",
              "    .dataframe tbody tr th:only-of-type {\n",
              "        vertical-align: middle;\n",
              "    }\n",
              "\n",
              "    .dataframe tbody tr th {\n",
              "        vertical-align: top;\n",
              "    }\n",
              "\n",
              "    .dataframe thead th {\n",
              "        text-align: right;\n",
              "    }\n",
              "</style>\n",
              "<table border=\"1\" class=\"dataframe\">\n",
              "  <thead>\n",
              "    <tr style=\"text-align: right;\">\n",
              "      <th></th>\n",
              "      <th>room_type</th>\n",
              "      <th>count</th>\n",
              "    </tr>\n",
              "  </thead>\n",
              "  <tbody>\n",
              "    <tr>\n",
              "      <th>3</th>\n",
              "      <td>Shared room</td>\n",
              "      <td>161</td>\n",
              "    </tr>\n",
              "    <tr>\n",
              "      <th>2</th>\n",
              "      <td>Private room</td>\n",
              "      <td>7275</td>\n",
              "    </tr>\n",
              "    <tr>\n",
              "      <th>1</th>\n",
              "      <td>Hotel room</td>\n",
              "      <td>134</td>\n",
              "    </tr>\n",
              "    <tr>\n",
              "      <th>0</th>\n",
              "      <td>Entire home/apt</td>\n",
              "      <td>10751</td>\n",
              "    </tr>\n",
              "  </tbody>\n",
              "</table>\n",
              "</div>"
            ],
            "text/plain": [
              "         room_type  count\n",
              "3      Shared room    161\n",
              "2     Private room   7275\n",
              "1       Hotel room    134\n",
              "0  Entire home/apt  10751"
            ]
          },
          "execution_count": 24,
          "metadata": {},
          "output_type": "execute_result"
        }
      ],
      "source": [
        "%%time\n",
        "# Number of apartments under different room type\n",
        "room_type_data = airbnb_schema[airbnb_schema['room_type'].isin([\"Private room\", \"Entire home/apt\", \"Shared room\", \"Hotel room\"])]\n",
        "room_type_data = room_type_data.groupby('room_type').size().reset_index(name='count')\n",
        "room_type_data = room_type_data.sort_values(by='room_type', ascending=False)\n",
        "room_type_data.head()"
      ]
    },
    {
      "attachments": {},
      "cell_type": "markdown",
      "metadata": {
        "colab_type": "text",
        "id": "W-CyYRqWEtUj"
      },
      "source": [
        "**16. Showing a general preference based on the room types. As we can see, most people prefer an Entire home/apt followed by Private Room and very few Shared rooms**"
      ]
    },
    {
      "cell_type": "code",
      "execution_count": 25,
      "metadata": {
        "colab": {
          "base_uri": "https://localhost:8080/",
          "height": 373
        },
        "colab_type": "code",
        "id": "OGM7C7k_XOGx",
        "outputId": "34c212e0-7b4e-4519-86a1-1327f2c36c2d"
      },
      "outputs": [
        {
          "name": "stdout",
          "output_type": "stream",
          "text": [
            "CPU times: user 24.7 ms, sys: 8.12 ms, total: 32.8 ms\n",
            "Wall time: 33.1 ms\n"
          ]
        },
        {
          "data": {
            "image/png": "[encoded data removed]",
            "text/plain": [
              "<Figure size 1600x600 with 1 Axes>"
            ]
          },
          "metadata": {},
          "output_type": "display_data"
        }
      ],
      "source": [
        "%%time\n",
        "room_type_data.set_index('room_type', inplace=True)\n",
        "plt = room_type_data.plot.pie(y='count', autopct='%1.1f%%', legend = False, title='Listings by Room types', figsize=(16,6))"
      ]
    },
    {
      "attachments": {},
      "cell_type": "markdown",
      "metadata": {
        "colab_type": "text",
        "id": "DMh5QbhGseKb"
      },
      "source": [
        "**17. Combining room_type with neighbourhoodt**"
      ]
    },
    {
      "cell_type": "code",
      "execution_count": 26,
      "metadata": {
        "colab": {
          "base_uri": "https://localhost:8080/",
          "height": 454
        },
        "colab_type": "code",
        "id": "mD-vE_Ze-MuF",
        "outputId": "e22eb6bc-1a86-46dc-cb4f-75e56528b6e8"
      },
      "outputs": [
        {
          "name": "stdout",
          "output_type": "stream",
          "text": [
            "CPU times: user 2.37 ms, sys: 580 µs, total: 2.95 ms\n",
            "Wall time: 2.6 ms\n"
          ]
        },
        {
          "data": {
            "text/html": [
              "<div>\n",
              "<style scoped>\n",
              "    .dataframe tbody tr th:only-of-type {\n",
              "        vertical-align: middle;\n",
              "    }\n",
              "\n",
              "    .dataframe tbody tr th {\n",
              "        vertical-align: top;\n",
              "    }\n",
              "\n",
              "    .dataframe thead th {\n",
              "        text-align: right;\n",
              "    }\n",
              "</style>\n",
              "<table border=\"1\" class=\"dataframe\">\n",
              "  <thead>\n",
              "    <tr style=\"text-align: right;\">\n",
              "      <th></th>\n",
              "      <th>neighbourhood_cleansed</th>\n",
              "      <th>room_type</th>\n",
              "    </tr>\n",
              "  </thead>\n",
              "  <tbody>\n",
              "    <tr>\n",
              "      <th>0</th>\n",
              "      <td>la Dreta de l'Eixample</td>\n",
              "      <td>Entire home/apt</td>\n",
              "    </tr>\n",
              "    <tr>\n",
              "      <th>1</th>\n",
              "      <td>la Sagrada Família</td>\n",
              "      <td>Entire home/apt</td>\n",
              "    </tr>\n",
              "    <tr>\n",
              "      <th>2</th>\n",
              "      <td>Diagonal Mar i el Front Marítim del Poblenou</td>\n",
              "      <td>Entire home/apt</td>\n",
              "    </tr>\n",
              "    <tr>\n",
              "      <th>3</th>\n",
              "      <td>l'Antiga Esquerra de l'Eixample</td>\n",
              "      <td>Private room</td>\n",
              "    </tr>\n",
              "    <tr>\n",
              "      <th>4</th>\n",
              "      <td>el Besòs i el Maresme</td>\n",
              "      <td>Entire home/apt</td>\n",
              "    </tr>\n",
              "    <tr>\n",
              "      <th>5</th>\n",
              "      <td>la Vila de Gràcia</td>\n",
              "      <td>Entire home/apt</td>\n",
              "    </tr>\n",
              "    <tr>\n",
              "      <th>6</th>\n",
              "      <td>el Camp d'en Grassot i Gràcia Nova</td>\n",
              "      <td>Entire home/apt</td>\n",
              "    </tr>\n",
              "    <tr>\n",
              "      <th>7</th>\n",
              "      <td>el Poble Sec</td>\n",
              "      <td>Entire home/apt</td>\n",
              "    </tr>\n",
              "    <tr>\n",
              "      <th>8</th>\n",
              "      <td>la Vila de Gràcia</td>\n",
              "      <td>Entire home/apt</td>\n",
              "    </tr>\n",
              "    <tr>\n",
              "      <th>9</th>\n",
              "      <td>el Barri Gòtic</td>\n",
              "      <td>Entire home/apt</td>\n",
              "    </tr>\n",
              "    <tr>\n",
              "      <th>10</th>\n",
              "      <td>el Poble Sec</td>\n",
              "      <td>Private room</td>\n",
              "    </tr>\n",
              "    <tr>\n",
              "      <th>11</th>\n",
              "      <td>el Barri Gòtic</td>\n",
              "      <td>Entire home/apt</td>\n",
              "    </tr>\n",
              "    <tr>\n",
              "      <th>12</th>\n",
              "      <td>la Barceloneta</td>\n",
              "      <td>Private room</td>\n",
              "    </tr>\n",
              "    <tr>\n",
              "      <th>13</th>\n",
              "      <td>Sants</td>\n",
              "      <td>Entire home/apt</td>\n",
              "    </tr>\n",
              "    <tr>\n",
              "      <th>14</th>\n",
              "      <td>el Fort Pienc</td>\n",
              "      <td>Entire home/apt</td>\n",
              "    </tr>\n",
              "    <tr>\n",
              "      <th>15</th>\n",
              "      <td>la Dreta de l'Eixample</td>\n",
              "      <td>Entire home/apt</td>\n",
              "    </tr>\n",
              "    <tr>\n",
              "      <th>16</th>\n",
              "      <td>el Camp d'en Grassot i Gràcia Nova</td>\n",
              "      <td>Entire home/apt</td>\n",
              "    </tr>\n",
              "    <tr>\n",
              "      <th>17</th>\n",
              "      <td>Sant Pere, Santa Caterina i la Ribera</td>\n",
              "      <td>Entire home/apt</td>\n",
              "    </tr>\n",
              "    <tr>\n",
              "      <th>18</th>\n",
              "      <td>el Camp d'en Grassot i Gràcia Nova</td>\n",
              "      <td>Entire home/apt</td>\n",
              "    </tr>\n",
              "    <tr>\n",
              "      <th>19</th>\n",
              "      <td>la Sagrada Família</td>\n",
              "      <td>Entire home/apt</td>\n",
              "    </tr>\n",
              "  </tbody>\n",
              "</table>\n",
              "</div>"
            ],
            "text/plain": [
              "                          neighbourhood_cleansed        room_type\n",
              "0                         la Dreta de l'Eixample  Entire home/apt\n",
              "1                             la Sagrada Família  Entire home/apt\n",
              "2   Diagonal Mar i el Front Marítim del Poblenou  Entire home/apt\n",
              "3                l'Antiga Esquerra de l'Eixample     Private room\n",
              "4                          el Besòs i el Maresme  Entire home/apt\n",
              "5                              la Vila de Gràcia  Entire home/apt\n",
              "6             el Camp d'en Grassot i Gràcia Nova  Entire home/apt\n",
              "7                                   el Poble Sec  Entire home/apt\n",
              "8                              la Vila de Gràcia  Entire home/apt\n",
              "9                                 el Barri Gòtic  Entire home/apt\n",
              "10                                  el Poble Sec     Private room\n",
              "11                                el Barri Gòtic  Entire home/apt\n",
              "12                                la Barceloneta     Private room\n",
              "13                                         Sants  Entire home/apt\n",
              "14                                 el Fort Pienc  Entire home/apt\n",
              "15                        la Dreta de l'Eixample  Entire home/apt\n",
              "16            el Camp d'en Grassot i Gràcia Nova  Entire home/apt\n",
              "17         Sant Pere, Santa Caterina i la Ribera  Entire home/apt\n",
              "18            el Camp d'en Grassot i Gràcia Nova  Entire home/apt\n",
              "19                            la Sagrada Família  Entire home/apt"
            ]
          },
          "execution_count": 26,
          "metadata": {},
          "output_type": "execute_result"
        }
      ],
      "source": [
        "%%time\n",
        "neigh_room_type_schema = airbnb_schema.loc[:, [\"neighbourhood_cleansed\", \"room_type\"]]\n",
        "neigh_room_type_schema.head(20)"
      ]
    },
    {
      "attachments": {},
      "cell_type": "markdown",
      "metadata": {
        "colab_type": "text",
        "id": "nw0h9eYxsvuI"
      },
      "source": [
        "**18. Below table shows room type by neighbourhood group**"
      ]
    },
    {
      "cell_type": "code",
      "execution_count": 27,
      "metadata": {
        "colab": {
          "base_uri": "https://localhost:8080/",
          "height": 353
        },
        "colab_type": "code",
        "id": "qHoePVu56OoF",
        "outputId": "b0665ae1-2ff0-4546-d8ed-eef6136e4abe"
      },
      "outputs": [
        {
          "name": "stdout",
          "output_type": "stream",
          "text": [
            "CPU times: user 3.43 ms, sys: 4.81 ms, total: 8.24 ms\n",
            "Wall time: 13.3 ms\n"
          ]
        },
        {
          "data": {
            "text/html": [
              "<div>\n",
              "<style scoped>\n",
              "    .dataframe tbody tr th:only-of-type {\n",
              "        vertical-align: middle;\n",
              "    }\n",
              "\n",
              "    .dataframe tbody tr th {\n",
              "        vertical-align: top;\n",
              "    }\n",
              "\n",
              "    .dataframe thead th {\n",
              "        text-align: right;\n",
              "    }\n",
              "</style>\n",
              "<table border=\"1\" class=\"dataframe\">\n",
              "  <thead>\n",
              "    <tr style=\"text-align: right;\">\n",
              "      <th></th>\n",
              "      <th>neighbourhood_group_cleansed</th>\n",
              "      <th>room_type</th>\n",
              "      <th>count</th>\n",
              "    </tr>\n",
              "  </thead>\n",
              "  <tbody>\n",
              "    <tr>\n",
              "      <th>0</th>\n",
              "      <td>Ciutat Vella</td>\n",
              "      <td>Entire home/apt</td>\n",
              "      <td>2343</td>\n",
              "    </tr>\n",
              "    <tr>\n",
              "      <th>1</th>\n",
              "      <td>Ciutat Vella</td>\n",
              "      <td>Hotel room</td>\n",
              "      <td>25</td>\n",
              "    </tr>\n",
              "    <tr>\n",
              "      <th>2</th>\n",
              "      <td>Ciutat Vella</td>\n",
              "      <td>Private room</td>\n",
              "      <td>1981</td>\n",
              "    </tr>\n",
              "    <tr>\n",
              "      <th>3</th>\n",
              "      <td>Ciutat Vella</td>\n",
              "      <td>Shared room</td>\n",
              "      <td>8</td>\n",
              "    </tr>\n",
              "    <tr>\n",
              "      <th>4</th>\n",
              "      <td>Eixample</td>\n",
              "      <td>Entire home/apt</td>\n",
              "      <td>4091</td>\n",
              "    </tr>\n",
              "    <tr>\n",
              "      <th>5</th>\n",
              "      <td>Eixample</td>\n",
              "      <td>Hotel room</td>\n",
              "      <td>84</td>\n",
              "    </tr>\n",
              "    <tr>\n",
              "      <th>6</th>\n",
              "      <td>Eixample</td>\n",
              "      <td>Private room</td>\n",
              "      <td>2323</td>\n",
              "    </tr>\n",
              "    <tr>\n",
              "      <th>7</th>\n",
              "      <td>Eixample</td>\n",
              "      <td>Shared room</td>\n",
              "      <td>77</td>\n",
              "    </tr>\n",
              "    <tr>\n",
              "      <th>8</th>\n",
              "      <td>Gràcia</td>\n",
              "      <td>Entire home/apt</td>\n",
              "      <td>997</td>\n",
              "    </tr>\n",
              "    <tr>\n",
              "      <th>9</th>\n",
              "      <td>Gràcia</td>\n",
              "      <td>Hotel room</td>\n",
              "      <td>11</td>\n",
              "    </tr>\n",
              "    <tr>\n",
              "      <th>10</th>\n",
              "      <td>Gràcia</td>\n",
              "      <td>Private room</td>\n",
              "      <td>543</td>\n",
              "    </tr>\n",
              "    <tr>\n",
              "      <th>11</th>\n",
              "      <td>Gràcia</td>\n",
              "      <td>Shared room</td>\n",
              "      <td>20</td>\n",
              "    </tr>\n",
              "    <tr>\n",
              "      <th>12</th>\n",
              "      <td>Horta-Guinardó</td>\n",
              "      <td>Entire home/apt</td>\n",
              "      <td>250</td>\n",
              "    </tr>\n",
              "    <tr>\n",
              "      <th>13</th>\n",
              "      <td>Horta-Guinardó</td>\n",
              "      <td>Private room</td>\n",
              "      <td>272</td>\n",
              "    </tr>\n",
              "    <tr>\n",
              "      <th>14</th>\n",
              "      <td>Horta-Guinardó</td>\n",
              "      <td>Shared room</td>\n",
              "      <td>3</td>\n",
              "    </tr>\n",
              "    <tr>\n",
              "      <th>15</th>\n",
              "      <td>Les Corts</td>\n",
              "      <td>Entire home/apt</td>\n",
              "      <td>246</td>\n",
              "    </tr>\n",
              "    <tr>\n",
              "      <th>16</th>\n",
              "      <td>Les Corts</td>\n",
              "      <td>Private room</td>\n",
              "      <td>118</td>\n",
              "    </tr>\n",
              "    <tr>\n",
              "      <th>17</th>\n",
              "      <td>Les Corts</td>\n",
              "      <td>Shared room</td>\n",
              "      <td>5</td>\n",
              "    </tr>\n",
              "    <tr>\n",
              "      <th>18</th>\n",
              "      <td>Nou Barris</td>\n",
              "      <td>Entire home/apt</td>\n",
              "      <td>58</td>\n",
              "    </tr>\n",
              "    <tr>\n",
              "      <th>19</th>\n",
              "      <td>Nou Barris</td>\n",
              "      <td>Private room</td>\n",
              "      <td>148</td>\n",
              "    </tr>\n",
              "  </tbody>\n",
              "</table>\n",
              "</div>"
            ],
            "text/plain": [
              "   neighbourhood_group_cleansed        room_type  count\n",
              "0                  Ciutat Vella  Entire home/apt   2343\n",
              "1                  Ciutat Vella       Hotel room     25\n",
              "2                  Ciutat Vella     Private room   1981\n",
              "3                  Ciutat Vella      Shared room      8\n",
              "4                      Eixample  Entire home/apt   4091\n",
              "5                      Eixample       Hotel room     84\n",
              "6                      Eixample     Private room   2323\n",
              "7                      Eixample      Shared room     77\n",
              "8                        Gràcia  Entire home/apt    997\n",
              "9                        Gràcia       Hotel room     11\n",
              "10                       Gràcia     Private room    543\n",
              "11                       Gràcia      Shared room     20\n",
              "12               Horta-Guinardó  Entire home/apt    250\n",
              "13               Horta-Guinardó     Private room    272\n",
              "14               Horta-Guinardó      Shared room      3\n",
              "15                    Les Corts  Entire home/apt    246\n",
              "16                    Les Corts     Private room    118\n",
              "17                    Les Corts      Shared room      5\n",
              "18                   Nou Barris  Entire home/apt     58\n",
              "19                   Nou Barris     Private room    148"
            ]
          },
          "execution_count": 27,
          "metadata": {},
          "output_type": "execute_result"
        }
      ],
      "source": [
        "%%time\n",
        "# room type by neighbourhood group.\n",
        "neighbourhoodgrp_roomtype = airbnb_schema.groupby([\"neighbourhood_group_cleansed\", \"room_type\"]).size().reset_index(name='count')\n",
        "neighbourhoodgrp_roomtype.head(20)"
      ]
    },
    {
      "attachments": {},
      "cell_type": "markdown",
      "metadata": {
        "colab_type": "text",
        "id": "APbPFFIgD5iE"
      },
      "source": [
        "**19. Showing the distribution of room types based on the neighbourhood group. From this we can get an idea of what room type are most popular in respective neighbourhood group. This is very important data for someone who would like to setup a new listing or update an existing one.**"
      ]
    },
    {
      "cell_type": "code",
      "execution_count": 28,
      "metadata": {
        "colab": {
          "base_uri": "https://localhost:8080/",
          "height": 407
        },
        "colab_type": "code",
        "id": "dtSzuvpUY99e",
        "outputId": "e300b155-ff19-43de-bb48-a4f2656b1a8c"
      },
      "outputs": [
        {
          "name": "stdout",
          "output_type": "stream",
          "text": [
            "CPU times: user 83.7 ms, sys: 26.9 ms, total: 111 ms\n",
            "Wall time: 94.7 ms\n"
          ]
        },
        {
          "data": {
            "text/plain": [
              "<Axes: xlabel='neighbourhood_group_cleansed'>"
            ]
          },
          "execution_count": 28,
          "metadata": {},
          "output_type": "execute_result"
        },
        {
          "data": {
            "image/png": "[encoded data removed]",
            "text/plain": [
              "<Figure size 1000x500 with 1 Axes>"
            ]
          },
          "metadata": {},
          "output_type": "display_data"
        }
      ],
      "source": [
        "%%time\n",
        "pd.pivot_table(neighbourhoodgrp_roomtype, index='neighbourhood_group_cleansed', columns='room_type', values='count').plot.bar(figsize=(10,5))\n"
      ]
    },
    {
      "attachments": {},
      "cell_type": "markdown",
      "metadata": {
        "colab_type": "text",
        "id": "erziFsMItbOZ"
      },
      "source": [
        "**20. Combining neighbourhood with neighbourhood group**"
      ]
    },
    {
      "cell_type": "code",
      "execution_count": 29,
      "metadata": {
        "colab": {
          "base_uri": "https://localhost:8080/",
          "height": 454
        },
        "colab_type": "code",
        "id": "r9anwkqaiSDt",
        "outputId": "1b1420e3-8ffb-4956-bd6e-1802b68a2b06"
      },
      "outputs": [
        {
          "name": "stdout",
          "output_type": "stream",
          "text": [
            "CPU times: user 11.6 ms, sys: 0 ns, total: 11.6 ms\n",
            "Wall time: 11.6 ms\n"
          ]
        },
        {
          "data": {
            "text/html": [
              "<div>\n",
              "<style scoped>\n",
              "    .dataframe tbody tr th:only-of-type {\n",
              "        vertical-align: middle;\n",
              "    }\n",
              "\n",
              "    .dataframe tbody tr th {\n",
              "        vertical-align: top;\n",
              "    }\n",
              "\n",
              "    .dataframe thead th {\n",
              "        text-align: right;\n",
              "    }\n",
              "</style>\n",
              "<table border=\"1\" class=\"dataframe\">\n",
              "  <thead>\n",
              "    <tr style=\"text-align: right;\">\n",
              "      <th></th>\n",
              "      <th>neighbourhood_group_cleansed</th>\n",
              "      <th>neighbourhood_cleansed</th>\n",
              "    </tr>\n",
              "  </thead>\n",
              "  <tbody>\n",
              "    <tr>\n",
              "      <th>9160</th>\n",
              "      <td>Sarrià-Sant Gervasi</td>\n",
              "      <td>Sant Gervasi - Galvany</td>\n",
              "    </tr>\n",
              "    <tr>\n",
              "      <th>8600</th>\n",
              "      <td>Sarrià-Sant Gervasi</td>\n",
              "      <td>Sant Gervasi - Galvany</td>\n",
              "    </tr>\n",
              "    <tr>\n",
              "      <th>14349</th>\n",
              "      <td>Sarrià-Sant Gervasi</td>\n",
              "      <td>Sant Gervasi - Galvany</td>\n",
              "    </tr>\n",
              "    <tr>\n",
              "      <th>14352</th>\n",
              "      <td>Sarrià-Sant Gervasi</td>\n",
              "      <td>Sant Gervasi - Galvany</td>\n",
              "    </tr>\n",
              "    <tr>\n",
              "      <th>8670</th>\n",
              "      <td>Sarrià-Sant Gervasi</td>\n",
              "      <td>Sant Gervasi - Galvany</td>\n",
              "    </tr>\n",
              "    <tr>\n",
              "      <th>14357</th>\n",
              "      <td>Sarrià-Sant Gervasi</td>\n",
              "      <td>Sant Gervasi - Galvany</td>\n",
              "    </tr>\n",
              "    <tr>\n",
              "      <th>14359</th>\n",
              "      <td>Sarrià-Sant Gervasi</td>\n",
              "      <td>Sant Gervasi - Galvany</td>\n",
              "    </tr>\n",
              "    <tr>\n",
              "      <th>14360</th>\n",
              "      <td>Sarrià-Sant Gervasi</td>\n",
              "      <td>Sant Gervasi - Galvany</td>\n",
              "    </tr>\n",
              "    <tr>\n",
              "      <th>8668</th>\n",
              "      <td>Sarrià-Sant Gervasi</td>\n",
              "      <td>Sant Gervasi - Galvany</td>\n",
              "    </tr>\n",
              "    <tr>\n",
              "      <th>14364</th>\n",
              "      <td>Sarrià-Sant Gervasi</td>\n",
              "      <td>Sant Gervasi - Galvany</td>\n",
              "    </tr>\n",
              "    <tr>\n",
              "      <th>8654</th>\n",
              "      <td>Sarrià-Sant Gervasi</td>\n",
              "      <td>Vallvidrera, el Tibidabo i les Planes</td>\n",
              "    </tr>\n",
              "    <tr>\n",
              "      <th>14369</th>\n",
              "      <td>Sarrià-Sant Gervasi</td>\n",
              "      <td>Sant Gervasi - Galvany</td>\n",
              "    </tr>\n",
              "    <tr>\n",
              "      <th>14372</th>\n",
              "      <td>Sarrià-Sant Gervasi</td>\n",
              "      <td>el Putxet i el Farró</td>\n",
              "    </tr>\n",
              "    <tr>\n",
              "      <th>14384</th>\n",
              "      <td>Sarrià-Sant Gervasi</td>\n",
              "      <td>el Putxet i el Farró</td>\n",
              "    </tr>\n",
              "    <tr>\n",
              "      <th>8639</th>\n",
              "      <td>Sarrià-Sant Gervasi</td>\n",
              "      <td>les Tres Torres</td>\n",
              "    </tr>\n",
              "    <tr>\n",
              "      <th>1121</th>\n",
              "      <td>Sarrià-Sant Gervasi</td>\n",
              "      <td>Sant Gervasi - la Bonanova</td>\n",
              "    </tr>\n",
              "    <tr>\n",
              "      <th>14398</th>\n",
              "      <td>Sarrià-Sant Gervasi</td>\n",
              "      <td>el Putxet i el Farró</td>\n",
              "    </tr>\n",
              "    <tr>\n",
              "      <th>14399</th>\n",
              "      <td>Sarrià-Sant Gervasi</td>\n",
              "      <td>el Putxet i el Farró</td>\n",
              "    </tr>\n",
              "    <tr>\n",
              "      <th>14401</th>\n",
              "      <td>Sarrià-Sant Gervasi</td>\n",
              "      <td>el Putxet i el Farró</td>\n",
              "    </tr>\n",
              "    <tr>\n",
              "      <th>14346</th>\n",
              "      <td>Sarrià-Sant Gervasi</td>\n",
              "      <td>Sant Gervasi - Galvany</td>\n",
              "    </tr>\n",
              "  </tbody>\n",
              "</table>\n",
              "</div>"
            ],
            "text/plain": [
              "      neighbourhood_group_cleansed                 neighbourhood_cleansed\n",
              "9160           Sarrià-Sant Gervasi                 Sant Gervasi - Galvany\n",
              "8600           Sarrià-Sant Gervasi                 Sant Gervasi - Galvany\n",
              "14349          Sarrià-Sant Gervasi                 Sant Gervasi - Galvany\n",
              "14352          Sarrià-Sant Gervasi                 Sant Gervasi - Galvany\n",
              "8670           Sarrià-Sant Gervasi                 Sant Gervasi - Galvany\n",
              "14357          Sarrià-Sant Gervasi                 Sant Gervasi - Galvany\n",
              "14359          Sarrià-Sant Gervasi                 Sant Gervasi - Galvany\n",
              "14360          Sarrià-Sant Gervasi                 Sant Gervasi - Galvany\n",
              "8668           Sarrià-Sant Gervasi                 Sant Gervasi - Galvany\n",
              "14364          Sarrià-Sant Gervasi                 Sant Gervasi - Galvany\n",
              "8654           Sarrià-Sant Gervasi  Vallvidrera, el Tibidabo i les Planes\n",
              "14369          Sarrià-Sant Gervasi                 Sant Gervasi - Galvany\n",
              "14372          Sarrià-Sant Gervasi                   el Putxet i el Farró\n",
              "14384          Sarrià-Sant Gervasi                   el Putxet i el Farró\n",
              "8639           Sarrià-Sant Gervasi                        les Tres Torres\n",
              "1121           Sarrià-Sant Gervasi             Sant Gervasi - la Bonanova\n",
              "14398          Sarrià-Sant Gervasi                   el Putxet i el Farró\n",
              "14399          Sarrià-Sant Gervasi                   el Putxet i el Farró\n",
              "14401          Sarrià-Sant Gervasi                   el Putxet i el Farró\n",
              "14346          Sarrià-Sant Gervasi                 Sant Gervasi - Galvany"
            ]
          },
          "execution_count": 29,
          "metadata": {},
          "output_type": "execute_result"
        }
      ],
      "source": [
        "%%time\n",
        "nei_group_nei_schema = airbnb_schema.loc[:, [\"neighbourhood_group_cleansed\", \"neighbourhood_cleansed\"]]\n",
        "nei_group_nei_schema= nei_group_nei_schema.sort_values(by='neighbourhood_group_cleansed', ascending=False)\n",
        "nei_group_nei_schema.head(20)"
      ]
    },
    {
      "attachments": {},
      "cell_type": "markdown",
      "metadata": {
        "colab_type": "text",
        "id": "dG0ZCViQuM4b"
      },
      "source": [
        "**21. Find the popular neighbourhood groups:**\n",
        "\n",
        "Popular neighbourhood_groups are Eixample, Ciutat Vella, Sants-Montjuïc, Sant Martí, Gràcia"
      ]
    },
    {
      "cell_type": "code",
      "execution_count": 30,
      "metadata": {
        "colab": {
          "base_uri": "https://localhost:8080/",
          "height": 185
        },
        "colab_type": "code",
        "id": "CkDFyQdomyf5",
        "outputId": "86f90cd3-41ab-4f4f-ce96-7d0f1b09c6f9"
      },
      "outputs": [
        {
          "name": "stdout",
          "output_type": "stream",
          "text": [
            "CPU times: user 3.08 ms, sys: 777 µs, total: 3.86 ms\n",
            "Wall time: 3.79 ms\n"
          ]
        },
        {
          "data": {
            "text/html": [
              "<div>\n",
              "<style scoped>\n",
              "    .dataframe tbody tr th:only-of-type {\n",
              "        vertical-align: middle;\n",
              "    }\n",
              "\n",
              "    .dataframe tbody tr th {\n",
              "        vertical-align: top;\n",
              "    }\n",
              "\n",
              "    .dataframe thead th {\n",
              "        text-align: right;\n",
              "    }\n",
              "</style>\n",
              "<table border=\"1\" class=\"dataframe\">\n",
              "  <thead>\n",
              "    <tr style=\"text-align: right;\">\n",
              "      <th></th>\n",
              "      <th>neighbourhood_group_cleansed</th>\n",
              "      <th>count</th>\n",
              "    </tr>\n",
              "  </thead>\n",
              "  <tbody>\n",
              "    <tr>\n",
              "      <th>1</th>\n",
              "      <td>Eixample</td>\n",
              "      <td>6575</td>\n",
              "    </tr>\n",
              "    <tr>\n",
              "      <th>0</th>\n",
              "      <td>Ciutat Vella</td>\n",
              "      <td>4357</td>\n",
              "    </tr>\n",
              "    <tr>\n",
              "      <th>8</th>\n",
              "      <td>Sants-Montjuïc</td>\n",
              "      <td>1902</td>\n",
              "    </tr>\n",
              "    <tr>\n",
              "      <th>7</th>\n",
              "      <td>Sant Martí</td>\n",
              "      <td>1639</td>\n",
              "    </tr>\n",
              "    <tr>\n",
              "      <th>2</th>\n",
              "      <td>Gràcia</td>\n",
              "      <td>1571</td>\n",
              "    </tr>\n",
              "    <tr>\n",
              "      <th>9</th>\n",
              "      <td>Sarrià-Sant Gervasi</td>\n",
              "      <td>894</td>\n",
              "    </tr>\n",
              "    <tr>\n",
              "      <th>3</th>\n",
              "      <td>Horta-Guinardó</td>\n",
              "      <td>525</td>\n",
              "    </tr>\n",
              "    <tr>\n",
              "      <th>4</th>\n",
              "      <td>Les Corts</td>\n",
              "      <td>369</td>\n",
              "    </tr>\n",
              "    <tr>\n",
              "      <th>6</th>\n",
              "      <td>Sant Andreu</td>\n",
              "      <td>279</td>\n",
              "    </tr>\n",
              "    <tr>\n",
              "      <th>5</th>\n",
              "      <td>Nou Barris</td>\n",
              "      <td>210</td>\n",
              "    </tr>\n",
              "  </tbody>\n",
              "</table>\n",
              "</div>"
            ],
            "text/plain": [
              "  neighbourhood_group_cleansed  count\n",
              "1                     Eixample   6575\n",
              "0                 Ciutat Vella   4357\n",
              "8               Sants-Montjuïc   1902\n",
              "7                   Sant Martí   1639\n",
              "2                       Gràcia   1571\n",
              "9          Sarrià-Sant Gervasi    894\n",
              "3               Horta-Guinardó    525\n",
              "4                    Les Corts    369\n",
              "6                  Sant Andreu    279\n",
              "5                   Nou Barris    210"
            ]
          },
          "execution_count": 30,
          "metadata": {},
          "output_type": "execute_result"
        }
      ],
      "source": [
        "\n",
        "%%time\n",
        "new_nei_group_nei_schema = nei_group_nei_schema.groupby(\"neighbourhood_group_cleansed\").size().reset_index(name='count')\n",
        "new_nei_group_nei_schema = new_nei_group_nei_schema.sort_values(by='count', ascending=False)\n",
        "new_nei_group_nei_schema.head(20)"
      ]
    },
    {
      "cell_type": "markdown",
      "metadata": {
        "colab_type": "text",
        "id": "JL8-DbJXXkou"
      },
      "source": [
        "Above we check which neighbourhood group is the most popular based on the number of listings in that group. Also, how the count varies for other neighbourhood groups. **The result shows that Eixample is the most popular neighbourhood group for people**. "
      ]
    },
    {
      "attachments": {},
      "cell_type": "markdown",
      "metadata": {
        "colab_type": "text",
        "id": "8cALlQwYwqSc"
      },
      "source": [
        "**22. Number of neighbourhood in popular neighbourhood_groups**\n"
      ]
    },
    {
      "cell_type": "code",
      "execution_count": 31,
      "metadata": {
        "colab": {},
        "colab_type": "code",
        "id": "UckTbBs6nXlc"
      },
      "outputs": [
        {
          "name": "stdout",
          "output_type": "stream",
          "text": [
            "Eixample:\n",
            "            neighbourhood_cleansed  count\n",
            "3           la Dreta de l'Eixample   2239\n",
            "2  l'Antiga Esquerra de l'Eixample   1062\n",
            "5               la Sagrada Família   1053\n",
            "0                      Sant Antoni    905\n",
            "4   la Nova Esquerra de l'Eixample    803\n",
            "1                    el Fort Pienc    513\n",
            "\n",
            "Ciutat Vella:\n",
            "                  neighbourhood_cleansed  count\n",
            "2                               el Raval   1474\n",
            "1                         el Barri Gòtic   1282\n",
            "0  Sant Pere, Santa Caterina i la Ribera   1179\n",
            "3                         la Barceloneta    422\n",
            "\n",
            "Montjuïc:\n",
            "       neighbourhood_cleansed  count\n",
            "3                el Poble Sec    851\n",
            "1                       Sants    352\n",
            "0                 Hostafrancs    230\n",
            "2               Sants - Badal    229\n",
            "5       la Font de la Guatlla    105\n",
            "4                  la Bordeta     71\n",
            "6           la Marina de Port     58\n",
            "7  la Marina del Prat Vermell      6\n",
            "\n",
            "Sant Martí:\n",
            "                         neighbourhood_cleansed  count\n",
            "7                                   el Poblenou    421\n",
            "4                    el Camp de l'Arpa del Clot    321\n",
            "6             el Parc i la Llacuna del Poblenou    190\n",
            "9                 la Vila Olímpica del Poblenou    148\n",
            "0  Diagonal Mar i el Front Marítim del Poblenou    143\n",
            "3                         el Besòs i el Maresme    111\n",
            "5                                       el Clot    101\n",
            "1                       Provençals del Poblenou     83\n",
            "2                      Sant Martí de Provençals     76\n",
            "8                           la Verneda i la Pau     45\n",
            "\n",
            "Gràcia:\n",
            "               neighbourhood_cleansed  count\n",
            "4                   la Vila de Gràcia   1066\n",
            "1  el Camp d'en Grassot i Gràcia Nova    301\n",
            "0           Vallcarca i els Penitents     96\n",
            "3                            la Salut     77\n",
            "2                             el Coll     31\n",
            "CPU times: user 41.4 ms, sys: 7.73 ms, total: 49.2 ms\n",
            "Wall time: 49.6 ms\n"
          ]
        }
      ],
      "source": [
        "%%time\n",
        "eixample_nei = nei_group_nei_schema[nei_group_nei_schema['neighbourhood_group_cleansed'].str.contains('Eixample', case=False)].groupby(\"neighbourhood_cleansed\").size().reset_index(name='count').sort_values(by='count', ascending=False)\n",
        "ciutat_nei = nei_group_nei_schema[nei_group_nei_schema['neighbourhood_group_cleansed'].str.contains('Ciutat Vella', case=False)].groupby(\"neighbourhood_cleansed\").size().reset_index(name='count').sort_values(by='count', ascending=False)\n",
        "montjuic_nei = nei_group_nei_schema[nei_group_nei_schema['neighbourhood_group_cleansed'].str.contains('Sants-Montjuïc', case=False)].groupby(\"neighbourhood_cleansed\").size().reset_index(name='count').sort_values(by='count', ascending=False)\n",
        "marti_nei = nei_group_nei_schema[nei_group_nei_schema['neighbourhood_group_cleansed'].str.contains('Sant Martí', case=False)].groupby(\"neighbourhood_cleansed\").size().reset_index(name='count').sort_values(by='count', ascending=False)\n",
        "gracia_nei = nei_group_nei_schema[nei_group_nei_schema['neighbourhood_group_cleansed'].str.contains('Gràcia', case=False)].groupby(\"neighbourhood_cleansed\").size().reset_index(name='count').sort_values(by='count', ascending=False)\n",
        "\n",
        "print(\"Eixample:\")\n",
        "print(eixample_nei)\n",
        "print(\"\\nCiutat Vella:\")\n",
        "print(ciutat_nei)\n",
        "print(\"\\nMontjuïc:\")\n",
        "print(montjuic_nei)\n",
        "print(\"\\nSant Martí:\")\n",
        "print(marti_nei)\n",
        "print(\"\\nGràcia:\")\n",
        "print(gracia_nei)"
      ]
    },
    {
      "attachments": {},
      "cell_type": "markdown",
      "metadata": {
        "colab_type": "text",
        "id": "vcFvnof5wzeU"
      },
      "source": [
        "**23. Combining neighbourhood_group, neighbourhood and room_type**"
      ]
    },
    {
      "cell_type": "code",
      "execution_count": 32,
      "metadata": {
        "colab": {},
        "colab_type": "code",
        "id": "fHGyTVVbtq2t"
      },
      "outputs": [
        {
          "name": "stdout",
          "output_type": "stream",
          "text": [
            "CPU times: user 1.99 ms, sys: 0 ns, total: 1.99 ms\n",
            "Wall time: 2.07 ms\n"
          ]
        }
      ],
      "source": [
        "%%time\n",
        "neigh_group_neigh_room_type_schema = airbnb_schema[[\"neighbourhood_group_cleansed\", \"neighbourhood_cleansed\", \"room_type\"]]"
      ]
    },
    {
      "attachments": {},
      "cell_type": "markdown",
      "metadata": {
        "colab_type": "text",
        "id": "z2-5jAzKw7uj"
      },
      "source": [
        "**24. Distribution of rooms in various neighbourhood in  Eixample.**"
      ]
    },
    {
      "cell_type": "code",
      "execution_count": 33,
      "metadata": {
        "colab": {
          "base_uri": "https://localhost:8080/",
          "height": 1000
        },
        "colab_type": "code",
        "id": "QFqCNh1Kxrl1",
        "outputId": "8ed8bf1b-0d50-4ce1-e2a1-06664316cbc7"
      },
      "outputs": [
        {
          "name": "stdout",
          "output_type": "stream",
          "text": [
            "Showing distribution for room_type = 'Private room' in Eixample\n",
            "            neighbourhood_cleansed  count\n",
            "3           la Dreta de l'Eixample    738\n",
            "4   la Nova Esquerra de l'Eixample    370\n",
            "2  l'Antiga Esquerra de l'Eixample    366\n",
            "0                      Sant Antoni    347\n",
            "5               la Sagrada Família    288\n",
            "1                    el Fort Pienc    214\n",
            "\n",
            "Showing distribution for room_type = 'Shared room' in Eixample\n",
            "            neighbourhood_cleansed  count\n",
            "2           la Dreta de l'Eixample     35\n",
            "1  l'Antiga Esquerra de l'Eixample     22\n",
            "3   la Nova Esquerra de l'Eixample     13\n",
            "4               la Sagrada Família      5\n",
            "0                    el Fort Pienc      2\n",
            "\n",
            "Showing distribution for room_type = 'Hotel room' in Eixample\n",
            "            neighbourhood_cleansed  count\n",
            "2           la Dreta de l'Eixample     34\n",
            "1  l'Antiga Esquerra de l'Eixample     22\n",
            "0                      Sant Antoni     15\n",
            "4               la Sagrada Família      8\n",
            "3   la Nova Esquerra de l'Eixample      5\n",
            "\n",
            "Showing distribution for room_type = 'Entire home/apt' in Eixample\n",
            "            neighbourhood_cleansed  count\n",
            "3           la Dreta de l'Eixample   1432\n",
            "5               la Sagrada Família    752\n",
            "2  l'Antiga Esquerra de l'Eixample    652\n",
            "0                      Sant Antoni    543\n",
            "4   la Nova Esquerra de l'Eixample    415\n",
            "1                    el Fort Pienc    297\n",
            "CPU times: user 19.5 ms, sys: 3.89 ms, total: 23.4 ms\n",
            "Wall time: 24.7 ms\n"
          ]
        }
      ],
      "source": [
        "%%time\n",
        "eixample_nei_private = neigh_group_neigh_room_type_schema[(neigh_group_neigh_room_type_schema['neighbourhood_group_cleansed'] == 'Eixample') & (neigh_group_neigh_room_type_schema['room_type'] == 'Private room')].groupby(\"neighbourhood_cleansed\").size().reset_index(name='count').sort_values(by='count', ascending=False)\n",
        "eixample_nei_shared = neigh_group_neigh_room_type_schema[(neigh_group_neigh_room_type_schema['neighbourhood_group_cleansed'] == 'Eixample') & (neigh_group_neigh_room_type_schema['room_type'] == 'Shared room')].groupby(\"neighbourhood_cleansed\").size().reset_index(name='count').sort_values(by='count', ascending=False)\n",
        "eixample_nei_hotel = neigh_group_neigh_room_type_schema[(neigh_group_neigh_room_type_schema['neighbourhood_group_cleansed'] == 'Eixample') & (neigh_group_neigh_room_type_schema['room_type'] == 'Hotel room')].groupby(\"neighbourhood_cleansed\").size().reset_index(name='count').sort_values(by='count', ascending=False)\n",
        "eixample_nei_entire_home = neigh_group_neigh_room_type_schema[(neigh_group_neigh_room_type_schema['neighbourhood_group_cleansed'] == 'Eixample') & (neigh_group_neigh_room_type_schema['room_type'] == 'Entire home/apt')].groupby(\"neighbourhood_cleansed\").size().reset_index(name='count').sort_values(by='count', ascending=False)\n",
        "\n",
        "# Display the results\n",
        "print(\"Showing distribution for room_type = 'Private room' in Eixample\")\n",
        "print(eixample_nei_private)\n",
        "print(\"\\nShowing distribution for room_type = 'Shared room' in Eixample\")\n",
        "print(eixample_nei_shared)\n",
        "print(\"\\nShowing distribution for room_type = 'Hotel room' in Eixample\")\n",
        "print(eixample_nei_hotel)\n",
        "print(\"\\nShowing distribution for room_type = 'Entire home/apt' in Eixample\")\n",
        "print(eixample_nei_entire_home)\n"
      ]
    },
    {
      "attachments": {},
      "cell_type": "markdown",
      "metadata": {
        "colab_type": "text",
        "id": "pDqdqONQxMD9"
      },
      "source": [
        "**25. Distribution of rooms in various neighbourhood in Ciutat Vella.**"
      ]
    },
    {
      "cell_type": "code",
      "execution_count": 34,
      "metadata": {
        "colab": {
          "base_uri": "https://localhost:8080/",
          "height": 1000
        },
        "colab_type": "code",
        "id": "QrIk776LyRHb",
        "outputId": "6943997f-1c6c-4d2a-f715-da901a4ac4d4"
      },
      "outputs": [
        {
          "name": "stdout",
          "output_type": "stream",
          "text": [
            "Showing distribution for room_type = 'Private room' in Ciutat Vella\n",
            "                  neighbourhood_cleansed  count\n",
            "2                               el Raval    773\n",
            "1                         el Barri Gòtic    642\n",
            "0  Sant Pere, Santa Caterina i la Ribera    450\n",
            "3                         la Barceloneta    116\n",
            "\n",
            "Showing distribution for room_type = 'Shared room' in Ciutat Vella\n",
            "  neighbourhood_cleansed  count\n",
            "1               el Raval      5\n",
            "0         el Barri Gòtic      2\n",
            "2         la Barceloneta      1\n",
            "\n",
            "Showing distribution for room_type = 'Hotel room' in Ciutat Vella\n",
            "                  neighbourhood_cleansed  count\n",
            "0  Sant Pere, Santa Caterina i la Ribera     18\n",
            "2                               el Raval      6\n",
            "1                         el Barri Gòtic      1\n",
            "\n",
            "Showing distribution for room_type = 'Entire home/apt' in Ciutat Vella\n",
            "                  neighbourhood_cleansed  count\n",
            "0  Sant Pere, Santa Caterina i la Ribera    711\n",
            "2                               el Raval    690\n",
            "1                         el Barri Gòtic    637\n",
            "3                         la Barceloneta    305\n",
            "CPU times: user 30.6 ms, sys: 0 ns, total: 30.6 ms\n",
            "Wall time: 42.2 ms\n"
          ]
        }
      ],
      "source": [
        "\n",
        "%%time\n",
        "ciutat_nei_private = neigh_group_neigh_room_type_schema[(neigh_group_neigh_room_type_schema['neighbourhood_group_cleansed'] == 'Ciutat Vella') & (neigh_group_neigh_room_type_schema['room_type'] == 'Private room')].groupby(\"neighbourhood_cleansed\").size().reset_index(name='count').sort_values(by='count', ascending=False)\n",
        "ciutat_nei_shared = neigh_group_neigh_room_type_schema[(neigh_group_neigh_room_type_schema['neighbourhood_group_cleansed'].str.contains('Ciutat Vella', case=False)) & (neigh_group_neigh_room_type_schema['room_type'] == 'Shared room')].groupby(\"neighbourhood_cleansed\").size().reset_index(name='count').sort_values(by='count', ascending=False)\n",
        "ciutat_nei_hotel = neigh_group_neigh_room_type_schema[(neigh_group_neigh_room_type_schema['neighbourhood_group_cleansed'] == 'Ciutat Vella') & (neigh_group_neigh_room_type_schema['room_type'] == 'Hotel room')].groupby(\"neighbourhood_cleansed\").size().reset_index(name='count').sort_values(by='count', ascending=False)\n",
        "ciutat_nei_entire_home = neigh_group_neigh_room_type_schema[(neigh_group_neigh_room_type_schema['neighbourhood_group_cleansed'] == 'Ciutat Vella') & (neigh_group_neigh_room_type_schema['room_type'] == 'Entire home/apt')].groupby(\"neighbourhood_cleansed\").size().reset_index(name='count').sort_values(by='count', ascending=False)\n",
        "\n",
        "print(\"Showing distribution for room_type = 'Private room' in Ciutat Vella\")\n",
        "print(ciutat_nei_private)\n",
        "print(\"\\nShowing distribution for room_type = 'Shared room' in Ciutat Vella\")\n",
        "print(ciutat_nei_shared)\n",
        "print(\"\\nShowing distribution for room_type = 'Hotel room' in Ciutat Vella\")\n",
        "print(ciutat_nei_hotel)\n",
        "print(\"\\nShowing distribution for room_type = 'Entire home/apt' in Ciutat Vella\")\n",
        "print(ciutat_nei_entire_home)"
      ]
    },
    {
      "cell_type": "markdown",
      "metadata": {},
      "source": [
        "**26. Distribution of rooms in various neighbourhood in Sants-Montjuïc.**"
      ]
    },
    {
      "cell_type": "code",
      "execution_count": 35,
      "metadata": {},
      "outputs": [
        {
          "name": "stdout",
          "output_type": "stream",
          "text": [
            "Showing distribution for room_type = 'Private room' in Sants-Montjuïc\n",
            "       neighbourhood_cleansed  count\n",
            "3                el Poble Sec    292\n",
            "1                       Sants    153\n",
            "2               Sants - Badal    104\n",
            "0                 Hostafrancs     94\n",
            "5       la Font de la Guatlla     59\n",
            "6           la Marina de Port     51\n",
            "4                  la Bordeta     49\n",
            "7  la Marina del Prat Vermell      2\n",
            "\n",
            "Showing distribution for room_type = 'Shared room' in Sants-Montjuïc\n",
            "  neighbourhood_cleansed  count\n",
            "1           el Poble Sec      9\n",
            "0          Sants - Badal      4\n",
            "3      la Marina de Port      2\n",
            "2  la Font de la Guatlla      1\n",
            "\n",
            "Showing distribution for room_type = 'Hotel room' in Sants-Montjuïc\n",
            "  neighbourhood_cleansed  count\n",
            "1           el Poble Sec      7\n",
            "2  la Font de la Guatlla      2\n",
            "0          Sants - Badal      1\n",
            "\n",
            "Showing distribution for room_type = 'Entire home/apt' in Sants-Montjuïc\n",
            "       neighbourhood_cleansed  count\n",
            "3                el Poble Sec    543\n",
            "1                       Sants    199\n",
            "0                 Hostafrancs    136\n",
            "2               Sants - Badal    120\n",
            "5       la Font de la Guatlla     43\n",
            "4                  la Bordeta     22\n",
            "6           la Marina de Port      5\n",
            "7  la Marina del Prat Vermell      4\n",
            "CPU times: user 21.5 ms, sys: 1.96 ms, total: 23.5 ms\n",
            "Wall time: 24 ms\n"
          ]
        }
      ],
      "source": [
        "%%time\n",
        "montjuic_nei_shared = neigh_group_neigh_room_type_schema[(neigh_group_neigh_room_type_schema['neighbourhood_group_cleansed'] == 'Sants-Montjuïc') & (neigh_group_neigh_room_type_schema['room_type'] == 'Shared room')].groupby(\"neighbourhood_cleansed\").size().reset_index(name='count').sort_values(by='count', ascending=False)\n",
        "montjuic_nei_hotel = neigh_group_neigh_room_type_schema[(neigh_group_neigh_room_type_schema['neighbourhood_group_cleansed'] == 'Sants-Montjuïc') & (neigh_group_neigh_room_type_schema['room_type'] == 'Hotel room')].groupby(\"neighbourhood_cleansed\").size().reset_index(name='count').sort_values(by='count', ascending=False)\n",
        "montjuic_nei_entire_home = neigh_group_neigh_room_type_schema[(neigh_group_neigh_room_type_schema['neighbourhood_group_cleansed'] == 'Sants-Montjuïc') & (neigh_group_neigh_room_type_schema['room_type'] == 'Entire home/apt')].groupby(\"neighbourhood_cleansed\").size().reset_index(name='count').sort_values(by='count', ascending=False)\n",
        "montjuic_nei_private = neigh_group_neigh_room_type_schema[(neigh_group_neigh_room_type_schema['neighbourhood_group_cleansed'] == 'Sants-Montjuïc') & (neigh_group_neigh_room_type_schema['room_type'] == 'Private room')].groupby(\"neighbourhood_cleansed\").size().reset_index(name='count').sort_values(by='count', ascending=False)\n",
        "\n",
        "print(\"Showing distribution for room_type = 'Private room' in Sants-Montjuïc\")\n",
        "print(montjuic_nei_private)\n",
        "print(\"\\nShowing distribution for room_type = 'Shared room' in Sants-Montjuïc\")\n",
        "print(montjuic_nei_shared)\n",
        "print(\"\\nShowing distribution for room_type = 'Hotel room' in Sants-Montjuïc\")\n",
        "print(montjuic_nei_hotel)\n",
        "print(\"\\nShowing distribution for room_type = 'Entire home/apt' in Sants-Montjuïc\")\n",
        "print(montjuic_nei_entire_home)"
      ]
    },
    {
      "attachments": {},
      "cell_type": "markdown",
      "metadata": {
        "colab_type": "text",
        "id": "IRtZopzOxWV_"
      },
      "source": [
        "**27. Distribution of rooms in various neighbourhood in Sant Martí.**"
      ]
    },
    {
      "cell_type": "code",
      "execution_count": 36,
      "metadata": {
        "colab": {
          "base_uri": "https://localhost:8080/",
          "height": 1000
        },
        "colab_type": "code",
        "id": "c-loIl4H14qb",
        "outputId": "cf3ab780-931b-4681-cbd0-504827be47a0"
      },
      "outputs": [
        {
          "name": "stdout",
          "output_type": "stream",
          "text": [
            "Showing distribution for room_type = 'Private room' in Sant Martí\n",
            "                         neighbourhood_cleansed  count\n",
            "7                                   el Poblenou    124\n",
            "4                    el Camp de l'Arpa del Clot    121\n",
            "5                                       el Clot     65\n",
            "6             el Parc i la Llacuna del Poblenou     63\n",
            "2                      Sant Martí de Provençals     55\n",
            "3                         el Besòs i el Maresme     55\n",
            "9                 la Vila Olímpica del Poblenou     39\n",
            "1                       Provençals del Poblenou     38\n",
            "8                           la Verneda i la Pau     36\n",
            "0  Diagonal Mar i el Front Marítim del Poblenou     25\n",
            "\n",
            "Showing distribution for room_type = 'Shared room' in Sant Martí\n",
            "              neighbourhood_cleansed  count\n",
            "2         el Camp de l'Arpa del Clot      9\n",
            "6      la Vila Olímpica del Poblenou      3\n",
            "0            Provençals del Poblenou      1\n",
            "1              el Besòs i el Maresme      1\n",
            "3                            el Clot      1\n",
            "4  el Parc i la Llacuna del Poblenou      1\n",
            "5                        el Poblenou      1\n",
            "\n",
            "Showing distribution for room_type = 'Hotel room' in Sant Martí\n",
            "              neighbourhood_cleansed  count\n",
            "0  el Parc i la Llacuna del Poblenou      3\n",
            "\n",
            "Showing distribution for room_type = 'Entire home/apt' in Sant Martí\n",
            "                         neighbourhood_cleansed  count\n",
            "7                                   el Poblenou    296\n",
            "4                    el Camp de l'Arpa del Clot    191\n",
            "6             el Parc i la Llacuna del Poblenou    123\n",
            "0  Diagonal Mar i el Front Marítim del Poblenou    118\n",
            "9                 la Vila Olímpica del Poblenou    106\n",
            "3                         el Besòs i el Maresme     55\n",
            "1                       Provençals del Poblenou     44\n",
            "5                                       el Clot     35\n",
            "2                      Sant Martí de Provençals     21\n",
            "8                           la Verneda i la Pau      9\n",
            "CPU times: user 22.7 ms, sys: 677 µs, total: 23.4 ms\n",
            "Wall time: 23.6 ms\n"
          ]
        }
      ],
      "source": [
        "%%time\n",
        "marti_nei_private = neigh_group_neigh_room_type_schema[(neigh_group_neigh_room_type_schema['neighbourhood_group_cleansed'] == 'Sant Martí') & (neigh_group_neigh_room_type_schema['room_type'] == 'Private room')].groupby(\"neighbourhood_cleansed\").size().reset_index(name='count').sort_values(by='count', ascending=False)\n",
        "marti_nei_shared = neigh_group_neigh_room_type_schema[(neigh_group_neigh_room_type_schema['neighbourhood_group_cleansed'] == 'Sant Martí') & (neigh_group_neigh_room_type_schema['room_type'] == 'Shared room')].groupby(\"neighbourhood_cleansed\").size().reset_index(name='count').sort_values(by='count', ascending=False)\n",
        "marti_nei_hotel = neigh_group_neigh_room_type_schema[(neigh_group_neigh_room_type_schema['neighbourhood_group_cleansed'] == 'Sant Martí') & (neigh_group_neigh_room_type_schema['room_type'] == 'Hotel room')].groupby(\"neighbourhood_cleansed\").size().reset_index(name='count').sort_values(by='count', ascending=False)\n",
        "marti_nei_entire_home = neigh_group_neigh_room_type_schema[(neigh_group_neigh_room_type_schema['neighbourhood_group_cleansed'] == 'Sant Martí') & (neigh_group_neigh_room_type_schema['room_type'] == 'Entire home/apt')].groupby(\"neighbourhood_cleansed\").size().reset_index(name='count').sort_values(by='count', ascending=False)\n",
        "\n",
        "print(\"Showing distribution for room_type = 'Private room' in Sant Martí\")\n",
        "print(marti_nei_private)\n",
        "print(\"\\nShowing distribution for room_type = 'Shared room' in Sant Martí\")\n",
        "print(marti_nei_shared)\n",
        "print(\"\\nShowing distribution for room_type = 'Hotel room' in Sant Martí\")\n",
        "print(marti_nei_hotel)\n",
        "print(\"\\nShowing distribution for room_type = 'Entire home/apt' in Sant Martí\")\n",
        "print(marti_nei_entire_home)\n"
      ]
    },
    {
      "attachments": {},
      "cell_type": "markdown",
      "metadata": {
        "colab_type": "text",
        "id": "sYX21FePxfnp"
      },
      "source": [
        "**28. Distribution of rooms in various neighbourhood in Gràcia.**"
      ]
    },
    {
      "cell_type": "code",
      "execution_count": 37,
      "metadata": {
        "colab": {
          "base_uri": "https://localhost:8080/",
          "height": 1000
        },
        "colab_type": "code",
        "id": "CRmk_6WI2zo_",
        "outputId": "71c8033a-00a5-4c8e-c93c-ada6e6194fae"
      },
      "outputs": [
        {
          "name": "stdout",
          "output_type": "stream",
          "text": [
            "Showing distribution for room_type = 'Private room' in Gràcia\n",
            "               neighbourhood_cleansed  count\n",
            "4                   la Vila de Gràcia    345\n",
            "1  el Camp d'en Grassot i Gràcia Nova    105\n",
            "0           Vallcarca i els Penitents     43\n",
            "3                            la Salut     40\n",
            "2                             el Coll     10\n",
            "\n",
            "Showing distribution for room_type = 'Shared room' in Gràcia\n",
            "               neighbourhood_cleansed  count\n",
            "2                   la Vila de Gràcia     18\n",
            "0           Vallcarca i els Penitents      1\n",
            "1  el Camp d'en Grassot i Gràcia Nova      1\n",
            "\n",
            "Showing distribution for room_type = 'Hotel room' in Gràcia\n",
            "               neighbourhood_cleansed  count\n",
            "0  el Camp d'en Grassot i Gràcia Nova      7\n",
            "1                   la Vila de Gràcia      4\n",
            "\n",
            "Showing distribution for room_type = 'Entire home/apt' in Gràcia\n",
            "               neighbourhood_cleansed  count\n",
            "4                   la Vila de Gràcia    699\n",
            "1  el Camp d'en Grassot i Gràcia Nova    188\n",
            "0           Vallcarca i els Penitents     52\n",
            "3                            la Salut     37\n",
            "2                             el Coll     21\n",
            "CPU times: user 13.3 ms, sys: 10.8 ms, total: 24.1 ms\n",
            "Wall time: 24.8 ms\n"
          ]
        }
      ],
      "source": [
        "%%time\n",
        "gracia_nei_private = neigh_group_neigh_room_type_schema[(neigh_group_neigh_room_type_schema['neighbourhood_group_cleansed'] == 'Gràcia') & (neigh_group_neigh_room_type_schema['room_type'] == 'Private room')].groupby(\"neighbourhood_cleansed\").size().reset_index(name='count').sort_values(by='count', ascending=False)\n",
        "gracia_nei_shared = neigh_group_neigh_room_type_schema[(neigh_group_neigh_room_type_schema['neighbourhood_group_cleansed'] == 'Gràcia') & (neigh_group_neigh_room_type_schema['room_type'] == 'Shared room')].groupby(\"neighbourhood_cleansed\").size().reset_index(name='count').sort_values(by='count', ascending=False)\n",
        "gracia_nei_hotel = neigh_group_neigh_room_type_schema[(neigh_group_neigh_room_type_schema['neighbourhood_group_cleansed'] == 'Gràcia') & (neigh_group_neigh_room_type_schema['room_type'] == 'Hotel room')].groupby(\"neighbourhood_cleansed\").size().reset_index(name='count').sort_values(by='count', ascending=False)\n",
        "gracia_nei_entire_home = neigh_group_neigh_room_type_schema[(neigh_group_neigh_room_type_schema['neighbourhood_group_cleansed'] == 'Gràcia') & (neigh_group_neigh_room_type_schema['room_type'] == 'Entire home/apt')].groupby(\"neighbourhood_cleansed\").size().reset_index(name='count').sort_values(by='count', ascending=False)\n",
        "\n",
        "print(\"Showing distribution for room_type = 'Private room' in Gràcia\")\n",
        "print(gracia_nei_private)\n",
        "print(\"\\nShowing distribution for room_type = 'Shared room' in Gràcia\")\n",
        "print(gracia_nei_shared)\n",
        "print(\"\\nShowing distribution for room_type = 'Hotel room' in Gràcia\")\n",
        "print(gracia_nei_hotel)\n",
        "print(\"\\nShowing distribution for room_type = 'Entire home/apt' in Gràcia\")\n",
        "print(gracia_nei_entire_home)\n"
      ]
    },
    {
      "attachments": {},
      "cell_type": "markdown",
      "metadata": {
        "colab_type": "text",
        "id": "BAn0IKt3xm21"
      },
      "source": [
        "**29. Total average price of various room types**"
      ]
    },
    {
      "cell_type": "code",
      "execution_count": 38,
      "metadata": {
        "colab": {
          "base_uri": "https://localhost:8080/",
          "height": 420
        },
        "colab_type": "code",
        "id": "atq8i8y63B53",
        "outputId": "e52517c1-4f87-4f5e-8615-82b90f3f6ec3"
      },
      "outputs": [
        {
          "name": "stdout",
          "output_type": "stream",
          "text": [
            "Total average price: 110.85579389771301\n",
            "Total average price of private room: 71.29292096219932\n",
            "Total average price of shared room: 59.34782608695652\n",
            "Total average price of hotel room: 145.23134328358208\n",
            "Total average price of entire home/apt: 137.97014231234303\n",
            "CPU times: user 10.2 ms, sys: 551 µs, total: 10.8 ms\n",
            "Wall time: 11.4 ms\n"
          ]
        }
      ],
      "source": [
        "%%time\n",
        "nei_group_nei_room_price_schema = airbnb_schema[[\"neighbourhood_group_cleansed\", \"neighbourhood_cleansed\", \"room_type\", \"price\"]]\n",
        "\n",
        "# Total average price\n",
        "total_avg_price = nei_group_nei_room_price_schema['price'].mean()\n",
        "print(\"Total average price:\", total_avg_price)\n",
        "\n",
        "# Total average price of private room\n",
        "private_room_avg_price = nei_group_nei_room_price_schema[nei_group_nei_room_price_schema['room_type'] == 'Private room']['price'].mean()\n",
        "print(\"Total average price of private room:\", private_room_avg_price)\n",
        "\n",
        "# Total average price of shared room\n",
        "shared_room_avg_price = nei_group_nei_room_price_schema[nei_group_nei_room_price_schema['room_type'] == 'Shared room']['price'].mean()\n",
        "print(\"Total average price of shared room:\", shared_room_avg_price)\n",
        "\n",
        "# Total average price of hotel room\n",
        "hotel_room_avg_price = nei_group_nei_room_price_schema[nei_group_nei_room_price_schema['room_type'] == 'Hotel room']['price'].mean()\n",
        "print(\"Total average price of hotel room:\", hotel_room_avg_price)\n",
        "\n",
        "# Total average price of entire home/apt\n",
        "entire_home_avg_price = nei_group_nei_room_price_schema[nei_group_nei_room_price_schema['room_type'] == 'Entire home/apt']['price'].mean()\n",
        "print(\"Total average price of entire home/apt:\", entire_home_avg_price)\n"
      ]
    },
    {
      "attachments": {},
      "cell_type": "markdown",
      "metadata": {
        "colab_type": "text",
        "id": "ZWf-x2v3xwtD"
      },
      "source": [
        "**30. Average price of various room types in Eixample**"
      ]
    },
    {
      "cell_type": "code",
      "execution_count": 39,
      "metadata": {
        "colab": {
          "base_uri": "https://localhost:8080/",
          "height": 319
        },
        "colab_type": "code",
        "id": "wBmuTG3UktqA",
        "outputId": "8cc6600c-acb5-498c-c742-8fd991866d09"
      },
      "outputs": [
        {
          "name": "stdout",
          "output_type": "stream",
          "text": [
            "Average price of private room in Eixample: 68.98235040895393\n",
            "Average price of shared room in Eixample: 85.54545454545455\n",
            "Average price of hotel room in Eixample: 146.98809523809524\n",
            "Average price of entire home/apt in Eixample: 162.99951112197508\n",
            "CPU times: user 13.5 ms, sys: 2.89 ms, total: 16.4 ms\n",
            "Wall time: 16.4 ms\n"
          ]
        }
      ],
      "source": [
        "%%time\n",
        "eixample_nei_private = nei_group_nei_room_price_schema.loc[(nei_group_nei_room_price_schema[\"neighbourhood_group_cleansed\"] == \"Eixample\") & \n",
        "                                                          (nei_group_nei_room_price_schema[\"room_type\"] == \"Private room\"), \"price\"].mean()\n",
        "print(\"Average price of private room in Eixample:\", eixample_nei_private)\n",
        "\n",
        "eixample_nei_shared = nei_group_nei_room_price_schema.loc[(nei_group_nei_room_price_schema[\"neighbourhood_group_cleansed\"] == \"Eixample\") & \n",
        "                                                          (nei_group_nei_room_price_schema[\"room_type\"] == \"Shared room\"), \"price\"].mean()\n",
        "print(\"Average price of shared room in Eixample:\", eixample_nei_shared)\n",
        "\n",
        "eixample_nei_hotel = nei_group_nei_room_price_schema.loc[(nei_group_nei_room_price_schema[\"neighbourhood_group_cleansed\"] == \"Eixample\") & \n",
        "                                                         (nei_group_nei_room_price_schema[\"room_type\"] == \"Hotel room\"), \"price\"].mean()\n",
        "print(\"Average price of hotel room in Eixample:\", eixample_nei_hotel)\n",
        "\n",
        "eixample_nei_entire_home = nei_group_nei_room_price_schema.loc[(nei_group_nei_room_price_schema[\"neighbourhood_group_cleansed\"] == \"Eixample\") & \n",
        "                                                              (nei_group_nei_room_price_schema[\"room_type\"] == \"Entire home/apt\"), \"price\"].mean()\n",
        "print(\"Average price of entire home/apt in Eixample:\", eixample_nei_entire_home)\n"
      ]
    },
    {
      "attachments": {},
      "cell_type": "markdown",
      "metadata": {
        "colab_type": "text",
        "id": "3UpDlJBnx_yD"
      },
      "source": [
        "**31. Average price of various room types in Ciutat Vella**"
      ]
    },
    {
      "cell_type": "code",
      "execution_count": 40,
      "metadata": {
        "colab": {
          "base_uri": "https://localhost:8080/",
          "height": 319
        },
        "colab_type": "code",
        "id": "iukt5ZJtk8pF",
        "outputId": "f8842489-b920-4d89-dd54-6beda7bd8ac2"
      },
      "outputs": [
        {
          "name": "stdout",
          "output_type": "stream",
          "text": [
            "Average price of private room in Ciutat Vella: 51.40535083291267\n",
            "Average price of shared room in Ciutat Vella: 58.875\n",
            "Average price of hotel room in Ciutat Vella: 188.92\n",
            "Average price of entire home/apt in Ciutat Vella: 119.61886470337174\n",
            "CPU times: user 11 ms, sys: 3.76 ms, total: 14.8 ms\n",
            "Wall time: 14.9 ms\n"
          ]
        }
      ],
      "source": [
        "%%time\n",
        "ciutat_nei_private = nei_group_nei_room_price_schema.loc[(nei_group_nei_room_price_schema[\"neighbourhood_group_cleansed\"] == \"Ciutat Vella\") & \n",
        "                                                             (nei_group_nei_room_price_schema[\"room_type\"] == \"Private room\"), \"price\"].mean()\n",
        "print(\"Average price of private room in Ciutat Vella:\", ciutat_nei_private)\n",
        "\n",
        "ciutat_nei_shared = nei_group_nei_room_price_schema.loc[(nei_group_nei_room_price_schema[\"neighbourhood_group_cleansed\"] == \"Ciutat Vella\") & \n",
        "                                                             (nei_group_nei_room_price_schema[\"room_type\"] == \"Shared room\"), \"price\"].mean()\n",
        "print(\"Average price of shared room in Ciutat Vella:\", ciutat_nei_shared)\n",
        "\n",
        "ciutat_nei_hotel = nei_group_nei_room_price_schema.loc[(nei_group_nei_room_price_schema[\"neighbourhood_group_cleansed\"] == \"Ciutat Vella\") & \n",
        "                                                             (nei_group_nei_room_price_schema[\"room_type\"] == \"Hotel room\"), \"price\"].mean()\n",
        "print(\"Average price of hotel room in Ciutat Vella:\", ciutat_nei_hotel)\n",
        "\n",
        "ciutat_nei_entire_home = nei_group_nei_room_price_schema.loc[(nei_group_nei_room_price_schema[\"neighbourhood_group_cleansed\"] == \"Ciutat Vella\") & \n",
        "                                                             (nei_group_nei_room_price_schema[\"room_type\"] == \"Entire home/apt\"), \"price\"].mean()\n",
        "print(\"Average price of entire home/apt in Ciutat Vella:\", ciutat_nei_entire_home)"
      ]
    },
    {
      "attachments": {},
      "cell_type": "markdown",
      "metadata": {
        "colab_type": "text",
        "id": "0I793p49yHeI"
      },
      "source": [
        "**32. Average price of various room types in Sants-Montjuïc**"
      ]
    },
    {
      "cell_type": "code",
      "execution_count": 41,
      "metadata": {
        "colab": {
          "base_uri": "https://localhost:8080/",
          "height": 319
        },
        "colab_type": "code",
        "id": "IkYRxYZtlPg_",
        "outputId": "7cc7a5ef-50af-4881-ec2f-a9ae2ca574a9"
      },
      "outputs": [
        {
          "name": "stdout",
          "output_type": "stream",
          "text": [
            "Average price of private room in Sants-Montjuïc: 79.25\n",
            "Average price of shared room in Sants-Montjuïc: 47.5625\n",
            "Average price of hotel room in Sants-Montjuïc: 71.8\n",
            "Average price of entire home/apt in Sants-Montjuïc: 116.20055970149254\n",
            "CPU times: user 13.2 ms, sys: 0 ns, total: 13.2 ms\n",
            "Wall time: 13.1 ms\n"
          ]
        }
      ],
      "source": [
        "%%time\n",
        "montjuic_nei_private_mean = nei_group_nei_room_price_schema.loc[(nei_group_nei_room_price_schema[\"neighbourhood_group_cleansed\"] == \"Sants-Montjuïc\") & \n",
        "                                                                (nei_group_nei_room_price_schema[\"room_type\"] == \"Private room\"), \"price\"].mean()\n",
        "print(\"Average price of private room in Sants-Montjuïc:\", montjuic_nei_private_mean)\n",
        "\n",
        "montjuic_nei_shared_mean = nei_group_nei_room_price_schema.loc[(nei_group_nei_room_price_schema[\"neighbourhood_group_cleansed\"] == \"Sants-Montjuïc\") & \n",
        "                                                                (nei_group_nei_room_price_schema[\"room_type\"] == \"Shared room\"), \"price\"].mean()\n",
        "print(\"Average price of shared room in Sants-Montjuïc:\", montjuic_nei_shared_mean)\n",
        "\n",
        "montjuic_nei_hotel_mean = nei_group_nei_room_price_schema.loc[(nei_group_nei_room_price_schema[\"neighbourhood_group_cleansed\"] == \"Sants-Montjuïc\") & \n",
        "                                                                (nei_group_nei_room_price_schema[\"room_type\"] == \"Hotel room\"), \"price\"].mean()\n",
        "print(\"Average price of hotel room in Sants-Montjuïc:\", montjuic_nei_hotel_mean)\n",
        "\n",
        "montjuic_nei_entire_home_mean = nei_group_nei_room_price_schema.loc[(nei_group_nei_room_price_schema[\"neighbourhood_group_cleansed\"] == \"Sants-Montjuïc\") & \n",
        "                                                                (nei_group_nei_room_price_schema[\"room_type\"] == \"Entire home/apt\"), \"price\"].mean()\n",
        "print(\"Average price of entire home/apt in Sants-Montjuïc:\", montjuic_nei_entire_home_mean)\n"
      ]
    },
    {
      "attachments": {},
      "cell_type": "markdown",
      "metadata": {
        "colab_type": "text",
        "id": "hh4yKUovyPb1"
      },
      "source": [
        "**33. Average price of various room types in Sant Martí**"
      ]
    },
    {
      "cell_type": "code",
      "execution_count": 42,
      "metadata": {
        "colab": {
          "base_uri": "https://localhost:8080/",
          "height": 319
        },
        "colab_type": "code",
        "id": "fX_wkWLsbgm0",
        "outputId": "ca88d0a4-d3fe-4fd4-9da4-d54c90bb3ac7"
      },
      "outputs": [
        {
          "name": "stdout",
          "output_type": "stream",
          "text": [
            "Average price of private room in Sant Martí: 77.96940418679549\n",
            "Average price of shared room in Sant Martí: 36.23529411764706\n",
            "Average price of hotel room in Sant Martí: 139.33333333333334\n",
            "Average price of entire home/apt in Sant Martí: 136.36573146292585\n",
            "CPU times: user 12.8 ms, sys: 0 ns, total: 12.8 ms\n",
            "Wall time: 12.4 ms\n"
          ]
        }
      ],
      "source": [
        "%%time\n",
        "marti_nei_private_mean = nei_group_nei_room_price_schema.loc[(nei_group_nei_room_price_schema[\"neighbourhood_group_cleansed\"] == \"Sant Martí\") & \n",
        "                                                             (nei_group_nei_room_price_schema[\"room_type\"] == \"Private room\"), \"price\"].mean()\n",
        "print(\"Average price of private room in Sant Martí:\", marti_nei_private_mean)\n",
        "\n",
        "marti_nei_shared_mean = nei_group_nei_room_price_schema.loc[(nei_group_nei_room_price_schema[\"neighbourhood_group_cleansed\"] == \"Sant Martí\") & \n",
        "                                                            (nei_group_nei_room_price_schema[\"room_type\"] == \"Shared room\"), \"price\"].mean()\n",
        "print(\"Average price of shared room in Sant Martí:\", marti_nei_shared_mean)\n",
        "\n",
        "marti_nei_hotel_mean = nei_group_nei_room_price_schema.loc[(nei_group_nei_room_price_schema[\"neighbourhood_group_cleansed\"] == \"Sant Martí\") & \n",
        "                                                           (nei_group_nei_room_price_schema[\"room_type\"] == \"Hotel room\"), \"price\"].mean()\n",
        "print(\"Average price of hotel room in Sant Martí:\", marti_nei_hotel_mean)\n",
        "\n",
        "marti_nei_entire_home_mean = nei_group_nei_room_price_schema.loc[(nei_group_nei_room_price_schema[\"neighbourhood_group_cleansed\"] == \"Sant Martí\") & \n",
        "                                                                 (nei_group_nei_room_price_schema[\"room_type\"] == \"Entire home/apt\"), \"price\"].mean()\n",
        "print(\"Average price of entire home/apt in Sant Martí:\", marti_nei_entire_home_mean)\n",
        "\n"
      ]
    },
    {
      "cell_type": "markdown",
      "metadata": {},
      "source": [
        "**34. Average price of various room types in Gràcia**"
      ]
    },
    {
      "cell_type": "code",
      "execution_count": 43,
      "metadata": {},
      "outputs": [
        {
          "name": "stdout",
          "output_type": "stream",
          "text": [
            "Average price of private room in Gràcia: 46.263351749539595\n",
            "Average price of shared room in Gràcia: 26.15\n",
            "Average price of hotel room in Gràcia: 108.63636363636364\n",
            "Average price of entire home/apt in Gràcia: 128.18455366098294\n",
            "CPU times: user 8.84 ms, sys: 3.13 ms, total: 12 ms\n",
            "Wall time: 11.6 ms\n"
          ]
        }
      ],
      "source": [
        "%%time\n",
        "gracia_nei_private_mean = nei_group_nei_room_price_schema.loc[(nei_group_nei_room_price_schema[\"neighbourhood_group_cleansed\"] == \"Gràcia\") & \n",
        "                                                              (nei_group_nei_room_price_schema[\"room_type\"] == \"Private room\"), \"price\"].mean()\n",
        "print(\"Average price of private room in Gràcia:\", gracia_nei_private_mean)\n",
        "\n",
        "gracia_nei_shared_mean = nei_group_nei_room_price_schema.loc[(nei_group_nei_room_price_schema[\"neighbourhood_group_cleansed\"] == \"Gràcia\") & \n",
        "                                                             (nei_group_nei_room_price_schema[\"room_type\"] == \"Shared room\"), \"price\"].mean()\n",
        "print(\"Average price of shared room in Gràcia:\", gracia_nei_shared_mean)\n",
        "\n",
        "gracia_nei_hotel_mean = nei_group_nei_room_price_schema.loc[(nei_group_nei_room_price_schema[\"neighbourhood_group_cleansed\"] == \"Gràcia\") & \n",
        "                                                            (nei_group_nei_room_price_schema[\"room_type\"] == \"Hotel room\"), \"price\"].mean()\n",
        "print(\"Average price of hotel room in Gràcia:\", gracia_nei_hotel_mean)\n",
        "\n",
        "gracia_nei_entire_home_mean = nei_group_nei_room_price_schema.loc[(nei_group_nei_room_price_schema[\"neighbourhood_group_cleansed\"] == \"Gràcia\") & \n",
        "                                                                  (nei_group_nei_room_price_schema[\"room_type\"] == \"Entire home/apt\"), \"price\"].mean()\n",
        "print(\"Average price of entire home/apt in Gràcia:\", gracia_nei_entire_home_mean)\n"
      ]
    },
    {
      "attachments": {},
      "cell_type": "markdown",
      "metadata": {
        "colab_type": "text",
        "id": "TH5pGzn0yV85"
      },
      "source": [
        "**35. Total frequency of nights people stay in all the neighbourhood groups**"
      ]
    },
    {
      "cell_type": "code",
      "execution_count": 44,
      "metadata": {
        "colab": {
          "base_uri": "https://localhost:8080/",
          "height": 454
        },
        "colab_type": "code",
        "id": "KgbrelGifujs",
        "outputId": "c64e81e5-494e-415e-8278-fbdc491aa98d"
      },
      "outputs": [
        {
          "name": "stdout",
          "output_type": "stream",
          "text": [
            "CPU times: user 5.51 ms, sys: 366 µs, total: 5.88 ms\n",
            "Wall time: 5.92 ms\n"
          ]
        },
        {
          "data": {
            "text/html": [
              "<div>\n",
              "<style scoped>\n",
              "    .dataframe tbody tr th:only-of-type {\n",
              "        vertical-align: middle;\n",
              "    }\n",
              "\n",
              "    .dataframe tbody tr th {\n",
              "        vertical-align: top;\n",
              "    }\n",
              "\n",
              "    .dataframe thead th {\n",
              "        text-align: right;\n",
              "    }\n",
              "</style>\n",
              "<table border=\"1\" class=\"dataframe\">\n",
              "  <thead>\n",
              "    <tr style=\"text-align: right;\">\n",
              "      <th></th>\n",
              "      <th>minimum_nights</th>\n",
              "      <th>count</th>\n",
              "    </tr>\n",
              "  </thead>\n",
              "  <tbody>\n",
              "    <tr>\n",
              "      <th>0</th>\n",
              "      <td>1</td>\n",
              "      <td>5424</td>\n",
              "    </tr>\n",
              "    <tr>\n",
              "      <th>1</th>\n",
              "      <td>2</td>\n",
              "      <td>2297</td>\n",
              "    </tr>\n",
              "    <tr>\n",
              "      <th>2</th>\n",
              "      <td>3</td>\n",
              "      <td>2465</td>\n",
              "    </tr>\n",
              "    <tr>\n",
              "      <th>3</th>\n",
              "      <td>4</td>\n",
              "      <td>633</td>\n",
              "    </tr>\n",
              "    <tr>\n",
              "      <th>4</th>\n",
              "      <td>5</td>\n",
              "      <td>297</td>\n",
              "    </tr>\n",
              "    <tr>\n",
              "      <th>5</th>\n",
              "      <td>6</td>\n",
              "      <td>94</td>\n",
              "    </tr>\n",
              "    <tr>\n",
              "      <th>6</th>\n",
              "      <td>7</td>\n",
              "      <td>180</td>\n",
              "    </tr>\n",
              "    <tr>\n",
              "      <th>7</th>\n",
              "      <td>8</td>\n",
              "      <td>2</td>\n",
              "    </tr>\n",
              "    <tr>\n",
              "      <th>8</th>\n",
              "      <td>9</td>\n",
              "      <td>8</td>\n",
              "    </tr>\n",
              "    <tr>\n",
              "      <th>9</th>\n",
              "      <td>10</td>\n",
              "      <td>31</td>\n",
              "    </tr>\n",
              "    <tr>\n",
              "      <th>10</th>\n",
              "      <td>12</td>\n",
              "      <td>6</td>\n",
              "    </tr>\n",
              "    <tr>\n",
              "      <th>11</th>\n",
              "      <td>13</td>\n",
              "      <td>2</td>\n",
              "    </tr>\n",
              "    <tr>\n",
              "      <th>12</th>\n",
              "      <td>14</td>\n",
              "      <td>23</td>\n",
              "    </tr>\n",
              "    <tr>\n",
              "      <th>13</th>\n",
              "      <td>15</td>\n",
              "      <td>39</td>\n",
              "    </tr>\n",
              "    <tr>\n",
              "      <th>14</th>\n",
              "      <td>16</td>\n",
              "      <td>3</td>\n",
              "    </tr>\n",
              "    <tr>\n",
              "      <th>15</th>\n",
              "      <td>17</td>\n",
              "      <td>2</td>\n",
              "    </tr>\n",
              "    <tr>\n",
              "      <th>16</th>\n",
              "      <td>18</td>\n",
              "      <td>16</td>\n",
              "    </tr>\n",
              "    <tr>\n",
              "      <th>17</th>\n",
              "      <td>19</td>\n",
              "      <td>1</td>\n",
              "    </tr>\n",
              "    <tr>\n",
              "      <th>18</th>\n",
              "      <td>20</td>\n",
              "      <td>26</td>\n",
              "    </tr>\n",
              "    <tr>\n",
              "      <th>19</th>\n",
              "      <td>21</td>\n",
              "      <td>5</td>\n",
              "    </tr>\n",
              "  </tbody>\n",
              "</table>\n",
              "</div>"
            ],
            "text/plain": [
              "    minimum_nights  count\n",
              "0                1   5424\n",
              "1                2   2297\n",
              "2                3   2465\n",
              "3                4    633\n",
              "4                5    297\n",
              "5                6     94\n",
              "6                7    180\n",
              "7                8      2\n",
              "8                9      8\n",
              "9               10     31\n",
              "10              12      6\n",
              "11              13      2\n",
              "12              14     23\n",
              "13              15     39\n",
              "14              16      3\n",
              "15              17      2\n",
              "16              18     16\n",
              "17              19      1\n",
              "18              20     26\n",
              "19              21      5"
            ]
          },
          "execution_count": 44,
          "metadata": {},
          "output_type": "execute_result"
        }
      ],
      "source": [
        "\n",
        "%%time\n",
        "nei_group_nei_min_nights_schema = airbnb_schema[[\"neighbourhood_group_cleansed\", \"neighbourhood_cleansed\", \"minimum_nights\"]]\n",
        "\n",
        "nei_group_nei_min_nights_schema = nei_group_nei_min_nights_schema.dropna(subset=[\"minimum_nights\"])\n",
        "min_nights_counts = nei_group_nei_min_nights_schema.groupby(\"minimum_nights\").size().reset_index(name=\"count\")\n",
        "min_nights_counts = min_nights_counts.sort_values(by=\"minimum_nights\", ascending=True)\n",
        "min_nights_counts.head(20)"
      ]
    },
    {
      "attachments": {},
      "cell_type": "markdown",
      "metadata": {
        "colab_type": "text",
        "id": "Cs64xQtBy6uk"
      },
      "source": [
        "**36. Total frequency of nights people stay in various (popular) neighbourhood groups**"
      ]
    },
    {
      "cell_type": "code",
      "execution_count": 45,
      "metadata": {
        "colab": {
          "base_uri": "https://localhost:8080/",
          "height": 1781
        },
        "colab_type": "code",
        "id": "qTjDEfONuG4j",
        "outputId": "f96e14e8-afb0-49ea-a434-44e93880cb10"
      },
      "outputs": [
        {
          "name": "stdout",
          "output_type": "stream",
          "text": [
            "6575\n",
            "    minimum_nights  count\n",
            "0                1   2314\n",
            "1                2    858\n",
            "2                3    931\n",
            "3                4    278\n",
            "4                5    107\n",
            "5                6     38\n",
            "6                7     55\n",
            "7               10      8\n",
            "8               12      2\n",
            "9               14      7\n",
            "10              15     13\n",
            "11              16      2\n",
            "12              17      1\n",
            "13              18      7\n",
            "14              20      8\n",
            "15              21      3\n",
            "16              23      1\n",
            "17              25     13\n",
            "18              28     45\n",
            "19              29      5\n",
            "20              30    111\n",
            "21              31    654\n",
            "22              32    877\n",
            "23              33    129\n",
            "24              34      2\n",
            "25              35     17\n",
            "26              36      2\n",
            "27              39      2\n",
            "28              40      2\n",
            "29              45      9\n",
            "30              49      1\n",
            "31              50      2\n",
            "32              55      1\n",
            "33              60     24\n",
            "34              61      1\n",
            "35              62      1\n",
            "36              65      1\n",
            "37              66      1\n",
            "38              75      3\n",
            "39              76      1\n",
            "40              80      2\n",
            "41              89      1\n",
            "42              90      6\n",
            "43              91      2\n",
            "44              92      2\n",
            "45              99      3\n",
            "46             120      2\n",
            "47             150      2\n",
            "48             180      1\n",
            "49             183      1\n",
            "50             200      1\n",
            "51             300      3\n",
            "52             356      1\n",
            "53             360      2\n",
            "54             365      4\n",
            "55             865      1\n",
            "56             900      1\n",
            "57            1000      3\n",
            "4357\n",
            "    minimum_nights  count\n",
            "0                1   1029\n",
            "1                2    546\n",
            "2                3    485\n",
            "3                4     94\n",
            "4                5     41\n",
            "5                6     30\n",
            "6                7     29\n",
            "7                8      1\n",
            "8                9      1\n",
            "9               10      6\n",
            "10              14      5\n",
            "11              15      6\n",
            "12              18      2\n",
            "13              19      1\n",
            "14              20      4\n",
            "15              21      1\n",
            "16              24      1\n",
            "17              25      4\n",
            "18              28     17\n",
            "19              29      1\n",
            "20              30    117\n",
            "21              31    621\n",
            "22              32   1130\n",
            "23              33     60\n",
            "24              35      6\n",
            "25              38      1\n",
            "26              40      3\n",
            "27              45      4\n",
            "28              50      4\n",
            "29              60     42\n",
            "30              63      2\n",
            "31              64      1\n",
            "32              70      1\n",
            "33              88      1\n",
            "34              90     29\n",
            "35              91      1\n",
            "36             100      5\n",
            "37             115      1\n",
            "38             120      2\n",
            "39             150      2\n",
            "40             180      9\n",
            "41             186      1\n",
            "42             210      1\n",
            "43             270      1\n",
            "44             300      1\n",
            "45             360      3\n",
            "46             364      1\n",
            "47             365      1\n",
            "48             500      1\n",
            "49             900      1\n",
            "1902\n",
            "    minimum_nights  count\n",
            "0                1    555\n",
            "1                2    265\n",
            "2                3    285\n",
            "3                4     74\n",
            "4                5     43\n",
            "5                6      9\n",
            "6                7     21\n",
            "7                8      1\n",
            "8               10      2\n",
            "9               13      1\n",
            "10              14      1\n",
            "11              15      3\n",
            "12              20      4\n",
            "13              25      1\n",
            "14              28      8\n",
            "15              29      1\n",
            "16              30     43\n",
            "17              31    252\n",
            "18              32    250\n",
            "19              33     50\n",
            "20              35      2\n",
            "21              41      1\n",
            "22              45      1\n",
            "23              60      6\n",
            "24              61      2\n",
            "25              62      1\n",
            "26              90      5\n",
            "27              99      1\n",
            "28             100      2\n",
            "29             120      1\n",
            "30             150      1\n",
            "31             180      2\n",
            "32             190      1\n",
            "33             250      1\n",
            "34             360      1\n",
            "35             365      3\n",
            "36            1000      2\n",
            "1639\n",
            "    minimum_nights  count\n",
            "0                1    443\n",
            "1                2    203\n",
            "2                3    265\n",
            "3                4     65\n",
            "4                5     40\n",
            "5                6      8\n",
            "6                7     28\n",
            "7                9      2\n",
            "8               10      6\n",
            "9               12      1\n",
            "10              14      8\n",
            "11              15      2\n",
            "12              16      1\n",
            "13              18      1\n",
            "14              20      5\n",
            "15              24      1\n",
            "16              25      4\n",
            "17              28     14\n",
            "18              29      3\n",
            "19              30     69\n",
            "20              31    227\n",
            "21              32    219\n",
            "22              33      6\n",
            "23              34      1\n",
            "24              35      2\n",
            "25              60      6\n",
            "26              90      5\n",
            "27              99      1\n",
            "28             100      2\n",
            "29            1124      1\n",
            "1571\n",
            "    minimum_nights  count\n",
            "0                1    398\n",
            "1                2    200\n",
            "2                3    278\n",
            "3                4     59\n",
            "4                5     33\n",
            "5                6      5\n",
            "6                7     21\n",
            "7                9      2\n",
            "8               10      5\n",
            "9               12      1\n",
            "10              14      1\n",
            "11              15      4\n",
            "12              18      2\n",
            "13              20      2\n",
            "14              25      1\n",
            "15              26      1\n",
            "16              28      6\n",
            "17              30     33\n",
            "18              31    198\n",
            "19              32    283\n",
            "20              33     12\n",
            "21              35      2\n",
            "22              38      1\n",
            "23              60     10\n",
            "24              90      3\n",
            "25              92      2\n",
            "26             120      5\n",
            "27             180      3\n"
          ]
        }
      ],
      "source": [
        "total_eixample = nei_group_nei_min_nights_schema[nei_group_nei_min_nights_schema[\"neighbourhood_group_cleansed\"] == \"Eixample\"].shape[0]\n",
        "print(total_eixample)\n",
        "\n",
        "# In Eixample.\n",
        "eixample_nei = nei_group_nei_min_nights_schema[nei_group_nei_min_nights_schema[\"neighbourhood_group_cleansed\"] == \"Eixample\"].groupby(\"minimum_nights\").size().reset_index(name=\"count\").sort_values(by=\"minimum_nights\", ascending=True)\n",
        "print(eixample_nei)\n",
        "\n",
        "# In Ciutat Vella\n",
        "total_ciutat = nei_group_nei_min_nights_schema[nei_group_nei_min_nights_schema[\"neighbourhood_group_cleansed\"] == \"Ciutat Vella\"].shape[0]\n",
        "print(total_ciutat)\n",
        "\n",
        "ciutat_nei = nei_group_nei_min_nights_schema[nei_group_nei_min_nights_schema[\"neighbourhood_group_cleansed\"] == \"Ciutat Vella\"].groupby(\"minimum_nights\").size().reset_index(name=\"count\").sort_values(by=\"minimum_nights\", ascending=True)\n",
        "print(ciutat_nei)\n",
        "\n",
        "# In Sants-Montjuïc\n",
        "total_montjuic = nei_group_nei_min_nights_schema[nei_group_nei_min_nights_schema[\"neighbourhood_group_cleansed\"] == \"Sants-Montjuïc\"].shape[0]\n",
        "print(total_montjuic)\n",
        "\n",
        "montjuic_nei = nei_group_nei_min_nights_schema[nei_group_nei_min_nights_schema[\"neighbourhood_group_cleansed\"] == \"Sants-Montjuïc\"].groupby(\"minimum_nights\").size().reset_index(name=\"count\").sort_values(by=\"minimum_nights\", ascending=True)\n",
        "print(montjuic_nei)\n",
        "\n",
        "# In Sant Martí\n",
        "total_marti = nei_group_nei_min_nights_schema[nei_group_nei_min_nights_schema[\"neighbourhood_group_cleansed\"] == \"Sant Martí\"].shape[0]\n",
        "print(total_marti)\n",
        "\n",
        "marti_nei = nei_group_nei_min_nights_schema[nei_group_nei_min_nights_schema[\"neighbourhood_group_cleansed\"] == \"Sant Martí\"].groupby(\"minimum_nights\").size().reset_index(name=\"count\").sort_values(by=\"minimum_nights\", ascending=True)\n",
        "print(marti_nei)\n",
        "\n",
        "# In Gràcia\n",
        "total_gracia = nei_group_nei_min_nights_schema[nei_group_nei_min_nights_schema[\"neighbourhood_group_cleansed\"] == \"Gràcia\"].shape[0]\n",
        "print(total_gracia)\n",
        "\n",
        "gracia_nei = nei_group_nei_min_nights_schema[nei_group_nei_min_nights_schema[\"neighbourhood_group_cleansed\"] == \"Gràcia\"].groupby(\"minimum_nights\").size().reset_index(name=\"count\").sort_values(by=\"minimum_nights\", ascending=True)\n",
        "print(gracia_nei)"
      ]
    },
    {
      "attachments": {},
      "cell_type": "markdown",
      "metadata": {
        "colab_type": "text",
        "id": "QaiRUNjvfJbS"
      },
      "source": [
        "**37. Let us check the 'number_of_reviews' column. We can find out the most popular listings based on the number of reviews.**\n",
        "\n",
        "*Here we display top 20 records*"
      ]
    },
    {
      "cell_type": "code",
      "execution_count": 46,
      "metadata": {
        "colab": {
          "base_uri": "https://localhost:8080/",
          "height": 877
        },
        "colab_type": "code",
        "id": "w3IfKgO9ZU7S",
        "outputId": "05d3e643-9954-4a0a-ae1f-a8426e985df3"
      },
      "outputs": [
        {
          "name": "stdout",
          "output_type": "stream",
          "text": [
            "CPU times: user 6.49 ms, sys: 0 ns, total: 6.49 ms\n",
            "Wall time: 6.27 ms\n"
          ]
        },
        {
          "data": {
            "text/html": [
              "<div>\n",
              "<style scoped>\n",
              "    .dataframe tbody tr th:only-of-type {\n",
              "        vertical-align: middle;\n",
              "    }\n",
              "\n",
              "    .dataframe tbody tr th {\n",
              "        vertical-align: top;\n",
              "    }\n",
              "\n",
              "    .dataframe thead th {\n",
              "        text-align: right;\n",
              "    }\n",
              "</style>\n",
              "<table border=\"1\" class=\"dataframe\">\n",
              "  <thead>\n",
              "    <tr style=\"text-align: right;\">\n",
              "      <th></th>\n",
              "      <th>name</th>\n",
              "      <th>host_id</th>\n",
              "      <th>neighbourhood_group_cleansed</th>\n",
              "      <th>neighbourhood_cleansed</th>\n",
              "      <th>latitude</th>\n",
              "      <th>longitude</th>\n",
              "      <th>room_type</th>\n",
              "      <th>price</th>\n",
              "      <th>minimum_nights</th>\n",
              "      <th>number_of_reviews</th>\n",
              "      <th>reviews_per_month</th>\n",
              "      <th>calculated_host_listings_count</th>\n",
              "      <th>availability_365</th>\n",
              "    </tr>\n",
              "  </thead>\n",
              "  <tbody>\n",
              "    <tr>\n",
              "      <th>0</th>\n",
              "      <td>Hostel in Barcelona · ★4.46 · 1 bedroom · 1 be...</td>\n",
              "      <td>9171437</td>\n",
              "      <td>Eixample</td>\n",
              "      <td>la Dreta de l'Eixample</td>\n",
              "      <td>41.396890</td>\n",
              "      <td>2.177240</td>\n",
              "      <td>Shared room</td>\n",
              "      <td>25</td>\n",
              "      <td>1</td>\n",
              "      <td>1941</td>\n",
              "      <td>35.23</td>\n",
              "      <td>6</td>\n",
              "      <td>0</td>\n",
              "    </tr>\n",
              "    <tr>\n",
              "      <th>1</th>\n",
              "      <td>Hostel in Barcelona · ★4.51 · 1 bedroom · 1 be...</td>\n",
              "      <td>428383673</td>\n",
              "      <td>Sant Martí</td>\n",
              "      <td>la Vila Olímpica del Poblenou</td>\n",
              "      <td>41.391068</td>\n",
              "      <td>2.196364</td>\n",
              "      <td>Shared room</td>\n",
              "      <td>19</td>\n",
              "      <td>1</td>\n",
              "      <td>1613</td>\n",
              "      <td>67.30</td>\n",
              "      <td>4</td>\n",
              "      <td>0</td>\n",
              "    </tr>\n",
              "    <tr>\n",
              "      <th>2</th>\n",
              "      <td>Rental unit in Barcelona · ★4.89 · 2 bedrooms ...</td>\n",
              "      <td>5428204</td>\n",
              "      <td>Eixample</td>\n",
              "      <td>la Nova Esquerra de l'Eixample</td>\n",
              "      <td>41.380780</td>\n",
              "      <td>2.145800</td>\n",
              "      <td>Entire home/apt</td>\n",
              "      <td>120</td>\n",
              "      <td>1</td>\n",
              "      <td>1147</td>\n",
              "      <td>8.82</td>\n",
              "      <td>1</td>\n",
              "      <td>0</td>\n",
              "    </tr>\n",
              "    <tr>\n",
              "      <th>3</th>\n",
              "      <td>Serviced apartment in Barcelona · ★4.85 · 2 be...</td>\n",
              "      <td>228209257</td>\n",
              "      <td>Gràcia</td>\n",
              "      <td>el Camp d'en Grassot i Gràcia Nova</td>\n",
              "      <td>41.403200</td>\n",
              "      <td>2.169750</td>\n",
              "      <td>Entire home/apt</td>\n",
              "      <td>162</td>\n",
              "      <td>1</td>\n",
              "      <td>1044</td>\n",
              "      <td>17.63</td>\n",
              "      <td>3</td>\n",
              "      <td>0</td>\n",
              "    </tr>\n",
              "    <tr>\n",
              "      <th>4</th>\n",
              "      <td>Hostel in BARCELONA · ★4.50 · 1 bedroom · 1 pr...</td>\n",
              "      <td>181287056</td>\n",
              "      <td>Eixample</td>\n",
              "      <td>la Dreta de l'Eixample</td>\n",
              "      <td>41.390083</td>\n",
              "      <td>2.177133</td>\n",
              "      <td>Hotel room</td>\n",
              "      <td>79</td>\n",
              "      <td>1</td>\n",
              "      <td>1036</td>\n",
              "      <td>15.39</td>\n",
              "      <td>3</td>\n",
              "      <td>136</td>\n",
              "    </tr>\n",
              "    <tr>\n",
              "      <th>5</th>\n",
              "      <td>Hotel in Barcelona · ★4.42 · Studio · 1 bed · ...</td>\n",
              "      <td>413277396</td>\n",
              "      <td>Sant Martí</td>\n",
              "      <td>el Camp de l'Arpa del Clot</td>\n",
              "      <td>41.407784</td>\n",
              "      <td>2.185361</td>\n",
              "      <td>Private room</td>\n",
              "      <td>80</td>\n",
              "      <td>1</td>\n",
              "      <td>1004</td>\n",
              "      <td>39.58</td>\n",
              "      <td>2</td>\n",
              "      <td>0</td>\n",
              "    </tr>\n",
              "    <tr>\n",
              "      <th>6</th>\n",
              "      <td>Hotel in Barcelona · ★4.76 · 1 bedroom · 1 bed...</td>\n",
              "      <td>348675198</td>\n",
              "      <td>Eixample</td>\n",
              "      <td>la Dreta de l'Eixample</td>\n",
              "      <td>41.396280</td>\n",
              "      <td>2.163210</td>\n",
              "      <td>Private room</td>\n",
              "      <td>107</td>\n",
              "      <td>1</td>\n",
              "      <td>960</td>\n",
              "      <td>29.81</td>\n",
              "      <td>3</td>\n",
              "      <td>351</td>\n",
              "    </tr>\n",
              "    <tr>\n",
              "      <th>7</th>\n",
              "      <td>Boutique hotel in Barcelona · ★4.82 · 1 bedroo...</td>\n",
              "      <td>184427141</td>\n",
              "      <td>Ciutat Vella</td>\n",
              "      <td>el Barri Gòtic</td>\n",
              "      <td>41.384632</td>\n",
              "      <td>2.177421</td>\n",
              "      <td>Hotel room</td>\n",
              "      <td>105</td>\n",
              "      <td>1</td>\n",
              "      <td>954</td>\n",
              "      <td>14.43</td>\n",
              "      <td>2</td>\n",
              "      <td>0</td>\n",
              "    </tr>\n",
              "    <tr>\n",
              "      <th>8</th>\n",
              "      <td>casa particular in Barcelona · ★4.61 · 1 bedro...</td>\n",
              "      <td>5223863</td>\n",
              "      <td>Ciutat Vella</td>\n",
              "      <td>el Barri Gòtic</td>\n",
              "      <td>41.380424</td>\n",
              "      <td>2.175383</td>\n",
              "      <td>Private room</td>\n",
              "      <td>53</td>\n",
              "      <td>1</td>\n",
              "      <td>915</td>\n",
              "      <td>7.10</td>\n",
              "      <td>3</td>\n",
              "      <td>0</td>\n",
              "    </tr>\n",
              "    <tr>\n",
              "      <th>9</th>\n",
              "      <td>Rental unit in Barcelona · ★4.68 · 1 bedroom ·...</td>\n",
              "      <td>47171261</td>\n",
              "      <td>Eixample</td>\n",
              "      <td>la Dreta de l'Eixample</td>\n",
              "      <td>41.399460</td>\n",
              "      <td>2.173040</td>\n",
              "      <td>Entire home/apt</td>\n",
              "      <td>93</td>\n",
              "      <td>2</td>\n",
              "      <td>904</td>\n",
              "      <td>16.52</td>\n",
              "      <td>79</td>\n",
              "      <td>0</td>\n",
              "    </tr>\n",
              "    <tr>\n",
              "      <th>10</th>\n",
              "      <td>Serviced apartment in Barcelona · ★4.64 · 1 be...</td>\n",
              "      <td>5223863</td>\n",
              "      <td>Ciutat Vella</td>\n",
              "      <td>el Barri Gòtic</td>\n",
              "      <td>41.380230</td>\n",
              "      <td>2.175640</td>\n",
              "      <td>Private room</td>\n",
              "      <td>54</td>\n",
              "      <td>1</td>\n",
              "      <td>904</td>\n",
              "      <td>6.94</td>\n",
              "      <td>3</td>\n",
              "      <td>15</td>\n",
              "    </tr>\n",
              "    <tr>\n",
              "      <th>11</th>\n",
              "      <td>Hostel in Barcelona · ★4.38 · 1 bedroom · 1 be...</td>\n",
              "      <td>237151305</td>\n",
              "      <td>Eixample</td>\n",
              "      <td>la Dreta de l'Eixample</td>\n",
              "      <td>41.386210</td>\n",
              "      <td>2.167630</td>\n",
              "      <td>Shared room</td>\n",
              "      <td>16</td>\n",
              "      <td>1</td>\n",
              "      <td>832</td>\n",
              "      <td>14.96</td>\n",
              "      <td>11</td>\n",
              "      <td>0</td>\n",
              "    </tr>\n",
              "    <tr>\n",
              "      <th>12</th>\n",
              "      <td>Serviced apartment in Barcelona · ★4.72 · 1 be...</td>\n",
              "      <td>98330509</td>\n",
              "      <td>Eixample</td>\n",
              "      <td>la Sagrada Família</td>\n",
              "      <td>41.403490</td>\n",
              "      <td>2.175120</td>\n",
              "      <td>Entire home/apt</td>\n",
              "      <td>85</td>\n",
              "      <td>2</td>\n",
              "      <td>824</td>\n",
              "      <td>9.82</td>\n",
              "      <td>4</td>\n",
              "      <td>0</td>\n",
              "    </tr>\n",
              "    <tr>\n",
              "      <th>13</th>\n",
              "      <td>Serviced apartment in Barcelona · ★4.54 · Stud...</td>\n",
              "      <td>93112619</td>\n",
              "      <td>Ciutat Vella</td>\n",
              "      <td>el Barri Gòtic</td>\n",
              "      <td>41.381700</td>\n",
              "      <td>2.174170</td>\n",
              "      <td>Entire home/apt</td>\n",
              "      <td>138</td>\n",
              "      <td>2</td>\n",
              "      <td>786</td>\n",
              "      <td>9.83</td>\n",
              "      <td>2</td>\n",
              "      <td>317</td>\n",
              "    </tr>\n",
              "    <tr>\n",
              "      <th>14</th>\n",
              "      <td>Rental unit in Barcelona · ★4.85 · 2 bedrooms ...</td>\n",
              "      <td>8164313</td>\n",
              "      <td>Eixample</td>\n",
              "      <td>la Dreta de l'Eixample</td>\n",
              "      <td>41.398940</td>\n",
              "      <td>2.172000</td>\n",
              "      <td>Entire home/apt</td>\n",
              "      <td>92</td>\n",
              "      <td>2</td>\n",
              "      <td>764</td>\n",
              "      <td>6.49</td>\n",
              "      <td>4</td>\n",
              "      <td>60</td>\n",
              "    </tr>\n",
              "    <tr>\n",
              "      <th>15</th>\n",
              "      <td>Serviced apartment in Barcelona · ★4.74 · 1 be...</td>\n",
              "      <td>375625</td>\n",
              "      <td>Sant Martí</td>\n",
              "      <td>el Poblenou</td>\n",
              "      <td>41.399090</td>\n",
              "      <td>2.207330</td>\n",
              "      <td>Entire home/apt</td>\n",
              "      <td>94</td>\n",
              "      <td>1</td>\n",
              "      <td>763</td>\n",
              "      <td>6.72</td>\n",
              "      <td>6</td>\n",
              "      <td>284</td>\n",
              "    </tr>\n",
              "    <tr>\n",
              "      <th>16</th>\n",
              "      <td>Loft in Barcelona · ★4.94 · 2 bedrooms · 3 bed...</td>\n",
              "      <td>20886062</td>\n",
              "      <td>Eixample</td>\n",
              "      <td>la Sagrada Família</td>\n",
              "      <td>41.406440</td>\n",
              "      <td>2.175570</td>\n",
              "      <td>Entire home/apt</td>\n",
              "      <td>174</td>\n",
              "      <td>2</td>\n",
              "      <td>755</td>\n",
              "      <td>6.72</td>\n",
              "      <td>2</td>\n",
              "      <td>0</td>\n",
              "    </tr>\n",
              "    <tr>\n",
              "      <th>17</th>\n",
              "      <td>Serviced apartment in Eixample · ★4.85 · 2 bed...</td>\n",
              "      <td>98330509</td>\n",
              "      <td>Eixample</td>\n",
              "      <td>la Dreta de l'Eixample</td>\n",
              "      <td>41.399640</td>\n",
              "      <td>2.171090</td>\n",
              "      <td>Entire home/apt</td>\n",
              "      <td>131</td>\n",
              "      <td>2</td>\n",
              "      <td>751</td>\n",
              "      <td>19.68</td>\n",
              "      <td>4</td>\n",
              "      <td>237</td>\n",
              "    </tr>\n",
              "    <tr>\n",
              "      <th>18</th>\n",
              "      <td>Rental unit in Barcelona · ★4.89 · 3 bedrooms ...</td>\n",
              "      <td>6944520</td>\n",
              "      <td>Sants-Montjuïc</td>\n",
              "      <td>el Poble Sec</td>\n",
              "      <td>41.374130</td>\n",
              "      <td>2.158440</td>\n",
              "      <td>Entire home/apt</td>\n",
              "      <td>134</td>\n",
              "      <td>1</td>\n",
              "      <td>749</td>\n",
              "      <td>6.49</td>\n",
              "      <td>1</td>\n",
              "      <td>205</td>\n",
              "    </tr>\n",
              "    <tr>\n",
              "      <th>19</th>\n",
              "      <td>Rental unit in Barcelona · ★4.91 · 2 bedrooms ...</td>\n",
              "      <td>13772145</td>\n",
              "      <td>Eixample</td>\n",
              "      <td>la Dreta de l'Eixample</td>\n",
              "      <td>41.386160</td>\n",
              "      <td>2.167180</td>\n",
              "      <td>Entire home/apt</td>\n",
              "      <td>133</td>\n",
              "      <td>1</td>\n",
              "      <td>741</td>\n",
              "      <td>6.52</td>\n",
              "      <td>1</td>\n",
              "      <td>90</td>\n",
              "    </tr>\n",
              "  </tbody>\n",
              "</table>\n",
              "</div>"
            ],
            "text/plain": [
              "                                                 name    host_id   \n",
              "0   Hostel in Barcelona · ★4.46 · 1 bedroom · 1 be...    9171437  \\\n",
              "1   Hostel in Barcelona · ★4.51 · 1 bedroom · 1 be...  428383673   \n",
              "2   Rental unit in Barcelona · ★4.89 · 2 bedrooms ...    5428204   \n",
              "3   Serviced apartment in Barcelona · ★4.85 · 2 be...  228209257   \n",
              "4   Hostel in BARCELONA · ★4.50 · 1 bedroom · 1 pr...  181287056   \n",
              "5   Hotel in Barcelona · ★4.42 · Studio · 1 bed · ...  413277396   \n",
              "6   Hotel in Barcelona · ★4.76 · 1 bedroom · 1 bed...  348675198   \n",
              "7   Boutique hotel in Barcelona · ★4.82 · 1 bedroo...  184427141   \n",
              "8   casa particular in Barcelona · ★4.61 · 1 bedro...    5223863   \n",
              "9   Rental unit in Barcelona · ★4.68 · 1 bedroom ·...   47171261   \n",
              "10  Serviced apartment in Barcelona · ★4.64 · 1 be...    5223863   \n",
              "11  Hostel in Barcelona · ★4.38 · 1 bedroom · 1 be...  237151305   \n",
              "12  Serviced apartment in Barcelona · ★4.72 · 1 be...   98330509   \n",
              "13  Serviced apartment in Barcelona · ★4.54 · Stud...   93112619   \n",
              "14  Rental unit in Barcelona · ★4.85 · 2 bedrooms ...    8164313   \n",
              "15  Serviced apartment in Barcelona · ★4.74 · 1 be...     375625   \n",
              "16  Loft in Barcelona · ★4.94 · 2 bedrooms · 3 bed...   20886062   \n",
              "17  Serviced apartment in Eixample · ★4.85 · 2 bed...   98330509   \n",
              "18  Rental unit in Barcelona · ★4.89 · 3 bedrooms ...    6944520   \n",
              "19  Rental unit in Barcelona · ★4.91 · 2 bedrooms ...   13772145   \n",
              "\n",
              "   neighbourhood_group_cleansed              neighbourhood_cleansed   \n",
              "0                      Eixample              la Dreta de l'Eixample  \\\n",
              "1                    Sant Martí       la Vila Olímpica del Poblenou   \n",
              "2                      Eixample      la Nova Esquerra de l'Eixample   \n",
              "3                        Gràcia  el Camp d'en Grassot i Gràcia Nova   \n",
              "4                      Eixample              la Dreta de l'Eixample   \n",
              "5                    Sant Martí          el Camp de l'Arpa del Clot   \n",
              "6                      Eixample              la Dreta de l'Eixample   \n",
              "7                  Ciutat Vella                      el Barri Gòtic   \n",
              "8                  Ciutat Vella                      el Barri Gòtic   \n",
              "9                      Eixample              la Dreta de l'Eixample   \n",
              "10                 Ciutat Vella                      el Barri Gòtic   \n",
              "11                     Eixample              la Dreta de l'Eixample   \n",
              "12                     Eixample                  la Sagrada Família   \n",
              "13                 Ciutat Vella                      el Barri Gòtic   \n",
              "14                     Eixample              la Dreta de l'Eixample   \n",
              "15                   Sant Martí                         el Poblenou   \n",
              "16                     Eixample                  la Sagrada Família   \n",
              "17                     Eixample              la Dreta de l'Eixample   \n",
              "18               Sants-Montjuïc                        el Poble Sec   \n",
              "19                     Eixample              la Dreta de l'Eixample   \n",
              "\n",
              "     latitude  longitude        room_type  price  minimum_nights   \n",
              "0   41.396890   2.177240      Shared room     25               1  \\\n",
              "1   41.391068   2.196364      Shared room     19               1   \n",
              "2   41.380780   2.145800  Entire home/apt    120               1   \n",
              "3   41.403200   2.169750  Entire home/apt    162               1   \n",
              "4   41.390083   2.177133       Hotel room     79               1   \n",
              "5   41.407784   2.185361     Private room     80               1   \n",
              "6   41.396280   2.163210     Private room    107               1   \n",
              "7   41.384632   2.177421       Hotel room    105               1   \n",
              "8   41.380424   2.175383     Private room     53               1   \n",
              "9   41.399460   2.173040  Entire home/apt     93               2   \n",
              "10  41.380230   2.175640     Private room     54               1   \n",
              "11  41.386210   2.167630      Shared room     16               1   \n",
              "12  41.403490   2.175120  Entire home/apt     85               2   \n",
              "13  41.381700   2.174170  Entire home/apt    138               2   \n",
              "14  41.398940   2.172000  Entire home/apt     92               2   \n",
              "15  41.399090   2.207330  Entire home/apt     94               1   \n",
              "16  41.406440   2.175570  Entire home/apt    174               2   \n",
              "17  41.399640   2.171090  Entire home/apt    131               2   \n",
              "18  41.374130   2.158440  Entire home/apt    134               1   \n",
              "19  41.386160   2.167180  Entire home/apt    133               1   \n",
              "\n",
              "    number_of_reviews  reviews_per_month  calculated_host_listings_count   \n",
              "0                1941              35.23                               6  \\\n",
              "1                1613              67.30                               4   \n",
              "2                1147               8.82                               1   \n",
              "3                1044              17.63                               3   \n",
              "4                1036              15.39                               3   \n",
              "5                1004              39.58                               2   \n",
              "6                 960              29.81                               3   \n",
              "7                 954              14.43                               2   \n",
              "8                 915               7.10                               3   \n",
              "9                 904              16.52                              79   \n",
              "10                904               6.94                               3   \n",
              "11                832              14.96                              11   \n",
              "12                824               9.82                               4   \n",
              "13                786               9.83                               2   \n",
              "14                764               6.49                               4   \n",
              "15                763               6.72                               6   \n",
              "16                755               6.72                               2   \n",
              "17                751              19.68                               4   \n",
              "18                749               6.49                               1   \n",
              "19                741               6.52                               1   \n",
              "\n",
              "    availability_365  \n",
              "0                  0  \n",
              "1                  0  \n",
              "2                  0  \n",
              "3                  0  \n",
              "4                136  \n",
              "5                  0  \n",
              "6                351  \n",
              "7                  0  \n",
              "8                  0  \n",
              "9                  0  \n",
              "10                15  \n",
              "11                 0  \n",
              "12                 0  \n",
              "13               317  \n",
              "14                60  \n",
              "15               284  \n",
              "16                 0  \n",
              "17               237  \n",
              "18               205  \n",
              "19                90  "
            ]
          },
          "execution_count": 46,
          "metadata": {},
          "output_type": "execute_result"
        }
      ],
      "source": [
        "%%time\n",
        "most_reviewed_df = airbnb_schema.sort_values(by='number_of_reviews', ascending=False).head(20)\n",
        "most_reviewed_df = pd.DataFrame(most_reviewed_df)\n",
        "\n",
        "most_reviewed_df.reset_index(drop=True, inplace=True)\n",
        "most_reviewed_df[['name', 'neighbourhood_group_cleansed', 'neighbourhood_cleansed', 'room_type', 'number_of_reviews']]\n",
        "most_reviewed_df.head(20)"
      ]
    },
    {
      "attachments": {},
      "cell_type": "markdown",
      "metadata": {
        "colab_type": "text",
        "id": "asOD3_eqfIXQ"
      },
      "source": [
        "*As we can see, the host with name = 'Hostel in Barcelona' and host_id = '9171437' has the most reviews (1941 reviews)*"
      ]
    },
    {
      "attachments": {},
      "cell_type": "markdown",
      "metadata": {
        "colab_type": "text",
        "id": "Wws0IRpTzXO5"
      },
      "source": [
        "**38. The average price for the listing for the 20 most reviewed listings is $91. We can also observe that 11/20 listings are Entire home/apt, 4/20 are Private room, 3/20 are Shared room and only 2 in the top 20 is Hotel room**"
      ]
    },
    {
      "cell_type": "code",
      "execution_count": 47,
      "metadata": {
        "colab": {
          "base_uri": "https://localhost:8080/",
          "height": 118
        },
        "colab_type": "code",
        "id": "5o8Ckoevf9Hi",
        "outputId": "2b8f1ee0-39b0-454a-f3e5-c39dc6059599"
      },
      "outputs": [
        {
          "name": "stdout",
          "output_type": "stream",
          "text": [
            "94.7\n",
            "CPU times: user 1.26 ms, sys: 294 µs, total: 1.56 ms\n",
            "Wall time: 2.3 ms\n"
          ]
        }
      ],
      "source": [
        "%%time\n",
        "print(most_reviewed_df['price'].mean())"
      ]
    },
    {
      "attachments": {},
      "cell_type": "markdown",
      "metadata": {
        "colab_type": "text",
        "id": "mzzKJSSOkTzF"
      },
      "source": [
        "**39. We will now look at the latitude and longitude columns in the dataset. We can take a look at how the listings are distributed across geography. This will also tell us that which geographic region shows promise for starting a new listing.**"
      ]
    },
    {
      "cell_type": "code",
      "execution_count": 48,
      "metadata": {
        "colab": {
          "base_uri": "https://localhost:8080/",
          "height": 380
        },
        "colab_type": "code",
        "id": "LJCPl72sfEJL",
        "outputId": "d61105a7-7e92-4625-ca5d-2e6cef5c19b3"
      },
      "outputs": [
        {
          "name": "stdout",
          "output_type": "stream",
          "text": [
            "CPU times: user 60.7 ms, sys: 43 ms, total: 104 ms\n",
            "Wall time: 130 ms\n"
          ]
        },
        {
          "data": {
            "text/plain": [
              "<Axes: xlabel='longitude', ylabel='latitude'>"
            ]
          },
          "execution_count": 48,
          "metadata": {},
          "output_type": "execute_result"
        },
        {
          "data": {
            "image/png": "[encoded data removed]",
            "text/plain": [
              "<Figure size 1000x600 with 2 Axes>"
            ]
          },
          "metadata": {},
          "output_type": "display_data"
        }
      ],
      "source": [
        "%%time\n",
        "import matplotlib.pyplot as matp\n",
        "airbnb_schema_pd_trimmed = airbnb_schema[airbnb_schema['price'] < 500]\n",
        "airbnb_schema_pd_trimmed.plot.scatter(x='longitude', y='latitude', c='price', cmap=matp.get_cmap('viridis'), figsize=(10,6))"
      ]
    },
    {
      "cell_type": "markdown",
      "metadata": {},
      "source": [
        "Here is the total execution time of the notebook"
      ]
    },
    {
      "cell_type": "code",
      "execution_count": 49,
      "metadata": {},
      "outputs": [
        {
          "name": "stdout",
          "output_type": "stream",
          "text": [
            "CPU times: user 3 µs, sys: 0 ns, total: 3 µs\n",
            "Wall time: 6.68 µs\n",
            "Total execution time: 4.11 seconds\n"
          ]
        }
      ],
      "source": [
        "%time\n",
        "end_time = time.time()\n",
        "print(f\"Total execution time: {(end_time - start_time):.2f} seconds\")"
      ]
    }
  ],
  "metadata": {
    "colab": {
      "collapsed_sections": [],
      "name": "Data_Analyis_1.ipynb",
      "provenance": []
    },
    "kernelspec": {
      "display_name": "Python 3",
      "name": "python3"
    },
    "language_info": {
      "codemirror_mode": {
        "name": "ipython",
        "version": 3
      },
      "file_extension": ".py",
      "mimetype": "text/x-python",
      "name": "python",
      "nbconvert_exporter": "python",
      "pygments_lexer": "ipython3",
      "version": "3.8.10"
    }
  },
  "nbformat": 4,
  "nbformat_minor": 0
}
